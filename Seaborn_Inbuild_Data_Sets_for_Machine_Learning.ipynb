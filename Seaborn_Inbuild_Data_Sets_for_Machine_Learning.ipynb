{
 "cells": [
  {
   "cell_type": "markdown",
   "id": "7547b3cd",
   "metadata": {
    "papermill": {
     "duration": 0.01524,
     "end_time": "2023-03-15T14:21:58.073128",
     "exception": false,
     "start_time": "2023-03-15T14:21:58.057888",
     "status": "completed"
    },
    "tags": []
   },
   "source": [
    "# **[YBI Foundation](https://www.ybifoundation.org/)** \n",
    "click to know more"
   ]
  },
  {
   "cell_type": "markdown",
   "id": "dee6d77b",
   "metadata": {
    "papermill": {
     "duration": 0.013848,
     "end_time": "2023-03-15T14:21:58.101305",
     "exception": false,
     "start_time": "2023-03-15T14:21:58.087457",
     "status": "completed"
    },
    "tags": []
   },
   "source": [
    "**Load an example dataset from the online repository (requires internet)**\n",
    "\n",
    "[Seaborn Inbuid Dataset](https://seaborn.pydata.org/generated/seaborn.load_dataset.html)"
   ]
  },
  {
   "cell_type": "code",
   "execution_count": 1,
   "id": "5a92e13b",
   "metadata": {
    "execution": {
     "iopub.execute_input": "2023-03-15T14:21:58.132681Z",
     "iopub.status.busy": "2023-03-15T14:21:58.131533Z",
     "iopub.status.idle": "2023-03-15T14:21:59.269659Z",
     "shell.execute_reply": "2023-03-15T14:21:59.268496Z"
    },
    "papermill": {
     "duration": 1.156823,
     "end_time": "2023-03-15T14:21:59.272811",
     "exception": false,
     "start_time": "2023-03-15T14:21:58.115988",
     "status": "completed"
    },
    "tags": []
   },
   "outputs": [],
   "source": [
    "# import library\n",
    "\n",
    "import seaborn as sns"
   ]
  },
  {
   "cell_type": "code",
   "execution_count": 2,
   "id": "dc95ed67",
   "metadata": {
    "execution": {
     "iopub.execute_input": "2023-03-15T14:21:59.304850Z",
     "iopub.status.busy": "2023-03-15T14:21:59.304186Z",
     "iopub.status.idle": "2023-03-15T14:21:59.406893Z",
     "shell.execute_reply": "2023-03-15T14:21:59.405589Z"
    },
    "papermill": {
     "duration": 0.121351,
     "end_time": "2023-03-15T14:21:59.409682",
     "exception": false,
     "start_time": "2023-03-15T14:21:59.288331",
     "status": "completed"
    },
    "tags": []
   },
   "outputs": [
    {
     "data": {
      "text/plain": [
       "['anagrams',\n",
       " 'anscombe',\n",
       " 'attention',\n",
       " 'brain_networks',\n",
       " 'car_crashes',\n",
       " 'diamonds',\n",
       " 'dots',\n",
       " 'dowjones',\n",
       " 'exercise',\n",
       " 'flights',\n",
       " 'fmri',\n",
       " 'geyser',\n",
       " 'glue',\n",
       " 'healthexp',\n",
       " 'iris',\n",
       " 'mpg',\n",
       " 'penguins',\n",
       " 'planets',\n",
       " 'seaice',\n",
       " 'taxis',\n",
       " 'tips',\n",
       " 'titanic']"
      ]
     },
     "execution_count": 2,
     "metadata": {},
     "output_type": "execute_result"
    }
   ],
   "source": [
    "# get names of inbuild datasets\n",
    "\n",
    "sns.get_dataset_names()"
   ]
  },
  {
   "cell_type": "markdown",
   "id": "b7cb91d7",
   "metadata": {
    "papermill": {
     "duration": 0.013857,
     "end_time": "2023-03-15T14:21:59.438046",
     "exception": false,
     "start_time": "2023-03-15T14:21:59.424189",
     "status": "completed"
    },
    "tags": []
   },
   "source": [
    "# **Anagrams Dataset**"
   ]
  },
  {
   "cell_type": "code",
   "execution_count": 3,
   "id": "8ef1fc66",
   "metadata": {
    "execution": {
     "iopub.execute_input": "2023-03-15T14:21:59.468820Z",
     "iopub.status.busy": "2023-03-15T14:21:59.467971Z",
     "iopub.status.idle": "2023-03-15T14:21:59.837443Z",
     "shell.execute_reply": "2023-03-15T14:21:59.836448Z"
    },
    "papermill": {
     "duration": 0.388045,
     "end_time": "2023-03-15T14:21:59.840273",
     "exception": false,
     "start_time": "2023-03-15T14:21:59.452228",
     "status": "completed"
    },
    "tags": []
   },
   "outputs": [],
   "source": [
    "# load inbuild dataset by name\n",
    "\n",
    "anagrams = sns.load_dataset('anagrams')"
   ]
  },
  {
   "cell_type": "code",
   "execution_count": 4,
   "id": "8adac991",
   "metadata": {
    "execution": {
     "iopub.execute_input": "2023-03-15T14:21:59.871450Z",
     "iopub.status.busy": "2023-03-15T14:21:59.870293Z",
     "iopub.status.idle": "2023-03-15T14:21:59.895877Z",
     "shell.execute_reply": "2023-03-15T14:21:59.894679Z"
    },
    "papermill": {
     "duration": 0.044124,
     "end_time": "2023-03-15T14:21:59.898680",
     "exception": false,
     "start_time": "2023-03-15T14:21:59.854556",
     "status": "completed"
    },
    "tags": []
   },
   "outputs": [
    {
     "data": {
      "text/html": [
       "<div>\n",
       "<style scoped>\n",
       "    .dataframe tbody tr th:only-of-type {\n",
       "        vertical-align: middle;\n",
       "    }\n",
       "\n",
       "    .dataframe tbody tr th {\n",
       "        vertical-align: top;\n",
       "    }\n",
       "\n",
       "    .dataframe thead th {\n",
       "        text-align: right;\n",
       "    }\n",
       "</style>\n",
       "<table border=\"1\" class=\"dataframe\">\n",
       "  <thead>\n",
       "    <tr style=\"text-align: right;\">\n",
       "      <th></th>\n",
       "      <th>subidr</th>\n",
       "      <th>attnr</th>\n",
       "      <th>num1</th>\n",
       "      <th>num2</th>\n",
       "      <th>num3</th>\n",
       "    </tr>\n",
       "  </thead>\n",
       "  <tbody>\n",
       "    <tr>\n",
       "      <th>0</th>\n",
       "      <td>1</td>\n",
       "      <td>divided</td>\n",
       "      <td>2</td>\n",
       "      <td>4.0</td>\n",
       "      <td>7</td>\n",
       "    </tr>\n",
       "    <tr>\n",
       "      <th>1</th>\n",
       "      <td>2</td>\n",
       "      <td>divided</td>\n",
       "      <td>3</td>\n",
       "      <td>4.0</td>\n",
       "      <td>5</td>\n",
       "    </tr>\n",
       "    <tr>\n",
       "      <th>2</th>\n",
       "      <td>3</td>\n",
       "      <td>divided</td>\n",
       "      <td>3</td>\n",
       "      <td>5.0</td>\n",
       "      <td>6</td>\n",
       "    </tr>\n",
       "    <tr>\n",
       "      <th>3</th>\n",
       "      <td>4</td>\n",
       "      <td>divided</td>\n",
       "      <td>5</td>\n",
       "      <td>7.0</td>\n",
       "      <td>5</td>\n",
       "    </tr>\n",
       "    <tr>\n",
       "      <th>4</th>\n",
       "      <td>5</td>\n",
       "      <td>divided</td>\n",
       "      <td>4</td>\n",
       "      <td>5.0</td>\n",
       "      <td>8</td>\n",
       "    </tr>\n",
       "  </tbody>\n",
       "</table>\n",
       "</div>"
      ],
      "text/plain": [
       "   subidr    attnr  num1  num2  num3\n",
       "0       1  divided     2   4.0     7\n",
       "1       2  divided     3   4.0     5\n",
       "2       3  divided     3   5.0     6\n",
       "3       4  divided     5   7.0     5\n",
       "4       5  divided     4   5.0     8"
      ]
     },
     "execution_count": 4,
     "metadata": {},
     "output_type": "execute_result"
    }
   ],
   "source": [
    "anagrams.head()"
   ]
  },
  {
   "cell_type": "code",
   "execution_count": 5,
   "id": "007eb645",
   "metadata": {
    "execution": {
     "iopub.execute_input": "2023-03-15T14:21:59.930551Z",
     "iopub.status.busy": "2023-03-15T14:21:59.929729Z",
     "iopub.status.idle": "2023-03-15T14:21:59.942393Z",
     "shell.execute_reply": "2023-03-15T14:21:59.941305Z"
    },
    "papermill": {
     "duration": 0.031192,
     "end_time": "2023-03-15T14:21:59.944835",
     "exception": false,
     "start_time": "2023-03-15T14:21:59.913643",
     "status": "completed"
    },
    "tags": []
   },
   "outputs": [
    {
     "data": {
      "text/html": [
       "<div>\n",
       "<style scoped>\n",
       "    .dataframe tbody tr th:only-of-type {\n",
       "        vertical-align: middle;\n",
       "    }\n",
       "\n",
       "    .dataframe tbody tr th {\n",
       "        vertical-align: top;\n",
       "    }\n",
       "\n",
       "    .dataframe thead th {\n",
       "        text-align: right;\n",
       "    }\n",
       "</style>\n",
       "<table border=\"1\" class=\"dataframe\">\n",
       "  <thead>\n",
       "    <tr style=\"text-align: right;\">\n",
       "      <th></th>\n",
       "      <th>subidr</th>\n",
       "      <th>attnr</th>\n",
       "      <th>num1</th>\n",
       "      <th>num2</th>\n",
       "      <th>num3</th>\n",
       "    </tr>\n",
       "  </thead>\n",
       "  <tbody>\n",
       "    <tr>\n",
       "      <th>0</th>\n",
       "      <td>1</td>\n",
       "      <td>divided</td>\n",
       "      <td>2</td>\n",
       "      <td>4.0</td>\n",
       "      <td>7</td>\n",
       "    </tr>\n",
       "    <tr>\n",
       "      <th>1</th>\n",
       "      <td>2</td>\n",
       "      <td>divided</td>\n",
       "      <td>3</td>\n",
       "      <td>4.0</td>\n",
       "      <td>5</td>\n",
       "    </tr>\n",
       "    <tr>\n",
       "      <th>2</th>\n",
       "      <td>3</td>\n",
       "      <td>divided</td>\n",
       "      <td>3</td>\n",
       "      <td>5.0</td>\n",
       "      <td>6</td>\n",
       "    </tr>\n",
       "    <tr>\n",
       "      <th>3</th>\n",
       "      <td>4</td>\n",
       "      <td>divided</td>\n",
       "      <td>5</td>\n",
       "      <td>7.0</td>\n",
       "      <td>5</td>\n",
       "    </tr>\n",
       "    <tr>\n",
       "      <th>4</th>\n",
       "      <td>5</td>\n",
       "      <td>divided</td>\n",
       "      <td>4</td>\n",
       "      <td>5.0</td>\n",
       "      <td>8</td>\n",
       "    </tr>\n",
       "  </tbody>\n",
       "</table>\n",
       "</div>"
      ],
      "text/plain": [
       "   subidr    attnr  num1  num2  num3\n",
       "0       1  divided     2   4.0     7\n",
       "1       2  divided     3   4.0     5\n",
       "2       3  divided     3   5.0     6\n",
       "3       4  divided     5   7.0     5\n",
       "4       5  divided     4   5.0     8"
      ]
     },
     "execution_count": 5,
     "metadata": {},
     "output_type": "execute_result"
    }
   ],
   "source": [
    "anagrams.head()"
   ]
  },
  {
   "cell_type": "markdown",
   "id": "97be8a97",
   "metadata": {
    "papermill": {
     "duration": 0.014337,
     "end_time": "2023-03-15T14:21:59.973998",
     "exception": false,
     "start_time": "2023-03-15T14:21:59.959661",
     "status": "completed"
    },
    "tags": []
   },
   "source": [
    "# **Anscombe**"
   ]
  },
  {
   "cell_type": "code",
   "execution_count": 6,
   "id": "e76a1746",
   "metadata": {
    "execution": {
     "iopub.execute_input": "2023-03-15T14:22:00.005451Z",
     "iopub.status.busy": "2023-03-15T14:22:00.004560Z",
     "iopub.status.idle": "2023-03-15T14:22:00.277388Z",
     "shell.execute_reply": "2023-03-15T14:22:00.276421Z"
    },
    "papermill": {
     "duration": 0.291554,
     "end_time": "2023-03-15T14:22:00.280119",
     "exception": false,
     "start_time": "2023-03-15T14:21:59.988565",
     "status": "completed"
    },
    "tags": []
   },
   "outputs": [],
   "source": [
    "# load inbuild dataset by name\n",
    "\n",
    "anscombe = sns.load_dataset('anscombe')"
   ]
  },
  {
   "cell_type": "code",
   "execution_count": 7,
   "id": "63490df7",
   "metadata": {
    "execution": {
     "iopub.execute_input": "2023-03-15T14:22:00.311355Z",
     "iopub.status.busy": "2023-03-15T14:22:00.310724Z",
     "iopub.status.idle": "2023-03-15T14:22:00.322600Z",
     "shell.execute_reply": "2023-03-15T14:22:00.321510Z"
    },
    "papermill": {
     "duration": 0.030219,
     "end_time": "2023-03-15T14:22:00.325118",
     "exception": false,
     "start_time": "2023-03-15T14:22:00.294899",
     "status": "completed"
    },
    "tags": []
   },
   "outputs": [
    {
     "data": {
      "text/html": [
       "<div>\n",
       "<style scoped>\n",
       "    .dataframe tbody tr th:only-of-type {\n",
       "        vertical-align: middle;\n",
       "    }\n",
       "\n",
       "    .dataframe tbody tr th {\n",
       "        vertical-align: top;\n",
       "    }\n",
       "\n",
       "    .dataframe thead th {\n",
       "        text-align: right;\n",
       "    }\n",
       "</style>\n",
       "<table border=\"1\" class=\"dataframe\">\n",
       "  <thead>\n",
       "    <tr style=\"text-align: right;\">\n",
       "      <th></th>\n",
       "      <th>dataset</th>\n",
       "      <th>x</th>\n",
       "      <th>y</th>\n",
       "    </tr>\n",
       "  </thead>\n",
       "  <tbody>\n",
       "    <tr>\n",
       "      <th>0</th>\n",
       "      <td>I</td>\n",
       "      <td>10.0</td>\n",
       "      <td>8.04</td>\n",
       "    </tr>\n",
       "    <tr>\n",
       "      <th>1</th>\n",
       "      <td>I</td>\n",
       "      <td>8.0</td>\n",
       "      <td>6.95</td>\n",
       "    </tr>\n",
       "    <tr>\n",
       "      <th>2</th>\n",
       "      <td>I</td>\n",
       "      <td>13.0</td>\n",
       "      <td>7.58</td>\n",
       "    </tr>\n",
       "    <tr>\n",
       "      <th>3</th>\n",
       "      <td>I</td>\n",
       "      <td>9.0</td>\n",
       "      <td>8.81</td>\n",
       "    </tr>\n",
       "    <tr>\n",
       "      <th>4</th>\n",
       "      <td>I</td>\n",
       "      <td>11.0</td>\n",
       "      <td>8.33</td>\n",
       "    </tr>\n",
       "  </tbody>\n",
       "</table>\n",
       "</div>"
      ],
      "text/plain": [
       "  dataset     x     y\n",
       "0       I  10.0  8.04\n",
       "1       I   8.0  6.95\n",
       "2       I  13.0  7.58\n",
       "3       I   9.0  8.81\n",
       "4       I  11.0  8.33"
      ]
     },
     "execution_count": 7,
     "metadata": {},
     "output_type": "execute_result"
    }
   ],
   "source": [
    "anscombe.head()"
   ]
  },
  {
   "cell_type": "code",
   "execution_count": 8,
   "id": "6ecae7d8",
   "metadata": {
    "execution": {
     "iopub.execute_input": "2023-03-15T14:22:00.357493Z",
     "iopub.status.busy": "2023-03-15T14:22:00.356439Z",
     "iopub.status.idle": "2023-03-15T14:22:00.367498Z",
     "shell.execute_reply": "2023-03-15T14:22:00.366345Z"
    },
    "papermill": {
     "duration": 0.02991,
     "end_time": "2023-03-15T14:22:00.369937",
     "exception": false,
     "start_time": "2023-03-15T14:22:00.340027",
     "status": "completed"
    },
    "tags": []
   },
   "outputs": [
    {
     "data": {
      "text/html": [
       "<div>\n",
       "<style scoped>\n",
       "    .dataframe tbody tr th:only-of-type {\n",
       "        vertical-align: middle;\n",
       "    }\n",
       "\n",
       "    .dataframe tbody tr th {\n",
       "        vertical-align: top;\n",
       "    }\n",
       "\n",
       "    .dataframe thead th {\n",
       "        text-align: right;\n",
       "    }\n",
       "</style>\n",
       "<table border=\"1\" class=\"dataframe\">\n",
       "  <thead>\n",
       "    <tr style=\"text-align: right;\">\n",
       "      <th></th>\n",
       "      <th>dataset</th>\n",
       "      <th>x</th>\n",
       "      <th>y</th>\n",
       "    </tr>\n",
       "  </thead>\n",
       "  <tbody>\n",
       "    <tr>\n",
       "      <th>0</th>\n",
       "      <td>I</td>\n",
       "      <td>10.0</td>\n",
       "      <td>8.04</td>\n",
       "    </tr>\n",
       "    <tr>\n",
       "      <th>1</th>\n",
       "      <td>I</td>\n",
       "      <td>8.0</td>\n",
       "      <td>6.95</td>\n",
       "    </tr>\n",
       "    <tr>\n",
       "      <th>2</th>\n",
       "      <td>I</td>\n",
       "      <td>13.0</td>\n",
       "      <td>7.58</td>\n",
       "    </tr>\n",
       "    <tr>\n",
       "      <th>3</th>\n",
       "      <td>I</td>\n",
       "      <td>9.0</td>\n",
       "      <td>8.81</td>\n",
       "    </tr>\n",
       "    <tr>\n",
       "      <th>4</th>\n",
       "      <td>I</td>\n",
       "      <td>11.0</td>\n",
       "      <td>8.33</td>\n",
       "    </tr>\n",
       "  </tbody>\n",
       "</table>\n",
       "</div>"
      ],
      "text/plain": [
       "  dataset     x     y\n",
       "0       I  10.0  8.04\n",
       "1       I   8.0  6.95\n",
       "2       I  13.0  7.58\n",
       "3       I   9.0  8.81\n",
       "4       I  11.0  8.33"
      ]
     },
     "execution_count": 8,
     "metadata": {},
     "output_type": "execute_result"
    }
   ],
   "source": [
    "anscombe.head()"
   ]
  },
  {
   "cell_type": "markdown",
   "id": "b522affa",
   "metadata": {
    "papermill": {
     "duration": 0.014769,
     "end_time": "2023-03-15T14:22:00.400303",
     "exception": false,
     "start_time": "2023-03-15T14:22:00.385534",
     "status": "completed"
    },
    "tags": []
   },
   "source": [
    "# **Attention**"
   ]
  },
  {
   "cell_type": "code",
   "execution_count": 9,
   "id": "9b790c1b",
   "metadata": {
    "execution": {
     "iopub.execute_input": "2023-03-15T14:22:00.432266Z",
     "iopub.status.busy": "2023-03-15T14:22:00.431815Z",
     "iopub.status.idle": "2023-03-15T14:22:00.702543Z",
     "shell.execute_reply": "2023-03-15T14:22:00.701396Z"
    },
    "papermill": {
     "duration": 0.289912,
     "end_time": "2023-03-15T14:22:00.705404",
     "exception": false,
     "start_time": "2023-03-15T14:22:00.415492",
     "status": "completed"
    },
    "tags": []
   },
   "outputs": [],
   "source": [
    "# load inbuild dataset by name\n",
    "\n",
    "attention = sns.load_dataset('attention')"
   ]
  },
  {
   "cell_type": "code",
   "execution_count": 10,
   "id": "855fbe6e",
   "metadata": {
    "execution": {
     "iopub.execute_input": "2023-03-15T14:22:00.738518Z",
     "iopub.status.busy": "2023-03-15T14:22:00.737315Z",
     "iopub.status.idle": "2023-03-15T14:22:00.748724Z",
     "shell.execute_reply": "2023-03-15T14:22:00.747834Z"
    },
    "papermill": {
     "duration": 0.030132,
     "end_time": "2023-03-15T14:22:00.750885",
     "exception": false,
     "start_time": "2023-03-15T14:22:00.720753",
     "status": "completed"
    },
    "tags": []
   },
   "outputs": [
    {
     "data": {
      "text/html": [
       "<div>\n",
       "<style scoped>\n",
       "    .dataframe tbody tr th:only-of-type {\n",
       "        vertical-align: middle;\n",
       "    }\n",
       "\n",
       "    .dataframe tbody tr th {\n",
       "        vertical-align: top;\n",
       "    }\n",
       "\n",
       "    .dataframe thead th {\n",
       "        text-align: right;\n",
       "    }\n",
       "</style>\n",
       "<table border=\"1\" class=\"dataframe\">\n",
       "  <thead>\n",
       "    <tr style=\"text-align: right;\">\n",
       "      <th></th>\n",
       "      <th>Unnamed: 0</th>\n",
       "      <th>subject</th>\n",
       "      <th>attention</th>\n",
       "      <th>solutions</th>\n",
       "      <th>score</th>\n",
       "    </tr>\n",
       "  </thead>\n",
       "  <tbody>\n",
       "    <tr>\n",
       "      <th>0</th>\n",
       "      <td>0</td>\n",
       "      <td>1</td>\n",
       "      <td>divided</td>\n",
       "      <td>1</td>\n",
       "      <td>2.0</td>\n",
       "    </tr>\n",
       "    <tr>\n",
       "      <th>1</th>\n",
       "      <td>1</td>\n",
       "      <td>2</td>\n",
       "      <td>divided</td>\n",
       "      <td>1</td>\n",
       "      <td>3.0</td>\n",
       "    </tr>\n",
       "    <tr>\n",
       "      <th>2</th>\n",
       "      <td>2</td>\n",
       "      <td>3</td>\n",
       "      <td>divided</td>\n",
       "      <td>1</td>\n",
       "      <td>3.0</td>\n",
       "    </tr>\n",
       "    <tr>\n",
       "      <th>3</th>\n",
       "      <td>3</td>\n",
       "      <td>4</td>\n",
       "      <td>divided</td>\n",
       "      <td>1</td>\n",
       "      <td>5.0</td>\n",
       "    </tr>\n",
       "    <tr>\n",
       "      <th>4</th>\n",
       "      <td>4</td>\n",
       "      <td>5</td>\n",
       "      <td>divided</td>\n",
       "      <td>1</td>\n",
       "      <td>4.0</td>\n",
       "    </tr>\n",
       "  </tbody>\n",
       "</table>\n",
       "</div>"
      ],
      "text/plain": [
       "   Unnamed: 0  subject attention  solutions  score\n",
       "0           0        1   divided          1    2.0\n",
       "1           1        2   divided          1    3.0\n",
       "2           2        3   divided          1    3.0\n",
       "3           3        4   divided          1    5.0\n",
       "4           4        5   divided          1    4.0"
      ]
     },
     "execution_count": 10,
     "metadata": {},
     "output_type": "execute_result"
    }
   ],
   "source": [
    "attention.head()"
   ]
  },
  {
   "cell_type": "markdown",
   "id": "65bbb485",
   "metadata": {
    "papermill": {
     "duration": 0.015065,
     "end_time": "2023-03-15T14:22:00.781195",
     "exception": false,
     "start_time": "2023-03-15T14:22:00.766130",
     "status": "completed"
    },
    "tags": []
   },
   "source": [
    "# **Brain Networks**"
   ]
  },
  {
   "cell_type": "code",
   "execution_count": 11,
   "id": "2883e125",
   "metadata": {
    "execution": {
     "iopub.execute_input": "2023-03-15T14:22:00.814889Z",
     "iopub.status.busy": "2023-03-15T14:22:00.813711Z",
     "iopub.status.idle": "2023-03-15T14:22:01.153568Z",
     "shell.execute_reply": "2023-03-15T14:22:01.152415Z"
    },
    "papermill": {
     "duration": 0.359613,
     "end_time": "2023-03-15T14:22:01.156592",
     "exception": false,
     "start_time": "2023-03-15T14:22:00.796979",
     "status": "completed"
    },
    "tags": []
   },
   "outputs": [],
   "source": [
    "# load inbuild dataset by name\n",
    "brain_networks = sns.load_dataset('brain_networks')"
   ]
  },
  {
   "cell_type": "code",
   "execution_count": 12,
   "id": "bf0ed042",
   "metadata": {
    "execution": {
     "iopub.execute_input": "2023-03-15T14:22:01.189434Z",
     "iopub.status.busy": "2023-03-15T14:22:01.189021Z",
     "iopub.status.idle": "2023-03-15T14:22:01.214926Z",
     "shell.execute_reply": "2023-03-15T14:22:01.213683Z"
    },
    "papermill": {
     "duration": 0.045415,
     "end_time": "2023-03-15T14:22:01.217473",
     "exception": false,
     "start_time": "2023-03-15T14:22:01.172058",
     "status": "completed"
    },
    "tags": []
   },
   "outputs": [
    {
     "data": {
      "text/html": [
       "<div>\n",
       "<style scoped>\n",
       "    .dataframe tbody tr th:only-of-type {\n",
       "        vertical-align: middle;\n",
       "    }\n",
       "\n",
       "    .dataframe tbody tr th {\n",
       "        vertical-align: top;\n",
       "    }\n",
       "\n",
       "    .dataframe thead th {\n",
       "        text-align: right;\n",
       "    }\n",
       "</style>\n",
       "<table border=\"1\" class=\"dataframe\">\n",
       "  <thead>\n",
       "    <tr style=\"text-align: right;\">\n",
       "      <th></th>\n",
       "      <th>network</th>\n",
       "      <th>1</th>\n",
       "      <th>1.1</th>\n",
       "      <th>2</th>\n",
       "      <th>2.1</th>\n",
       "      <th>3</th>\n",
       "      <th>3.1</th>\n",
       "      <th>4</th>\n",
       "      <th>4.1</th>\n",
       "      <th>5</th>\n",
       "      <th>...</th>\n",
       "      <th>16.5</th>\n",
       "      <th>16.6</th>\n",
       "      <th>16.7</th>\n",
       "      <th>17</th>\n",
       "      <th>17.1</th>\n",
       "      <th>17.2</th>\n",
       "      <th>17.3</th>\n",
       "      <th>17.4</th>\n",
       "      <th>17.5</th>\n",
       "      <th>17.6</th>\n",
       "    </tr>\n",
       "  </thead>\n",
       "  <tbody>\n",
       "    <tr>\n",
       "      <th>0</th>\n",
       "      <td>node</td>\n",
       "      <td>1</td>\n",
       "      <td>1</td>\n",
       "      <td>1</td>\n",
       "      <td>1</td>\n",
       "      <td>1</td>\n",
       "      <td>1</td>\n",
       "      <td>1</td>\n",
       "      <td>1</td>\n",
       "      <td>1</td>\n",
       "      <td>...</td>\n",
       "      <td>3</td>\n",
       "      <td>4</td>\n",
       "      <td>4</td>\n",
       "      <td>1</td>\n",
       "      <td>1</td>\n",
       "      <td>2</td>\n",
       "      <td>2</td>\n",
       "      <td>3</td>\n",
       "      <td>3</td>\n",
       "      <td>4</td>\n",
       "    </tr>\n",
       "    <tr>\n",
       "      <th>1</th>\n",
       "      <td>hemi</td>\n",
       "      <td>lh</td>\n",
       "      <td>rh</td>\n",
       "      <td>lh</td>\n",
       "      <td>rh</td>\n",
       "      <td>lh</td>\n",
       "      <td>rh</td>\n",
       "      <td>lh</td>\n",
       "      <td>rh</td>\n",
       "      <td>lh</td>\n",
       "      <td>...</td>\n",
       "      <td>rh</td>\n",
       "      <td>lh</td>\n",
       "      <td>rh</td>\n",
       "      <td>lh</td>\n",
       "      <td>rh</td>\n",
       "      <td>lh</td>\n",
       "      <td>rh</td>\n",
       "      <td>lh</td>\n",
       "      <td>rh</td>\n",
       "      <td>lh</td>\n",
       "    </tr>\n",
       "    <tr>\n",
       "      <th>2</th>\n",
       "      <td>NaN</td>\n",
       "      <td>NaN</td>\n",
       "      <td>NaN</td>\n",
       "      <td>NaN</td>\n",
       "      <td>NaN</td>\n",
       "      <td>NaN</td>\n",
       "      <td>NaN</td>\n",
       "      <td>NaN</td>\n",
       "      <td>NaN</td>\n",
       "      <td>NaN</td>\n",
       "      <td>...</td>\n",
       "      <td>NaN</td>\n",
       "      <td>NaN</td>\n",
       "      <td>NaN</td>\n",
       "      <td>NaN</td>\n",
       "      <td>NaN</td>\n",
       "      <td>NaN</td>\n",
       "      <td>NaN</td>\n",
       "      <td>NaN</td>\n",
       "      <td>NaN</td>\n",
       "      <td>NaN</td>\n",
       "    </tr>\n",
       "    <tr>\n",
       "      <th>3</th>\n",
       "      <td>0</td>\n",
       "      <td>56.05574417114258</td>\n",
       "      <td>92.03103637695312</td>\n",
       "      <td>3.391575574874878</td>\n",
       "      <td>38.65968322753906</td>\n",
       "      <td>26.203819274902344</td>\n",
       "      <td>-49.71556854248047</td>\n",
       "      <td>47.4610366821289</td>\n",
       "      <td>26.746612548828125</td>\n",
       "      <td>-35.898860931396484</td>\n",
       "      <td>...</td>\n",
       "      <td>0.6079040169715881</td>\n",
       "      <td>-70.27054595947266</td>\n",
       "      <td>77.36577606201172</td>\n",
       "      <td>-21.73455047607422</td>\n",
       "      <td>1.0282527208328247</td>\n",
       "      <td>7.7917842864990225</td>\n",
       "      <td>68.90372467041016</td>\n",
       "      <td>-10.520872116088867</td>\n",
       "      <td>120.49046325683594</td>\n",
       "      <td>-39.686431884765625</td>\n",
       "    </tr>\n",
       "    <tr>\n",
       "      <th>4</th>\n",
       "      <td>1</td>\n",
       "      <td>55.5472526550293</td>\n",
       "      <td>43.6900749206543</td>\n",
       "      <td>-65.49598693847656</td>\n",
       "      <td>-13.974522590637207</td>\n",
       "      <td>-28.27496337890625</td>\n",
       "      <td>-39.05012893676758</td>\n",
       "      <td>-1.2106596231460571</td>\n",
       "      <td>-19.012897491455078</td>\n",
       "      <td>19.568010330200195</td>\n",
       "      <td>...</td>\n",
       "      <td>57.49507141113281</td>\n",
       "      <td>-76.39321899414062</td>\n",
       "      <td>127.26136016845705</td>\n",
       "      <td>-13.035799026489258</td>\n",
       "      <td>46.3818244934082</td>\n",
       "      <td>-15.752449989318848</td>\n",
       "      <td>31.00033187866211</td>\n",
       "      <td>-39.607521057128906</td>\n",
       "      <td>24.76401138305664</td>\n",
       "      <td>-36.7710075378418</td>\n",
       "    </tr>\n",
       "  </tbody>\n",
       "</table>\n",
       "<p>5 rows × 63 columns</p>\n",
       "</div>"
      ],
      "text/plain": [
       "  network                  1                1.1                   2  \\\n",
       "0    node                  1                  1                   1   \n",
       "1    hemi                 lh                 rh                  lh   \n",
       "2     NaN                NaN                NaN                 NaN   \n",
       "3       0  56.05574417114258  92.03103637695312   3.391575574874878   \n",
       "4       1   55.5472526550293   43.6900749206543  -65.49598693847656   \n",
       "\n",
       "                   2.1                   3                 3.1  \\\n",
       "0                    1                   1                   1   \n",
       "1                   rh                  lh                  rh   \n",
       "2                  NaN                 NaN                 NaN   \n",
       "3    38.65968322753906  26.203819274902344  -49.71556854248047   \n",
       "4  -13.974522590637207  -28.27496337890625  -39.05012893676758   \n",
       "\n",
       "                     4                  4.1                    5  ...  \\\n",
       "0                    1                    1                    1  ...   \n",
       "1                   lh                   rh                   lh  ...   \n",
       "2                  NaN                  NaN                  NaN  ...   \n",
       "3     47.4610366821289   26.746612548828125  -35.898860931396484  ...   \n",
       "4  -1.2106596231460571  -19.012897491455078   19.568010330200195  ...   \n",
       "\n",
       "                 16.5                16.6                16.7  \\\n",
       "0                   3                   4                   4   \n",
       "1                  rh                  lh                  rh   \n",
       "2                 NaN                 NaN                 NaN   \n",
       "3  0.6079040169715881  -70.27054595947266   77.36577606201172   \n",
       "4   57.49507141113281  -76.39321899414062  127.26136016845705   \n",
       "\n",
       "                    17                17.1                 17.2  \\\n",
       "0                    1                   1                    2   \n",
       "1                   lh                  rh                   lh   \n",
       "2                  NaN                 NaN                  NaN   \n",
       "3   -21.73455047607422  1.0282527208328247   7.7917842864990225   \n",
       "4  -13.035799026489258    46.3818244934082  -15.752449989318848   \n",
       "\n",
       "                17.3                 17.4                17.5  \\\n",
       "0                  2                    3                   3   \n",
       "1                 rh                   lh                  rh   \n",
       "2                NaN                  NaN                 NaN   \n",
       "3  68.90372467041016  -10.520872116088867  120.49046325683594   \n",
       "4  31.00033187866211  -39.607521057128906   24.76401138305664   \n",
       "\n",
       "                  17.6  \n",
       "0                    4  \n",
       "1                   lh  \n",
       "2                  NaN  \n",
       "3  -39.686431884765625  \n",
       "4    -36.7710075378418  \n",
       "\n",
       "[5 rows x 63 columns]"
      ]
     },
     "execution_count": 12,
     "metadata": {},
     "output_type": "execute_result"
    }
   ],
   "source": [
    "brain_networks.head()"
   ]
  },
  {
   "cell_type": "markdown",
   "id": "74d6ae73",
   "metadata": {
    "papermill": {
     "duration": 0.015365,
     "end_time": "2023-03-15T14:22:01.248637",
     "exception": false,
     "start_time": "2023-03-15T14:22:01.233272",
     "status": "completed"
    },
    "tags": []
   },
   "source": [
    "# **Car Crashes**"
   ]
  },
  {
   "cell_type": "code",
   "execution_count": 13,
   "id": "ed2c3804",
   "metadata": {
    "execution": {
     "iopub.execute_input": "2023-03-15T14:22:01.282232Z",
     "iopub.status.busy": "2023-03-15T14:22:01.281802Z",
     "iopub.status.idle": "2023-03-15T14:22:02.434818Z",
     "shell.execute_reply": "2023-03-15T14:22:02.433346Z"
    },
    "papermill": {
     "duration": 1.17374,
     "end_time": "2023-03-15T14:22:02.438037",
     "exception": false,
     "start_time": "2023-03-15T14:22:01.264297",
     "status": "completed"
    },
    "tags": []
   },
   "outputs": [],
   "source": [
    "# load inbuild dataset by name\n",
    "car_crashes = sns.load_dataset('car_crashes')"
   ]
  },
  {
   "cell_type": "code",
   "execution_count": 14,
   "id": "c5e6ab17",
   "metadata": {
    "execution": {
     "iopub.execute_input": "2023-03-15T14:22:02.471739Z",
     "iopub.status.busy": "2023-03-15T14:22:02.471240Z",
     "iopub.status.idle": "2023-03-15T14:22:02.489474Z",
     "shell.execute_reply": "2023-03-15T14:22:02.488196Z"
    },
    "papermill": {
     "duration": 0.038276,
     "end_time": "2023-03-15T14:22:02.491970",
     "exception": false,
     "start_time": "2023-03-15T14:22:02.453694",
     "status": "completed"
    },
    "tags": []
   },
   "outputs": [
    {
     "data": {
      "text/html": [
       "<div>\n",
       "<style scoped>\n",
       "    .dataframe tbody tr th:only-of-type {\n",
       "        vertical-align: middle;\n",
       "    }\n",
       "\n",
       "    .dataframe tbody tr th {\n",
       "        vertical-align: top;\n",
       "    }\n",
       "\n",
       "    .dataframe thead th {\n",
       "        text-align: right;\n",
       "    }\n",
       "</style>\n",
       "<table border=\"1\" class=\"dataframe\">\n",
       "  <thead>\n",
       "    <tr style=\"text-align: right;\">\n",
       "      <th></th>\n",
       "      <th>total</th>\n",
       "      <th>speeding</th>\n",
       "      <th>alcohol</th>\n",
       "      <th>not_distracted</th>\n",
       "      <th>no_previous</th>\n",
       "      <th>ins_premium</th>\n",
       "      <th>ins_losses</th>\n",
       "      <th>abbrev</th>\n",
       "    </tr>\n",
       "  </thead>\n",
       "  <tbody>\n",
       "    <tr>\n",
       "      <th>0</th>\n",
       "      <td>18.8</td>\n",
       "      <td>7.332</td>\n",
       "      <td>5.640</td>\n",
       "      <td>18.048</td>\n",
       "      <td>15.040</td>\n",
       "      <td>784.55</td>\n",
       "      <td>145.08</td>\n",
       "      <td>AL</td>\n",
       "    </tr>\n",
       "    <tr>\n",
       "      <th>1</th>\n",
       "      <td>18.1</td>\n",
       "      <td>7.421</td>\n",
       "      <td>4.525</td>\n",
       "      <td>16.290</td>\n",
       "      <td>17.014</td>\n",
       "      <td>1053.48</td>\n",
       "      <td>133.93</td>\n",
       "      <td>AK</td>\n",
       "    </tr>\n",
       "    <tr>\n",
       "      <th>2</th>\n",
       "      <td>18.6</td>\n",
       "      <td>6.510</td>\n",
       "      <td>5.208</td>\n",
       "      <td>15.624</td>\n",
       "      <td>17.856</td>\n",
       "      <td>899.47</td>\n",
       "      <td>110.35</td>\n",
       "      <td>AZ</td>\n",
       "    </tr>\n",
       "    <tr>\n",
       "      <th>3</th>\n",
       "      <td>22.4</td>\n",
       "      <td>4.032</td>\n",
       "      <td>5.824</td>\n",
       "      <td>21.056</td>\n",
       "      <td>21.280</td>\n",
       "      <td>827.34</td>\n",
       "      <td>142.39</td>\n",
       "      <td>AR</td>\n",
       "    </tr>\n",
       "    <tr>\n",
       "      <th>4</th>\n",
       "      <td>12.0</td>\n",
       "      <td>4.200</td>\n",
       "      <td>3.360</td>\n",
       "      <td>10.920</td>\n",
       "      <td>10.680</td>\n",
       "      <td>878.41</td>\n",
       "      <td>165.63</td>\n",
       "      <td>CA</td>\n",
       "    </tr>\n",
       "  </tbody>\n",
       "</table>\n",
       "</div>"
      ],
      "text/plain": [
       "   total  speeding  alcohol  not_distracted  no_previous  ins_premium  \\\n",
       "0   18.8     7.332    5.640          18.048       15.040       784.55   \n",
       "1   18.1     7.421    4.525          16.290       17.014      1053.48   \n",
       "2   18.6     6.510    5.208          15.624       17.856       899.47   \n",
       "3   22.4     4.032    5.824          21.056       21.280       827.34   \n",
       "4   12.0     4.200    3.360          10.920       10.680       878.41   \n",
       "\n",
       "   ins_losses abbrev  \n",
       "0      145.08     AL  \n",
       "1      133.93     AK  \n",
       "2      110.35     AZ  \n",
       "3      142.39     AR  \n",
       "4      165.63     CA  "
      ]
     },
     "execution_count": 14,
     "metadata": {},
     "output_type": "execute_result"
    }
   ],
   "source": [
    "car_crashes.head()"
   ]
  },
  {
   "cell_type": "markdown",
   "id": "1b708e86",
   "metadata": {
    "papermill": {
     "duration": 0.015946,
     "end_time": "2023-03-15T14:22:02.524883",
     "exception": false,
     "start_time": "2023-03-15T14:22:02.508937",
     "status": "completed"
    },
    "tags": []
   },
   "source": [
    "# **Diamonds**"
   ]
  },
  {
   "cell_type": "code",
   "execution_count": 15,
   "id": "5735a4cc",
   "metadata": {
    "execution": {
     "iopub.execute_input": "2023-03-15T14:22:02.559150Z",
     "iopub.status.busy": "2023-03-15T14:22:02.558577Z",
     "iopub.status.idle": "2023-03-15T14:22:02.929246Z",
     "shell.execute_reply": "2023-03-15T14:22:02.927879Z"
    },
    "papermill": {
     "duration": 0.391295,
     "end_time": "2023-03-15T14:22:02.932340",
     "exception": false,
     "start_time": "2023-03-15T14:22:02.541045",
     "status": "completed"
    },
    "tags": []
   },
   "outputs": [],
   "source": [
    "# load inbuild dataset by name\n",
    "diamonds = sns.load_dataset('diamonds')"
   ]
  },
  {
   "cell_type": "code",
   "execution_count": 16,
   "id": "344333ea",
   "metadata": {
    "execution": {
     "iopub.execute_input": "2023-03-15T14:22:02.966260Z",
     "iopub.status.busy": "2023-03-15T14:22:02.965835Z",
     "iopub.status.idle": "2023-03-15T14:22:02.992331Z",
     "shell.execute_reply": "2023-03-15T14:22:02.991185Z"
    },
    "papermill": {
     "duration": 0.046136,
     "end_time": "2023-03-15T14:22:02.994522",
     "exception": false,
     "start_time": "2023-03-15T14:22:02.948386",
     "status": "completed"
    },
    "tags": []
   },
   "outputs": [
    {
     "data": {
      "text/html": [
       "<div>\n",
       "<style scoped>\n",
       "    .dataframe tbody tr th:only-of-type {\n",
       "        vertical-align: middle;\n",
       "    }\n",
       "\n",
       "    .dataframe tbody tr th {\n",
       "        vertical-align: top;\n",
       "    }\n",
       "\n",
       "    .dataframe thead th {\n",
       "        text-align: right;\n",
       "    }\n",
       "</style>\n",
       "<table border=\"1\" class=\"dataframe\">\n",
       "  <thead>\n",
       "    <tr style=\"text-align: right;\">\n",
       "      <th></th>\n",
       "      <th>carat</th>\n",
       "      <th>cut</th>\n",
       "      <th>color</th>\n",
       "      <th>clarity</th>\n",
       "      <th>depth</th>\n",
       "      <th>table</th>\n",
       "      <th>price</th>\n",
       "      <th>x</th>\n",
       "      <th>y</th>\n",
       "      <th>z</th>\n",
       "    </tr>\n",
       "  </thead>\n",
       "  <tbody>\n",
       "    <tr>\n",
       "      <th>0</th>\n",
       "      <td>0.23</td>\n",
       "      <td>Ideal</td>\n",
       "      <td>E</td>\n",
       "      <td>SI2</td>\n",
       "      <td>61.5</td>\n",
       "      <td>55.0</td>\n",
       "      <td>326</td>\n",
       "      <td>3.95</td>\n",
       "      <td>3.98</td>\n",
       "      <td>2.43</td>\n",
       "    </tr>\n",
       "    <tr>\n",
       "      <th>1</th>\n",
       "      <td>0.21</td>\n",
       "      <td>Premium</td>\n",
       "      <td>E</td>\n",
       "      <td>SI1</td>\n",
       "      <td>59.8</td>\n",
       "      <td>61.0</td>\n",
       "      <td>326</td>\n",
       "      <td>3.89</td>\n",
       "      <td>3.84</td>\n",
       "      <td>2.31</td>\n",
       "    </tr>\n",
       "    <tr>\n",
       "      <th>2</th>\n",
       "      <td>0.23</td>\n",
       "      <td>Good</td>\n",
       "      <td>E</td>\n",
       "      <td>VS1</td>\n",
       "      <td>56.9</td>\n",
       "      <td>65.0</td>\n",
       "      <td>327</td>\n",
       "      <td>4.05</td>\n",
       "      <td>4.07</td>\n",
       "      <td>2.31</td>\n",
       "    </tr>\n",
       "    <tr>\n",
       "      <th>3</th>\n",
       "      <td>0.29</td>\n",
       "      <td>Premium</td>\n",
       "      <td>I</td>\n",
       "      <td>VS2</td>\n",
       "      <td>62.4</td>\n",
       "      <td>58.0</td>\n",
       "      <td>334</td>\n",
       "      <td>4.20</td>\n",
       "      <td>4.23</td>\n",
       "      <td>2.63</td>\n",
       "    </tr>\n",
       "    <tr>\n",
       "      <th>4</th>\n",
       "      <td>0.31</td>\n",
       "      <td>Good</td>\n",
       "      <td>J</td>\n",
       "      <td>SI2</td>\n",
       "      <td>63.3</td>\n",
       "      <td>58.0</td>\n",
       "      <td>335</td>\n",
       "      <td>4.34</td>\n",
       "      <td>4.35</td>\n",
       "      <td>2.75</td>\n",
       "    </tr>\n",
       "  </tbody>\n",
       "</table>\n",
       "</div>"
      ],
      "text/plain": [
       "   carat      cut color clarity  depth  table  price     x     y     z\n",
       "0   0.23    Ideal     E     SI2   61.5   55.0    326  3.95  3.98  2.43\n",
       "1   0.21  Premium     E     SI1   59.8   61.0    326  3.89  3.84  2.31\n",
       "2   0.23     Good     E     VS1   56.9   65.0    327  4.05  4.07  2.31\n",
       "3   0.29  Premium     I     VS2   62.4   58.0    334  4.20  4.23  2.63\n",
       "4   0.31     Good     J     SI2   63.3   58.0    335  4.34  4.35  2.75"
      ]
     },
     "execution_count": 16,
     "metadata": {},
     "output_type": "execute_result"
    }
   ],
   "source": [
    "diamonds.head()"
   ]
  },
  {
   "cell_type": "markdown",
   "id": "784169e6",
   "metadata": {
    "papermill": {
     "duration": 0.016041,
     "end_time": "2023-03-15T14:22:03.027211",
     "exception": false,
     "start_time": "2023-03-15T14:22:03.011170",
     "status": "completed"
    },
    "tags": []
   },
   "source": [
    "# **Dots**"
   ]
  },
  {
   "cell_type": "code",
   "execution_count": 17,
   "id": "5cb08f10",
   "metadata": {
    "execution": {
     "iopub.execute_input": "2023-03-15T14:22:03.061344Z",
     "iopub.status.busy": "2023-03-15T14:22:03.060950Z",
     "iopub.status.idle": "2023-03-15T14:22:03.362728Z",
     "shell.execute_reply": "2023-03-15T14:22:03.361813Z"
    },
    "papermill": {
     "duration": 0.321908,
     "end_time": "2023-03-15T14:22:03.365433",
     "exception": false,
     "start_time": "2023-03-15T14:22:03.043525",
     "status": "completed"
    },
    "tags": []
   },
   "outputs": [],
   "source": [
    "# load inbuild dataset by name\n",
    "dots = sns.load_dataset('dots')"
   ]
  },
  {
   "cell_type": "code",
   "execution_count": 18,
   "id": "dccfc565",
   "metadata": {
    "execution": {
     "iopub.execute_input": "2023-03-15T14:22:03.401724Z",
     "iopub.status.busy": "2023-03-15T14:22:03.400929Z",
     "iopub.status.idle": "2023-03-15T14:22:03.414578Z",
     "shell.execute_reply": "2023-03-15T14:22:03.413081Z"
    },
    "papermill": {
     "duration": 0.035136,
     "end_time": "2023-03-15T14:22:03.416842",
     "exception": false,
     "start_time": "2023-03-15T14:22:03.381706",
     "status": "completed"
    },
    "tags": []
   },
   "outputs": [
    {
     "data": {
      "text/html": [
       "<div>\n",
       "<style scoped>\n",
       "    .dataframe tbody tr th:only-of-type {\n",
       "        vertical-align: middle;\n",
       "    }\n",
       "\n",
       "    .dataframe tbody tr th {\n",
       "        vertical-align: top;\n",
       "    }\n",
       "\n",
       "    .dataframe thead th {\n",
       "        text-align: right;\n",
       "    }\n",
       "</style>\n",
       "<table border=\"1\" class=\"dataframe\">\n",
       "  <thead>\n",
       "    <tr style=\"text-align: right;\">\n",
       "      <th></th>\n",
       "      <th>align</th>\n",
       "      <th>choice</th>\n",
       "      <th>time</th>\n",
       "      <th>coherence</th>\n",
       "      <th>firing_rate</th>\n",
       "    </tr>\n",
       "  </thead>\n",
       "  <tbody>\n",
       "    <tr>\n",
       "      <th>0</th>\n",
       "      <td>dots</td>\n",
       "      <td>T1</td>\n",
       "      <td>-80</td>\n",
       "      <td>0.0</td>\n",
       "      <td>33.189967</td>\n",
       "    </tr>\n",
       "    <tr>\n",
       "      <th>1</th>\n",
       "      <td>dots</td>\n",
       "      <td>T1</td>\n",
       "      <td>-80</td>\n",
       "      <td>3.2</td>\n",
       "      <td>31.691726</td>\n",
       "    </tr>\n",
       "    <tr>\n",
       "      <th>2</th>\n",
       "      <td>dots</td>\n",
       "      <td>T1</td>\n",
       "      <td>-80</td>\n",
       "      <td>6.4</td>\n",
       "      <td>34.279840</td>\n",
       "    </tr>\n",
       "    <tr>\n",
       "      <th>3</th>\n",
       "      <td>dots</td>\n",
       "      <td>T1</td>\n",
       "      <td>-80</td>\n",
       "      <td>12.8</td>\n",
       "      <td>32.631874</td>\n",
       "    </tr>\n",
       "    <tr>\n",
       "      <th>4</th>\n",
       "      <td>dots</td>\n",
       "      <td>T1</td>\n",
       "      <td>-80</td>\n",
       "      <td>25.6</td>\n",
       "      <td>35.060487</td>\n",
       "    </tr>\n",
       "  </tbody>\n",
       "</table>\n",
       "</div>"
      ],
      "text/plain": [
       "  align choice  time  coherence  firing_rate\n",
       "0  dots     T1   -80        0.0    33.189967\n",
       "1  dots     T1   -80        3.2    31.691726\n",
       "2  dots     T1   -80        6.4    34.279840\n",
       "3  dots     T1   -80       12.8    32.631874\n",
       "4  dots     T1   -80       25.6    35.060487"
      ]
     },
     "execution_count": 18,
     "metadata": {},
     "output_type": "execute_result"
    }
   ],
   "source": [
    "dots.head()"
   ]
  },
  {
   "cell_type": "markdown",
   "id": "fe7fe03f",
   "metadata": {
    "papermill": {
     "duration": 0.015957,
     "end_time": "2023-03-15T14:22:03.448834",
     "exception": false,
     "start_time": "2023-03-15T14:22:03.432877",
     "status": "completed"
    },
    "tags": []
   },
   "source": [
    "# **Dowjones**"
   ]
  },
  {
   "cell_type": "code",
   "execution_count": 19,
   "id": "d7171fc7",
   "metadata": {
    "execution": {
     "iopub.execute_input": "2023-03-15T14:22:03.483445Z",
     "iopub.status.busy": "2023-03-15T14:22:03.482955Z",
     "iopub.status.idle": "2023-03-15T14:22:03.746825Z",
     "shell.execute_reply": "2023-03-15T14:22:03.745687Z"
    },
    "papermill": {
     "duration": 0.284671,
     "end_time": "2023-03-15T14:22:03.749730",
     "exception": false,
     "start_time": "2023-03-15T14:22:03.465059",
     "status": "completed"
    },
    "tags": []
   },
   "outputs": [],
   "source": [
    "# load inbuild dataset by name\n",
    "\n",
    "dowjones = sns.load_dataset('dowjones')"
   ]
  },
  {
   "cell_type": "code",
   "execution_count": 20,
   "id": "b9c09383",
   "metadata": {
    "execution": {
     "iopub.execute_input": "2023-03-15T14:22:03.783994Z",
     "iopub.status.busy": "2023-03-15T14:22:03.783560Z",
     "iopub.status.idle": "2023-03-15T14:22:03.794962Z",
     "shell.execute_reply": "2023-03-15T14:22:03.793727Z"
    },
    "papermill": {
     "duration": 0.031404,
     "end_time": "2023-03-15T14:22:03.797291",
     "exception": false,
     "start_time": "2023-03-15T14:22:03.765887",
     "status": "completed"
    },
    "tags": []
   },
   "outputs": [
    {
     "data": {
      "text/html": [
       "<div>\n",
       "<style scoped>\n",
       "    .dataframe tbody tr th:only-of-type {\n",
       "        vertical-align: middle;\n",
       "    }\n",
       "\n",
       "    .dataframe tbody tr th {\n",
       "        vertical-align: top;\n",
       "    }\n",
       "\n",
       "    .dataframe thead th {\n",
       "        text-align: right;\n",
       "    }\n",
       "</style>\n",
       "<table border=\"1\" class=\"dataframe\">\n",
       "  <thead>\n",
       "    <tr style=\"text-align: right;\">\n",
       "      <th></th>\n",
       "      <th>Date</th>\n",
       "      <th>Price</th>\n",
       "    </tr>\n",
       "  </thead>\n",
       "  <tbody>\n",
       "    <tr>\n",
       "      <th>0</th>\n",
       "      <td>1914-12-01</td>\n",
       "      <td>55.00</td>\n",
       "    </tr>\n",
       "    <tr>\n",
       "      <th>1</th>\n",
       "      <td>1915-01-01</td>\n",
       "      <td>56.55</td>\n",
       "    </tr>\n",
       "    <tr>\n",
       "      <th>2</th>\n",
       "      <td>1915-02-01</td>\n",
       "      <td>56.00</td>\n",
       "    </tr>\n",
       "    <tr>\n",
       "      <th>3</th>\n",
       "      <td>1915-03-01</td>\n",
       "      <td>58.30</td>\n",
       "    </tr>\n",
       "    <tr>\n",
       "      <th>4</th>\n",
       "      <td>1915-04-01</td>\n",
       "      <td>66.45</td>\n",
       "    </tr>\n",
       "  </tbody>\n",
       "</table>\n",
       "</div>"
      ],
      "text/plain": [
       "        Date  Price\n",
       "0 1914-12-01  55.00\n",
       "1 1915-01-01  56.55\n",
       "2 1915-02-01  56.00\n",
       "3 1915-03-01  58.30\n",
       "4 1915-04-01  66.45"
      ]
     },
     "execution_count": 20,
     "metadata": {},
     "output_type": "execute_result"
    }
   ],
   "source": [
    "dowjones.head()"
   ]
  },
  {
   "cell_type": "markdown",
   "id": "2cf17d9f",
   "metadata": {
    "papermill": {
     "duration": 0.015977,
     "end_time": "2023-03-15T14:22:03.829649",
     "exception": false,
     "start_time": "2023-03-15T14:22:03.813672",
     "status": "completed"
    },
    "tags": []
   },
   "source": [
    "# **Exercise**"
   ]
  },
  {
   "cell_type": "code",
   "execution_count": 21,
   "id": "77285e31",
   "metadata": {
    "execution": {
     "iopub.execute_input": "2023-03-15T14:22:03.864275Z",
     "iopub.status.busy": "2023-03-15T14:22:03.863851Z",
     "iopub.status.idle": "2023-03-15T14:22:03.982480Z",
     "shell.execute_reply": "2023-03-15T14:22:03.981484Z"
    },
    "papermill": {
     "duration": 0.139227,
     "end_time": "2023-03-15T14:22:03.985260",
     "exception": false,
     "start_time": "2023-03-15T14:22:03.846033",
     "status": "completed"
    },
    "tags": []
   },
   "outputs": [],
   "source": [
    "# load inbuild dataset by name\n",
    "\n",
    "exercise = sns.load_dataset('exercise')"
   ]
  },
  {
   "cell_type": "code",
   "execution_count": 22,
   "id": "14376edc",
   "metadata": {
    "execution": {
     "iopub.execute_input": "2023-03-15T14:22:04.020000Z",
     "iopub.status.busy": "2023-03-15T14:22:04.019558Z",
     "iopub.status.idle": "2023-03-15T14:22:04.032657Z",
     "shell.execute_reply": "2023-03-15T14:22:04.031521Z"
    },
    "papermill": {
     "duration": 0.033449,
     "end_time": "2023-03-15T14:22:04.035260",
     "exception": false,
     "start_time": "2023-03-15T14:22:04.001811",
     "status": "completed"
    },
    "tags": []
   },
   "outputs": [
    {
     "data": {
      "text/html": [
       "<div>\n",
       "<style scoped>\n",
       "    .dataframe tbody tr th:only-of-type {\n",
       "        vertical-align: middle;\n",
       "    }\n",
       "\n",
       "    .dataframe tbody tr th {\n",
       "        vertical-align: top;\n",
       "    }\n",
       "\n",
       "    .dataframe thead th {\n",
       "        text-align: right;\n",
       "    }\n",
       "</style>\n",
       "<table border=\"1\" class=\"dataframe\">\n",
       "  <thead>\n",
       "    <tr style=\"text-align: right;\">\n",
       "      <th></th>\n",
       "      <th>Unnamed: 0</th>\n",
       "      <th>id</th>\n",
       "      <th>diet</th>\n",
       "      <th>pulse</th>\n",
       "      <th>time</th>\n",
       "      <th>kind</th>\n",
       "    </tr>\n",
       "  </thead>\n",
       "  <tbody>\n",
       "    <tr>\n",
       "      <th>0</th>\n",
       "      <td>0</td>\n",
       "      <td>1</td>\n",
       "      <td>low fat</td>\n",
       "      <td>85</td>\n",
       "      <td>1 min</td>\n",
       "      <td>rest</td>\n",
       "    </tr>\n",
       "    <tr>\n",
       "      <th>1</th>\n",
       "      <td>1</td>\n",
       "      <td>1</td>\n",
       "      <td>low fat</td>\n",
       "      <td>85</td>\n",
       "      <td>15 min</td>\n",
       "      <td>rest</td>\n",
       "    </tr>\n",
       "    <tr>\n",
       "      <th>2</th>\n",
       "      <td>2</td>\n",
       "      <td>1</td>\n",
       "      <td>low fat</td>\n",
       "      <td>88</td>\n",
       "      <td>30 min</td>\n",
       "      <td>rest</td>\n",
       "    </tr>\n",
       "    <tr>\n",
       "      <th>3</th>\n",
       "      <td>3</td>\n",
       "      <td>2</td>\n",
       "      <td>low fat</td>\n",
       "      <td>90</td>\n",
       "      <td>1 min</td>\n",
       "      <td>rest</td>\n",
       "    </tr>\n",
       "    <tr>\n",
       "      <th>4</th>\n",
       "      <td>4</td>\n",
       "      <td>2</td>\n",
       "      <td>low fat</td>\n",
       "      <td>92</td>\n",
       "      <td>15 min</td>\n",
       "      <td>rest</td>\n",
       "    </tr>\n",
       "  </tbody>\n",
       "</table>\n",
       "</div>"
      ],
      "text/plain": [
       "   Unnamed: 0  id     diet  pulse    time  kind\n",
       "0           0   1  low fat     85   1 min  rest\n",
       "1           1   1  low fat     85  15 min  rest\n",
       "2           2   1  low fat     88  30 min  rest\n",
       "3           3   2  low fat     90   1 min  rest\n",
       "4           4   2  low fat     92  15 min  rest"
      ]
     },
     "execution_count": 22,
     "metadata": {},
     "output_type": "execute_result"
    }
   ],
   "source": [
    "exercise.head()"
   ]
  },
  {
   "cell_type": "markdown",
   "id": "cf9e0039",
   "metadata": {
    "papermill": {
     "duration": 0.016066,
     "end_time": "2023-03-15T14:22:04.067912",
     "exception": false,
     "start_time": "2023-03-15T14:22:04.051846",
     "status": "completed"
    },
    "tags": []
   },
   "source": [
    "# **Flights**"
   ]
  },
  {
   "cell_type": "code",
   "execution_count": 23,
   "id": "c71d602b",
   "metadata": {
    "execution": {
     "iopub.execute_input": "2023-03-15T14:22:04.102798Z",
     "iopub.status.busy": "2023-03-15T14:22:04.102035Z",
     "iopub.status.idle": "2023-03-15T14:22:04.390691Z",
     "shell.execute_reply": "2023-03-15T14:22:04.389536Z"
    },
    "papermill": {
     "duration": 0.309219,
     "end_time": "2023-03-15T14:22:04.393519",
     "exception": false,
     "start_time": "2023-03-15T14:22:04.084300",
     "status": "completed"
    },
    "tags": []
   },
   "outputs": [],
   "source": [
    "# load inbuild dataset by name\n",
    "\n",
    "flights = sns.load_dataset('flights')"
   ]
  },
  {
   "cell_type": "code",
   "execution_count": 24,
   "id": "502fad64",
   "metadata": {
    "execution": {
     "iopub.execute_input": "2023-03-15T14:22:04.429017Z",
     "iopub.status.busy": "2023-03-15T14:22:04.428583Z",
     "iopub.status.idle": "2023-03-15T14:22:04.439358Z",
     "shell.execute_reply": "2023-03-15T14:22:04.438513Z"
    },
    "papermill": {
     "duration": 0.031315,
     "end_time": "2023-03-15T14:22:04.441629",
     "exception": false,
     "start_time": "2023-03-15T14:22:04.410314",
     "status": "completed"
    },
    "tags": []
   },
   "outputs": [
    {
     "data": {
      "text/html": [
       "<div>\n",
       "<style scoped>\n",
       "    .dataframe tbody tr th:only-of-type {\n",
       "        vertical-align: middle;\n",
       "    }\n",
       "\n",
       "    .dataframe tbody tr th {\n",
       "        vertical-align: top;\n",
       "    }\n",
       "\n",
       "    .dataframe thead th {\n",
       "        text-align: right;\n",
       "    }\n",
       "</style>\n",
       "<table border=\"1\" class=\"dataframe\">\n",
       "  <thead>\n",
       "    <tr style=\"text-align: right;\">\n",
       "      <th></th>\n",
       "      <th>year</th>\n",
       "      <th>month</th>\n",
       "      <th>passengers</th>\n",
       "    </tr>\n",
       "  </thead>\n",
       "  <tbody>\n",
       "    <tr>\n",
       "      <th>0</th>\n",
       "      <td>1949</td>\n",
       "      <td>Jan</td>\n",
       "      <td>112</td>\n",
       "    </tr>\n",
       "    <tr>\n",
       "      <th>1</th>\n",
       "      <td>1949</td>\n",
       "      <td>Feb</td>\n",
       "      <td>118</td>\n",
       "    </tr>\n",
       "    <tr>\n",
       "      <th>2</th>\n",
       "      <td>1949</td>\n",
       "      <td>Mar</td>\n",
       "      <td>132</td>\n",
       "    </tr>\n",
       "    <tr>\n",
       "      <th>3</th>\n",
       "      <td>1949</td>\n",
       "      <td>Apr</td>\n",
       "      <td>129</td>\n",
       "    </tr>\n",
       "    <tr>\n",
       "      <th>4</th>\n",
       "      <td>1949</td>\n",
       "      <td>May</td>\n",
       "      <td>121</td>\n",
       "    </tr>\n",
       "  </tbody>\n",
       "</table>\n",
       "</div>"
      ],
      "text/plain": [
       "   year month  passengers\n",
       "0  1949   Jan         112\n",
       "1  1949   Feb         118\n",
       "2  1949   Mar         132\n",
       "3  1949   Apr         129\n",
       "4  1949   May         121"
      ]
     },
     "execution_count": 24,
     "metadata": {},
     "output_type": "execute_result"
    }
   ],
   "source": [
    "flights.head()"
   ]
  },
  {
   "cell_type": "markdown",
   "id": "66cec462",
   "metadata": {
    "papermill": {
     "duration": 0.016702,
     "end_time": "2023-03-15T14:22:04.475224",
     "exception": false,
     "start_time": "2023-03-15T14:22:04.458522",
     "status": "completed"
    },
    "tags": []
   },
   "source": [
    "# **FMRI**"
   ]
  },
  {
   "cell_type": "code",
   "execution_count": 25,
   "id": "cbf8ee52",
   "metadata": {
    "execution": {
     "iopub.execute_input": "2023-03-15T14:22:04.510908Z",
     "iopub.status.busy": "2023-03-15T14:22:04.510488Z",
     "iopub.status.idle": "2023-03-15T14:22:04.764886Z",
     "shell.execute_reply": "2023-03-15T14:22:04.763833Z"
    },
    "papermill": {
     "duration": 0.275524,
     "end_time": "2023-03-15T14:22:04.767495",
     "exception": false,
     "start_time": "2023-03-15T14:22:04.491971",
     "status": "completed"
    },
    "tags": []
   },
   "outputs": [],
   "source": [
    "# load inbuild dataset by name\n",
    "\n",
    "fmri = sns.load_dataset('fmri')"
   ]
  },
  {
   "cell_type": "code",
   "execution_count": 26,
   "id": "44c2aa7f",
   "metadata": {
    "execution": {
     "iopub.execute_input": "2023-03-15T14:22:04.803141Z",
     "iopub.status.busy": "2023-03-15T14:22:04.802441Z",
     "iopub.status.idle": "2023-03-15T14:22:04.814289Z",
     "shell.execute_reply": "2023-03-15T14:22:04.813141Z"
    },
    "papermill": {
     "duration": 0.032369,
     "end_time": "2023-03-15T14:22:04.816713",
     "exception": false,
     "start_time": "2023-03-15T14:22:04.784344",
     "status": "completed"
    },
    "tags": []
   },
   "outputs": [
    {
     "data": {
      "text/html": [
       "<div>\n",
       "<style scoped>\n",
       "    .dataframe tbody tr th:only-of-type {\n",
       "        vertical-align: middle;\n",
       "    }\n",
       "\n",
       "    .dataframe tbody tr th {\n",
       "        vertical-align: top;\n",
       "    }\n",
       "\n",
       "    .dataframe thead th {\n",
       "        text-align: right;\n",
       "    }\n",
       "</style>\n",
       "<table border=\"1\" class=\"dataframe\">\n",
       "  <thead>\n",
       "    <tr style=\"text-align: right;\">\n",
       "      <th></th>\n",
       "      <th>subject</th>\n",
       "      <th>timepoint</th>\n",
       "      <th>event</th>\n",
       "      <th>region</th>\n",
       "      <th>signal</th>\n",
       "    </tr>\n",
       "  </thead>\n",
       "  <tbody>\n",
       "    <tr>\n",
       "      <th>0</th>\n",
       "      <td>s13</td>\n",
       "      <td>18</td>\n",
       "      <td>stim</td>\n",
       "      <td>parietal</td>\n",
       "      <td>-0.017552</td>\n",
       "    </tr>\n",
       "    <tr>\n",
       "      <th>1</th>\n",
       "      <td>s5</td>\n",
       "      <td>14</td>\n",
       "      <td>stim</td>\n",
       "      <td>parietal</td>\n",
       "      <td>-0.080883</td>\n",
       "    </tr>\n",
       "    <tr>\n",
       "      <th>2</th>\n",
       "      <td>s12</td>\n",
       "      <td>18</td>\n",
       "      <td>stim</td>\n",
       "      <td>parietal</td>\n",
       "      <td>-0.081033</td>\n",
       "    </tr>\n",
       "    <tr>\n",
       "      <th>3</th>\n",
       "      <td>s11</td>\n",
       "      <td>18</td>\n",
       "      <td>stim</td>\n",
       "      <td>parietal</td>\n",
       "      <td>-0.046134</td>\n",
       "    </tr>\n",
       "    <tr>\n",
       "      <th>4</th>\n",
       "      <td>s10</td>\n",
       "      <td>18</td>\n",
       "      <td>stim</td>\n",
       "      <td>parietal</td>\n",
       "      <td>-0.037970</td>\n",
       "    </tr>\n",
       "  </tbody>\n",
       "</table>\n",
       "</div>"
      ],
      "text/plain": [
       "  subject  timepoint event    region    signal\n",
       "0     s13         18  stim  parietal -0.017552\n",
       "1      s5         14  stim  parietal -0.080883\n",
       "2     s12         18  stim  parietal -0.081033\n",
       "3     s11         18  stim  parietal -0.046134\n",
       "4     s10         18  stim  parietal -0.037970"
      ]
     },
     "execution_count": 26,
     "metadata": {},
     "output_type": "execute_result"
    }
   ],
   "source": [
    "fmri.head()"
   ]
  },
  {
   "cell_type": "markdown",
   "id": "308c9959",
   "metadata": {
    "papermill": {
     "duration": 0.017138,
     "end_time": "2023-03-15T14:22:04.851205",
     "exception": false,
     "start_time": "2023-03-15T14:22:04.834067",
     "status": "completed"
    },
    "tags": []
   },
   "source": [
    "# **Geyser**"
   ]
  },
  {
   "cell_type": "code",
   "execution_count": 27,
   "id": "0704fefb",
   "metadata": {
    "execution": {
     "iopub.execute_input": "2023-03-15T14:22:04.887718Z",
     "iopub.status.busy": "2023-03-15T14:22:04.887243Z",
     "iopub.status.idle": "2023-03-15T14:22:05.877372Z",
     "shell.execute_reply": "2023-03-15T14:22:05.875904Z"
    },
    "papermill": {
     "duration": 1.012804,
     "end_time": "2023-03-15T14:22:05.881562",
     "exception": false,
     "start_time": "2023-03-15T14:22:04.868758",
     "status": "completed"
    },
    "tags": []
   },
   "outputs": [],
   "source": [
    "# load inbuild dataset by name\n",
    "\n",
    "geyser = sns.load_dataset('geyser')"
   ]
  },
  {
   "cell_type": "code",
   "execution_count": 28,
   "id": "c3c0cb60",
   "metadata": {
    "execution": {
     "iopub.execute_input": "2023-03-15T14:22:05.922424Z",
     "iopub.status.busy": "2023-03-15T14:22:05.921534Z",
     "iopub.status.idle": "2023-03-15T14:22:05.932997Z",
     "shell.execute_reply": "2023-03-15T14:22:05.931631Z"
    },
    "papermill": {
     "duration": 0.03412,
     "end_time": "2023-03-15T14:22:05.936021",
     "exception": false,
     "start_time": "2023-03-15T14:22:05.901901",
     "status": "completed"
    },
    "tags": []
   },
   "outputs": [
    {
     "data": {
      "text/html": [
       "<div>\n",
       "<style scoped>\n",
       "    .dataframe tbody tr th:only-of-type {\n",
       "        vertical-align: middle;\n",
       "    }\n",
       "\n",
       "    .dataframe tbody tr th {\n",
       "        vertical-align: top;\n",
       "    }\n",
       "\n",
       "    .dataframe thead th {\n",
       "        text-align: right;\n",
       "    }\n",
       "</style>\n",
       "<table border=\"1\" class=\"dataframe\">\n",
       "  <thead>\n",
       "    <tr style=\"text-align: right;\">\n",
       "      <th></th>\n",
       "      <th>duration</th>\n",
       "      <th>waiting</th>\n",
       "      <th>kind</th>\n",
       "    </tr>\n",
       "  </thead>\n",
       "  <tbody>\n",
       "    <tr>\n",
       "      <th>0</th>\n",
       "      <td>3.600</td>\n",
       "      <td>79</td>\n",
       "      <td>long</td>\n",
       "    </tr>\n",
       "    <tr>\n",
       "      <th>1</th>\n",
       "      <td>1.800</td>\n",
       "      <td>54</td>\n",
       "      <td>short</td>\n",
       "    </tr>\n",
       "    <tr>\n",
       "      <th>2</th>\n",
       "      <td>3.333</td>\n",
       "      <td>74</td>\n",
       "      <td>long</td>\n",
       "    </tr>\n",
       "    <tr>\n",
       "      <th>3</th>\n",
       "      <td>2.283</td>\n",
       "      <td>62</td>\n",
       "      <td>short</td>\n",
       "    </tr>\n",
       "    <tr>\n",
       "      <th>4</th>\n",
       "      <td>4.533</td>\n",
       "      <td>85</td>\n",
       "      <td>long</td>\n",
       "    </tr>\n",
       "  </tbody>\n",
       "</table>\n",
       "</div>"
      ],
      "text/plain": [
       "   duration  waiting   kind\n",
       "0     3.600       79   long\n",
       "1     1.800       54  short\n",
       "2     3.333       74   long\n",
       "3     2.283       62  short\n",
       "4     4.533       85   long"
      ]
     },
     "execution_count": 28,
     "metadata": {},
     "output_type": "execute_result"
    }
   ],
   "source": [
    "geyser.head()"
   ]
  },
  {
   "cell_type": "markdown",
   "id": "221531f9",
   "metadata": {
    "papermill": {
     "duration": 0.017381,
     "end_time": "2023-03-15T14:22:05.971067",
     "exception": false,
     "start_time": "2023-03-15T14:22:05.953686",
     "status": "completed"
    },
    "tags": []
   },
   "source": [
    "# **Glue**"
   ]
  },
  {
   "cell_type": "code",
   "execution_count": 29,
   "id": "603a22d1",
   "metadata": {
    "execution": {
     "iopub.execute_input": "2023-03-15T14:22:06.008674Z",
     "iopub.status.busy": "2023-03-15T14:22:06.008217Z",
     "iopub.status.idle": "2023-03-15T14:22:06.295776Z",
     "shell.execute_reply": "2023-03-15T14:22:06.294376Z"
    },
    "papermill": {
     "duration": 0.310178,
     "end_time": "2023-03-15T14:22:06.298978",
     "exception": false,
     "start_time": "2023-03-15T14:22:05.988800",
     "status": "completed"
    },
    "tags": []
   },
   "outputs": [],
   "source": [
    "# load inbuild dataset by name\n",
    "\n",
    "glue = sns.load_dataset('glue')"
   ]
  },
  {
   "cell_type": "code",
   "execution_count": 30,
   "id": "0170b44d",
   "metadata": {
    "execution": {
     "iopub.execute_input": "2023-03-15T14:22:06.335696Z",
     "iopub.status.busy": "2023-03-15T14:22:06.335204Z",
     "iopub.status.idle": "2023-03-15T14:22:06.350303Z",
     "shell.execute_reply": "2023-03-15T14:22:06.348831Z"
    },
    "papermill": {
     "duration": 0.037091,
     "end_time": "2023-03-15T14:22:06.353388",
     "exception": false,
     "start_time": "2023-03-15T14:22:06.316297",
     "status": "completed"
    },
    "tags": []
   },
   "outputs": [
    {
     "data": {
      "text/html": [
       "<div>\n",
       "<style scoped>\n",
       "    .dataframe tbody tr th:only-of-type {\n",
       "        vertical-align: middle;\n",
       "    }\n",
       "\n",
       "    .dataframe tbody tr th {\n",
       "        vertical-align: top;\n",
       "    }\n",
       "\n",
       "    .dataframe thead th {\n",
       "        text-align: right;\n",
       "    }\n",
       "</style>\n",
       "<table border=\"1\" class=\"dataframe\">\n",
       "  <thead>\n",
       "    <tr style=\"text-align: right;\">\n",
       "      <th></th>\n",
       "      <th>Model</th>\n",
       "      <th>Year</th>\n",
       "      <th>Encoder</th>\n",
       "      <th>Task</th>\n",
       "      <th>Score</th>\n",
       "    </tr>\n",
       "  </thead>\n",
       "  <tbody>\n",
       "    <tr>\n",
       "      <th>0</th>\n",
       "      <td>ERNIE</td>\n",
       "      <td>2019</td>\n",
       "      <td>Transformer</td>\n",
       "      <td>CoLA</td>\n",
       "      <td>75.5</td>\n",
       "    </tr>\n",
       "    <tr>\n",
       "      <th>1</th>\n",
       "      <td>T5</td>\n",
       "      <td>2019</td>\n",
       "      <td>Transformer</td>\n",
       "      <td>CoLA</td>\n",
       "      <td>71.6</td>\n",
       "    </tr>\n",
       "    <tr>\n",
       "      <th>2</th>\n",
       "      <td>RoBERTa</td>\n",
       "      <td>2019</td>\n",
       "      <td>Transformer</td>\n",
       "      <td>CoLA</td>\n",
       "      <td>67.8</td>\n",
       "    </tr>\n",
       "    <tr>\n",
       "      <th>3</th>\n",
       "      <td>BERT</td>\n",
       "      <td>2018</td>\n",
       "      <td>Transformer</td>\n",
       "      <td>CoLA</td>\n",
       "      <td>60.5</td>\n",
       "    </tr>\n",
       "    <tr>\n",
       "      <th>4</th>\n",
       "      <td>BiLSTM+ELMo</td>\n",
       "      <td>2018</td>\n",
       "      <td>LSTM</td>\n",
       "      <td>CoLA</td>\n",
       "      <td>32.1</td>\n",
       "    </tr>\n",
       "  </tbody>\n",
       "</table>\n",
       "</div>"
      ],
      "text/plain": [
       "         Model  Year      Encoder  Task  Score\n",
       "0        ERNIE  2019  Transformer  CoLA   75.5\n",
       "1           T5  2019  Transformer  CoLA   71.6\n",
       "2      RoBERTa  2019  Transformer  CoLA   67.8\n",
       "3         BERT  2018  Transformer  CoLA   60.5\n",
       "4  BiLSTM+ELMo  2018         LSTM  CoLA   32.1"
      ]
     },
     "execution_count": 30,
     "metadata": {},
     "output_type": "execute_result"
    }
   ],
   "source": [
    "glue.head()"
   ]
  },
  {
   "cell_type": "markdown",
   "id": "5328684f",
   "metadata": {
    "papermill": {
     "duration": 0.01692,
     "end_time": "2023-03-15T14:22:06.387738",
     "exception": false,
     "start_time": "2023-03-15T14:22:06.370818",
     "status": "completed"
    },
    "tags": []
   },
   "source": [
    "# **Health Expense**"
   ]
  },
  {
   "cell_type": "code",
   "execution_count": 31,
   "id": "4f2f8455",
   "metadata": {
    "execution": {
     "iopub.execute_input": "2023-03-15T14:22:06.424392Z",
     "iopub.status.busy": "2023-03-15T14:22:06.423902Z",
     "iopub.status.idle": "2023-03-15T14:22:06.889596Z",
     "shell.execute_reply": "2023-03-15T14:22:06.888132Z"
    },
    "papermill": {
     "duration": 0.48803,
     "end_time": "2023-03-15T14:22:06.892860",
     "exception": false,
     "start_time": "2023-03-15T14:22:06.404830",
     "status": "completed"
    },
    "tags": []
   },
   "outputs": [],
   "source": [
    "# load inbuild dataset by name\n",
    "\n",
    "health_expense = sns.load_dataset('healthexp')"
   ]
  },
  {
   "cell_type": "code",
   "execution_count": 32,
   "id": "99fa6a44",
   "metadata": {
    "execution": {
     "iopub.execute_input": "2023-03-15T14:22:06.930851Z",
     "iopub.status.busy": "2023-03-15T14:22:06.930333Z",
     "iopub.status.idle": "2023-03-15T14:22:06.944633Z",
     "shell.execute_reply": "2023-03-15T14:22:06.943234Z"
    },
    "papermill": {
     "duration": 0.036262,
     "end_time": "2023-03-15T14:22:06.947053",
     "exception": false,
     "start_time": "2023-03-15T14:22:06.910791",
     "status": "completed"
    },
    "tags": []
   },
   "outputs": [
    {
     "data": {
      "text/html": [
       "<div>\n",
       "<style scoped>\n",
       "    .dataframe tbody tr th:only-of-type {\n",
       "        vertical-align: middle;\n",
       "    }\n",
       "\n",
       "    .dataframe tbody tr th {\n",
       "        vertical-align: top;\n",
       "    }\n",
       "\n",
       "    .dataframe thead th {\n",
       "        text-align: right;\n",
       "    }\n",
       "</style>\n",
       "<table border=\"1\" class=\"dataframe\">\n",
       "  <thead>\n",
       "    <tr style=\"text-align: right;\">\n",
       "      <th></th>\n",
       "      <th>Year</th>\n",
       "      <th>Country</th>\n",
       "      <th>Spending_USD</th>\n",
       "      <th>Life_Expectancy</th>\n",
       "    </tr>\n",
       "  </thead>\n",
       "  <tbody>\n",
       "    <tr>\n",
       "      <th>0</th>\n",
       "      <td>1970</td>\n",
       "      <td>Germany</td>\n",
       "      <td>252.311</td>\n",
       "      <td>70.6</td>\n",
       "    </tr>\n",
       "    <tr>\n",
       "      <th>1</th>\n",
       "      <td>1970</td>\n",
       "      <td>France</td>\n",
       "      <td>192.143</td>\n",
       "      <td>72.2</td>\n",
       "    </tr>\n",
       "    <tr>\n",
       "      <th>2</th>\n",
       "      <td>1970</td>\n",
       "      <td>Great Britain</td>\n",
       "      <td>123.993</td>\n",
       "      <td>71.9</td>\n",
       "    </tr>\n",
       "    <tr>\n",
       "      <th>3</th>\n",
       "      <td>1970</td>\n",
       "      <td>Japan</td>\n",
       "      <td>150.437</td>\n",
       "      <td>72.0</td>\n",
       "    </tr>\n",
       "    <tr>\n",
       "      <th>4</th>\n",
       "      <td>1970</td>\n",
       "      <td>USA</td>\n",
       "      <td>326.961</td>\n",
       "      <td>70.9</td>\n",
       "    </tr>\n",
       "  </tbody>\n",
       "</table>\n",
       "</div>"
      ],
      "text/plain": [
       "   Year        Country  Spending_USD  Life_Expectancy\n",
       "0  1970        Germany       252.311             70.6\n",
       "1  1970         France       192.143             72.2\n",
       "2  1970  Great Britain       123.993             71.9\n",
       "3  1970          Japan       150.437             72.0\n",
       "4  1970            USA       326.961             70.9"
      ]
     },
     "execution_count": 32,
     "metadata": {},
     "output_type": "execute_result"
    }
   ],
   "source": [
    "health_expense.head()"
   ]
  },
  {
   "cell_type": "markdown",
   "id": "d9671c1d",
   "metadata": {
    "papermill": {
     "duration": 0.017794,
     "end_time": "2023-03-15T14:22:06.983493",
     "exception": false,
     "start_time": "2023-03-15T14:22:06.965699",
     "status": "completed"
    },
    "tags": []
   },
   "source": [
    "# **IRIS**"
   ]
  },
  {
   "cell_type": "code",
   "execution_count": 33,
   "id": "9359b998",
   "metadata": {
    "execution": {
     "iopub.execute_input": "2023-03-15T14:22:07.021708Z",
     "iopub.status.busy": "2023-03-15T14:22:07.021287Z",
     "iopub.status.idle": "2023-03-15T14:22:07.277488Z",
     "shell.execute_reply": "2023-03-15T14:22:07.276152Z"
    },
    "papermill": {
     "duration": 0.279368,
     "end_time": "2023-03-15T14:22:07.280916",
     "exception": false,
     "start_time": "2023-03-15T14:22:07.001548",
     "status": "completed"
    },
    "tags": []
   },
   "outputs": [],
   "source": [
    "# load inbuild dataset by name\n",
    "\n",
    "iris = sns.load_dataset('iris')"
   ]
  },
  {
   "cell_type": "code",
   "execution_count": 34,
   "id": "b3cd91f0",
   "metadata": {
    "execution": {
     "iopub.execute_input": "2023-03-15T14:22:07.319346Z",
     "iopub.status.busy": "2023-03-15T14:22:07.318860Z",
     "iopub.status.idle": "2023-03-15T14:22:07.334206Z",
     "shell.execute_reply": "2023-03-15T14:22:07.332608Z"
    },
    "papermill": {
     "duration": 0.038001,
     "end_time": "2023-03-15T14:22:07.336900",
     "exception": false,
     "start_time": "2023-03-15T14:22:07.298899",
     "status": "completed"
    },
    "tags": []
   },
   "outputs": [
    {
     "data": {
      "text/html": [
       "<div>\n",
       "<style scoped>\n",
       "    .dataframe tbody tr th:only-of-type {\n",
       "        vertical-align: middle;\n",
       "    }\n",
       "\n",
       "    .dataframe tbody tr th {\n",
       "        vertical-align: top;\n",
       "    }\n",
       "\n",
       "    .dataframe thead th {\n",
       "        text-align: right;\n",
       "    }\n",
       "</style>\n",
       "<table border=\"1\" class=\"dataframe\">\n",
       "  <thead>\n",
       "    <tr style=\"text-align: right;\">\n",
       "      <th></th>\n",
       "      <th>sepal_length</th>\n",
       "      <th>sepal_width</th>\n",
       "      <th>petal_length</th>\n",
       "      <th>petal_width</th>\n",
       "      <th>species</th>\n",
       "    </tr>\n",
       "  </thead>\n",
       "  <tbody>\n",
       "    <tr>\n",
       "      <th>0</th>\n",
       "      <td>5.1</td>\n",
       "      <td>3.5</td>\n",
       "      <td>1.4</td>\n",
       "      <td>0.2</td>\n",
       "      <td>setosa</td>\n",
       "    </tr>\n",
       "    <tr>\n",
       "      <th>1</th>\n",
       "      <td>4.9</td>\n",
       "      <td>3.0</td>\n",
       "      <td>1.4</td>\n",
       "      <td>0.2</td>\n",
       "      <td>setosa</td>\n",
       "    </tr>\n",
       "    <tr>\n",
       "      <th>2</th>\n",
       "      <td>4.7</td>\n",
       "      <td>3.2</td>\n",
       "      <td>1.3</td>\n",
       "      <td>0.2</td>\n",
       "      <td>setosa</td>\n",
       "    </tr>\n",
       "    <tr>\n",
       "      <th>3</th>\n",
       "      <td>4.6</td>\n",
       "      <td>3.1</td>\n",
       "      <td>1.5</td>\n",
       "      <td>0.2</td>\n",
       "      <td>setosa</td>\n",
       "    </tr>\n",
       "    <tr>\n",
       "      <th>4</th>\n",
       "      <td>5.0</td>\n",
       "      <td>3.6</td>\n",
       "      <td>1.4</td>\n",
       "      <td>0.2</td>\n",
       "      <td>setosa</td>\n",
       "    </tr>\n",
       "  </tbody>\n",
       "</table>\n",
       "</div>"
      ],
      "text/plain": [
       "   sepal_length  sepal_width  petal_length  petal_width species\n",
       "0           5.1          3.5           1.4          0.2  setosa\n",
       "1           4.9          3.0           1.4          0.2  setosa\n",
       "2           4.7          3.2           1.3          0.2  setosa\n",
       "3           4.6          3.1           1.5          0.2  setosa\n",
       "4           5.0          3.6           1.4          0.2  setosa"
      ]
     },
     "execution_count": 34,
     "metadata": {},
     "output_type": "execute_result"
    }
   ],
   "source": [
    "iris.head()"
   ]
  },
  {
   "cell_type": "markdown",
   "id": "d607ba8c",
   "metadata": {
    "papermill": {
     "duration": 0.017746,
     "end_time": "2023-03-15T14:22:07.372812",
     "exception": false,
     "start_time": "2023-03-15T14:22:07.355066",
     "status": "completed"
    },
    "tags": []
   },
   "source": [
    "# **MPG**"
   ]
  },
  {
   "cell_type": "code",
   "execution_count": 35,
   "id": "daded0a8",
   "metadata": {
    "execution": {
     "iopub.execute_input": "2023-03-15T14:22:07.412659Z",
     "iopub.status.busy": "2023-03-15T14:22:07.412166Z",
     "iopub.status.idle": "2023-03-15T14:22:07.655186Z",
     "shell.execute_reply": "2023-03-15T14:22:07.654128Z"
    },
    "papermill": {
     "duration": 0.266991,
     "end_time": "2023-03-15T14:22:07.658184",
     "exception": false,
     "start_time": "2023-03-15T14:22:07.391193",
     "status": "completed"
    },
    "tags": []
   },
   "outputs": [],
   "source": [
    "# load inbuild dataset by name\n",
    "\n",
    "mpg = sns.load_dataset('mpg')"
   ]
  },
  {
   "cell_type": "code",
   "execution_count": 36,
   "id": "c00fffe0",
   "metadata": {
    "execution": {
     "iopub.execute_input": "2023-03-15T14:22:07.697519Z",
     "iopub.status.busy": "2023-03-15T14:22:07.696138Z",
     "iopub.status.idle": "2023-03-15T14:22:07.713218Z",
     "shell.execute_reply": "2023-03-15T14:22:07.712009Z"
    },
    "papermill": {
     "duration": 0.039484,
     "end_time": "2023-03-15T14:22:07.715860",
     "exception": false,
     "start_time": "2023-03-15T14:22:07.676376",
     "status": "completed"
    },
    "tags": []
   },
   "outputs": [
    {
     "data": {
      "text/html": [
       "<div>\n",
       "<style scoped>\n",
       "    .dataframe tbody tr th:only-of-type {\n",
       "        vertical-align: middle;\n",
       "    }\n",
       "\n",
       "    .dataframe tbody tr th {\n",
       "        vertical-align: top;\n",
       "    }\n",
       "\n",
       "    .dataframe thead th {\n",
       "        text-align: right;\n",
       "    }\n",
       "</style>\n",
       "<table border=\"1\" class=\"dataframe\">\n",
       "  <thead>\n",
       "    <tr style=\"text-align: right;\">\n",
       "      <th></th>\n",
       "      <th>mpg</th>\n",
       "      <th>cylinders</th>\n",
       "      <th>displacement</th>\n",
       "      <th>horsepower</th>\n",
       "      <th>weight</th>\n",
       "      <th>acceleration</th>\n",
       "      <th>model_year</th>\n",
       "      <th>origin</th>\n",
       "      <th>name</th>\n",
       "    </tr>\n",
       "  </thead>\n",
       "  <tbody>\n",
       "    <tr>\n",
       "      <th>0</th>\n",
       "      <td>18.0</td>\n",
       "      <td>8</td>\n",
       "      <td>307.0</td>\n",
       "      <td>130.0</td>\n",
       "      <td>3504</td>\n",
       "      <td>12.0</td>\n",
       "      <td>70</td>\n",
       "      <td>usa</td>\n",
       "      <td>chevrolet chevelle malibu</td>\n",
       "    </tr>\n",
       "    <tr>\n",
       "      <th>1</th>\n",
       "      <td>15.0</td>\n",
       "      <td>8</td>\n",
       "      <td>350.0</td>\n",
       "      <td>165.0</td>\n",
       "      <td>3693</td>\n",
       "      <td>11.5</td>\n",
       "      <td>70</td>\n",
       "      <td>usa</td>\n",
       "      <td>buick skylark 320</td>\n",
       "    </tr>\n",
       "    <tr>\n",
       "      <th>2</th>\n",
       "      <td>18.0</td>\n",
       "      <td>8</td>\n",
       "      <td>318.0</td>\n",
       "      <td>150.0</td>\n",
       "      <td>3436</td>\n",
       "      <td>11.0</td>\n",
       "      <td>70</td>\n",
       "      <td>usa</td>\n",
       "      <td>plymouth satellite</td>\n",
       "    </tr>\n",
       "    <tr>\n",
       "      <th>3</th>\n",
       "      <td>16.0</td>\n",
       "      <td>8</td>\n",
       "      <td>304.0</td>\n",
       "      <td>150.0</td>\n",
       "      <td>3433</td>\n",
       "      <td>12.0</td>\n",
       "      <td>70</td>\n",
       "      <td>usa</td>\n",
       "      <td>amc rebel sst</td>\n",
       "    </tr>\n",
       "    <tr>\n",
       "      <th>4</th>\n",
       "      <td>17.0</td>\n",
       "      <td>8</td>\n",
       "      <td>302.0</td>\n",
       "      <td>140.0</td>\n",
       "      <td>3449</td>\n",
       "      <td>10.5</td>\n",
       "      <td>70</td>\n",
       "      <td>usa</td>\n",
       "      <td>ford torino</td>\n",
       "    </tr>\n",
       "  </tbody>\n",
       "</table>\n",
       "</div>"
      ],
      "text/plain": [
       "    mpg  cylinders  displacement  horsepower  weight  acceleration  \\\n",
       "0  18.0          8         307.0       130.0    3504          12.0   \n",
       "1  15.0          8         350.0       165.0    3693          11.5   \n",
       "2  18.0          8         318.0       150.0    3436          11.0   \n",
       "3  16.0          8         304.0       150.0    3433          12.0   \n",
       "4  17.0          8         302.0       140.0    3449          10.5   \n",
       "\n",
       "   model_year origin                       name  \n",
       "0          70    usa  chevrolet chevelle malibu  \n",
       "1          70    usa          buick skylark 320  \n",
       "2          70    usa         plymouth satellite  \n",
       "3          70    usa              amc rebel sst  \n",
       "4          70    usa                ford torino  "
      ]
     },
     "execution_count": 36,
     "metadata": {},
     "output_type": "execute_result"
    }
   ],
   "source": [
    "mpg.head()"
   ]
  },
  {
   "cell_type": "markdown",
   "id": "1e515a39",
   "metadata": {
    "papermill": {
     "duration": 0.017475,
     "end_time": "2023-03-15T14:22:07.751241",
     "exception": false,
     "start_time": "2023-03-15T14:22:07.733766",
     "status": "completed"
    },
    "tags": []
   },
   "source": [
    "# **Penguins**"
   ]
  },
  {
   "cell_type": "code",
   "execution_count": 37,
   "id": "dc1b11a1",
   "metadata": {
    "execution": {
     "iopub.execute_input": "2023-03-15T14:22:07.789174Z",
     "iopub.status.busy": "2023-03-15T14:22:07.788065Z",
     "iopub.status.idle": "2023-03-15T14:22:08.021953Z",
     "shell.execute_reply": "2023-03-15T14:22:08.020877Z"
    },
    "papermill": {
     "duration": 0.255951,
     "end_time": "2023-03-15T14:22:08.024897",
     "exception": false,
     "start_time": "2023-03-15T14:22:07.768946",
     "status": "completed"
    },
    "tags": []
   },
   "outputs": [],
   "source": [
    "# load inbuild dataset by name\n",
    "\n",
    "penguins = sns.load_dataset('penguins')"
   ]
  },
  {
   "cell_type": "code",
   "execution_count": 38,
   "id": "3ae89ef9",
   "metadata": {
    "execution": {
     "iopub.execute_input": "2023-03-15T14:22:08.062671Z",
     "iopub.status.busy": "2023-03-15T14:22:08.061854Z",
     "iopub.status.idle": "2023-03-15T14:22:08.077465Z",
     "shell.execute_reply": "2023-03-15T14:22:08.076438Z"
    },
    "papermill": {
     "duration": 0.036922,
     "end_time": "2023-03-15T14:22:08.079720",
     "exception": false,
     "start_time": "2023-03-15T14:22:08.042798",
     "status": "completed"
    },
    "tags": []
   },
   "outputs": [
    {
     "data": {
      "text/html": [
       "<div>\n",
       "<style scoped>\n",
       "    .dataframe tbody tr th:only-of-type {\n",
       "        vertical-align: middle;\n",
       "    }\n",
       "\n",
       "    .dataframe tbody tr th {\n",
       "        vertical-align: top;\n",
       "    }\n",
       "\n",
       "    .dataframe thead th {\n",
       "        text-align: right;\n",
       "    }\n",
       "</style>\n",
       "<table border=\"1\" class=\"dataframe\">\n",
       "  <thead>\n",
       "    <tr style=\"text-align: right;\">\n",
       "      <th></th>\n",
       "      <th>species</th>\n",
       "      <th>island</th>\n",
       "      <th>bill_length_mm</th>\n",
       "      <th>bill_depth_mm</th>\n",
       "      <th>flipper_length_mm</th>\n",
       "      <th>body_mass_g</th>\n",
       "      <th>sex</th>\n",
       "    </tr>\n",
       "  </thead>\n",
       "  <tbody>\n",
       "    <tr>\n",
       "      <th>0</th>\n",
       "      <td>Adelie</td>\n",
       "      <td>Torgersen</td>\n",
       "      <td>39.1</td>\n",
       "      <td>18.7</td>\n",
       "      <td>181.0</td>\n",
       "      <td>3750.0</td>\n",
       "      <td>Male</td>\n",
       "    </tr>\n",
       "    <tr>\n",
       "      <th>1</th>\n",
       "      <td>Adelie</td>\n",
       "      <td>Torgersen</td>\n",
       "      <td>39.5</td>\n",
       "      <td>17.4</td>\n",
       "      <td>186.0</td>\n",
       "      <td>3800.0</td>\n",
       "      <td>Female</td>\n",
       "    </tr>\n",
       "    <tr>\n",
       "      <th>2</th>\n",
       "      <td>Adelie</td>\n",
       "      <td>Torgersen</td>\n",
       "      <td>40.3</td>\n",
       "      <td>18.0</td>\n",
       "      <td>195.0</td>\n",
       "      <td>3250.0</td>\n",
       "      <td>Female</td>\n",
       "    </tr>\n",
       "    <tr>\n",
       "      <th>3</th>\n",
       "      <td>Adelie</td>\n",
       "      <td>Torgersen</td>\n",
       "      <td>NaN</td>\n",
       "      <td>NaN</td>\n",
       "      <td>NaN</td>\n",
       "      <td>NaN</td>\n",
       "      <td>NaN</td>\n",
       "    </tr>\n",
       "    <tr>\n",
       "      <th>4</th>\n",
       "      <td>Adelie</td>\n",
       "      <td>Torgersen</td>\n",
       "      <td>36.7</td>\n",
       "      <td>19.3</td>\n",
       "      <td>193.0</td>\n",
       "      <td>3450.0</td>\n",
       "      <td>Female</td>\n",
       "    </tr>\n",
       "  </tbody>\n",
       "</table>\n",
       "</div>"
      ],
      "text/plain": [
       "  species     island  bill_length_mm  bill_depth_mm  flipper_length_mm  \\\n",
       "0  Adelie  Torgersen            39.1           18.7              181.0   \n",
       "1  Adelie  Torgersen            39.5           17.4              186.0   \n",
       "2  Adelie  Torgersen            40.3           18.0              195.0   \n",
       "3  Adelie  Torgersen             NaN            NaN                NaN   \n",
       "4  Adelie  Torgersen            36.7           19.3              193.0   \n",
       "\n",
       "   body_mass_g     sex  \n",
       "0       3750.0    Male  \n",
       "1       3800.0  Female  \n",
       "2       3250.0  Female  \n",
       "3          NaN     NaN  \n",
       "4       3450.0  Female  "
      ]
     },
     "execution_count": 38,
     "metadata": {},
     "output_type": "execute_result"
    }
   ],
   "source": [
    "penguins.head()"
   ]
  },
  {
   "cell_type": "markdown",
   "id": "2cfb6d48",
   "metadata": {
    "papermill": {
     "duration": 0.017954,
     "end_time": "2023-03-15T14:22:08.116022",
     "exception": false,
     "start_time": "2023-03-15T14:22:08.098068",
     "status": "completed"
    },
    "tags": []
   },
   "source": [
    "# **Planets**"
   ]
  },
  {
   "cell_type": "code",
   "execution_count": 39,
   "id": "78f075cc",
   "metadata": {
    "execution": {
     "iopub.execute_input": "2023-03-15T14:22:08.156108Z",
     "iopub.status.busy": "2023-03-15T14:22:08.154762Z",
     "iopub.status.idle": "2023-03-15T14:22:08.396953Z",
     "shell.execute_reply": "2023-03-15T14:22:08.395691Z"
    },
    "papermill": {
     "duration": 0.264736,
     "end_time": "2023-03-15T14:22:08.399980",
     "exception": false,
     "start_time": "2023-03-15T14:22:08.135244",
     "status": "completed"
    },
    "tags": []
   },
   "outputs": [],
   "source": [
    "# load inbuild dataset by name\n",
    "\n",
    "planets = sns.load_dataset('planets')"
   ]
  },
  {
   "cell_type": "code",
   "execution_count": 40,
   "id": "d07278d8",
   "metadata": {
    "execution": {
     "iopub.execute_input": "2023-03-15T14:22:08.442039Z",
     "iopub.status.busy": "2023-03-15T14:22:08.441287Z",
     "iopub.status.idle": "2023-03-15T14:22:08.454337Z",
     "shell.execute_reply": "2023-03-15T14:22:08.453097Z"
    },
    "papermill": {
     "duration": 0.038666,
     "end_time": "2023-03-15T14:22:08.456852",
     "exception": false,
     "start_time": "2023-03-15T14:22:08.418186",
     "status": "completed"
    },
    "tags": []
   },
   "outputs": [
    {
     "data": {
      "text/html": [
       "<div>\n",
       "<style scoped>\n",
       "    .dataframe tbody tr th:only-of-type {\n",
       "        vertical-align: middle;\n",
       "    }\n",
       "\n",
       "    .dataframe tbody tr th {\n",
       "        vertical-align: top;\n",
       "    }\n",
       "\n",
       "    .dataframe thead th {\n",
       "        text-align: right;\n",
       "    }\n",
       "</style>\n",
       "<table border=\"1\" class=\"dataframe\">\n",
       "  <thead>\n",
       "    <tr style=\"text-align: right;\">\n",
       "      <th></th>\n",
       "      <th>method</th>\n",
       "      <th>number</th>\n",
       "      <th>orbital_period</th>\n",
       "      <th>mass</th>\n",
       "      <th>distance</th>\n",
       "      <th>year</th>\n",
       "    </tr>\n",
       "  </thead>\n",
       "  <tbody>\n",
       "    <tr>\n",
       "      <th>0</th>\n",
       "      <td>Radial Velocity</td>\n",
       "      <td>1</td>\n",
       "      <td>269.300</td>\n",
       "      <td>7.10</td>\n",
       "      <td>77.40</td>\n",
       "      <td>2006</td>\n",
       "    </tr>\n",
       "    <tr>\n",
       "      <th>1</th>\n",
       "      <td>Radial Velocity</td>\n",
       "      <td>1</td>\n",
       "      <td>874.774</td>\n",
       "      <td>2.21</td>\n",
       "      <td>56.95</td>\n",
       "      <td>2008</td>\n",
       "    </tr>\n",
       "    <tr>\n",
       "      <th>2</th>\n",
       "      <td>Radial Velocity</td>\n",
       "      <td>1</td>\n",
       "      <td>763.000</td>\n",
       "      <td>2.60</td>\n",
       "      <td>19.84</td>\n",
       "      <td>2011</td>\n",
       "    </tr>\n",
       "    <tr>\n",
       "      <th>3</th>\n",
       "      <td>Radial Velocity</td>\n",
       "      <td>1</td>\n",
       "      <td>326.030</td>\n",
       "      <td>19.40</td>\n",
       "      <td>110.62</td>\n",
       "      <td>2007</td>\n",
       "    </tr>\n",
       "    <tr>\n",
       "      <th>4</th>\n",
       "      <td>Radial Velocity</td>\n",
       "      <td>1</td>\n",
       "      <td>516.220</td>\n",
       "      <td>10.50</td>\n",
       "      <td>119.47</td>\n",
       "      <td>2009</td>\n",
       "    </tr>\n",
       "  </tbody>\n",
       "</table>\n",
       "</div>"
      ],
      "text/plain": [
       "            method  number  orbital_period   mass  distance  year\n",
       "0  Radial Velocity       1         269.300   7.10     77.40  2006\n",
       "1  Radial Velocity       1         874.774   2.21     56.95  2008\n",
       "2  Radial Velocity       1         763.000   2.60     19.84  2011\n",
       "3  Radial Velocity       1         326.030  19.40    110.62  2007\n",
       "4  Radial Velocity       1         516.220  10.50    119.47  2009"
      ]
     },
     "execution_count": 40,
     "metadata": {},
     "output_type": "execute_result"
    }
   ],
   "source": [
    "planets.head()"
   ]
  },
  {
   "cell_type": "markdown",
   "id": "39044a80",
   "metadata": {
    "papermill": {
     "duration": 0.017822,
     "end_time": "2023-03-15T14:22:08.493188",
     "exception": false,
     "start_time": "2023-03-15T14:22:08.475366",
     "status": "completed"
    },
    "tags": []
   },
   "source": [
    "# **Sea Ice**"
   ]
  },
  {
   "cell_type": "code",
   "execution_count": 41,
   "id": "67fa9f34",
   "metadata": {
    "execution": {
     "iopub.execute_input": "2023-03-15T14:22:08.533437Z",
     "iopub.status.busy": "2023-03-15T14:22:08.532513Z",
     "iopub.status.idle": "2023-03-15T14:22:08.842466Z",
     "shell.execute_reply": "2023-03-15T14:22:08.841460Z"
    },
    "papermill": {
     "duration": 0.333676,
     "end_time": "2023-03-15T14:22:08.845283",
     "exception": false,
     "start_time": "2023-03-15T14:22:08.511607",
     "status": "completed"
    },
    "tags": []
   },
   "outputs": [],
   "source": [
    "# load inbuild dataset by name\n",
    "\n",
    "sea_ice = sns.load_dataset('seaice')"
   ]
  },
  {
   "cell_type": "code",
   "execution_count": 42,
   "id": "5526a457",
   "metadata": {
    "execution": {
     "iopub.execute_input": "2023-03-15T14:22:08.885484Z",
     "iopub.status.busy": "2023-03-15T14:22:08.884505Z",
     "iopub.status.idle": "2023-03-15T14:22:08.895939Z",
     "shell.execute_reply": "2023-03-15T14:22:08.894700Z"
    },
    "papermill": {
     "duration": 0.033859,
     "end_time": "2023-03-15T14:22:08.898091",
     "exception": false,
     "start_time": "2023-03-15T14:22:08.864232",
     "status": "completed"
    },
    "tags": []
   },
   "outputs": [
    {
     "data": {
      "text/html": [
       "<div>\n",
       "<style scoped>\n",
       "    .dataframe tbody tr th:only-of-type {\n",
       "        vertical-align: middle;\n",
       "    }\n",
       "\n",
       "    .dataframe tbody tr th {\n",
       "        vertical-align: top;\n",
       "    }\n",
       "\n",
       "    .dataframe thead th {\n",
       "        text-align: right;\n",
       "    }\n",
       "</style>\n",
       "<table border=\"1\" class=\"dataframe\">\n",
       "  <thead>\n",
       "    <tr style=\"text-align: right;\">\n",
       "      <th></th>\n",
       "      <th>Date</th>\n",
       "      <th>Extent</th>\n",
       "    </tr>\n",
       "  </thead>\n",
       "  <tbody>\n",
       "    <tr>\n",
       "      <th>0</th>\n",
       "      <td>1980-01-01</td>\n",
       "      <td>14.200</td>\n",
       "    </tr>\n",
       "    <tr>\n",
       "      <th>1</th>\n",
       "      <td>1980-01-03</td>\n",
       "      <td>14.302</td>\n",
       "    </tr>\n",
       "    <tr>\n",
       "      <th>2</th>\n",
       "      <td>1980-01-05</td>\n",
       "      <td>14.414</td>\n",
       "    </tr>\n",
       "    <tr>\n",
       "      <th>3</th>\n",
       "      <td>1980-01-07</td>\n",
       "      <td>14.518</td>\n",
       "    </tr>\n",
       "    <tr>\n",
       "      <th>4</th>\n",
       "      <td>1980-01-09</td>\n",
       "      <td>14.594</td>\n",
       "    </tr>\n",
       "  </tbody>\n",
       "</table>\n",
       "</div>"
      ],
      "text/plain": [
       "        Date  Extent\n",
       "0 1980-01-01  14.200\n",
       "1 1980-01-03  14.302\n",
       "2 1980-01-05  14.414\n",
       "3 1980-01-07  14.518\n",
       "4 1980-01-09  14.594"
      ]
     },
     "execution_count": 42,
     "metadata": {},
     "output_type": "execute_result"
    }
   ],
   "source": [
    "sea_ice.head()"
   ]
  },
  {
   "cell_type": "markdown",
   "id": "32533f8e",
   "metadata": {
    "papermill": {
     "duration": 0.018562,
     "end_time": "2023-03-15T14:22:08.935349",
     "exception": false,
     "start_time": "2023-03-15T14:22:08.916787",
     "status": "completed"
    },
    "tags": []
   },
   "source": [
    "# **Taxis**"
   ]
  },
  {
   "cell_type": "code",
   "execution_count": 43,
   "id": "ce64431d",
   "metadata": {
    "execution": {
     "iopub.execute_input": "2023-03-15T14:22:08.975260Z",
     "iopub.status.busy": "2023-03-15T14:22:08.974835Z",
     "iopub.status.idle": "2023-03-15T14:22:09.690763Z",
     "shell.execute_reply": "2023-03-15T14:22:09.689788Z"
    },
    "papermill": {
     "duration": 0.739324,
     "end_time": "2023-03-15T14:22:09.693473",
     "exception": false,
     "start_time": "2023-03-15T14:22:08.954149",
     "status": "completed"
    },
    "tags": []
   },
   "outputs": [],
   "source": [
    "# load inbuild dataset by name\n",
    "\n",
    "taxis = sns.load_dataset('taxis')"
   ]
  },
  {
   "cell_type": "code",
   "execution_count": 44,
   "id": "5f921fd1",
   "metadata": {
    "execution": {
     "iopub.execute_input": "2023-03-15T14:22:09.731998Z",
     "iopub.status.busy": "2023-03-15T14:22:09.731565Z",
     "iopub.status.idle": "2023-03-15T14:22:09.751814Z",
     "shell.execute_reply": "2023-03-15T14:22:09.750709Z"
    },
    "papermill": {
     "duration": 0.042436,
     "end_time": "2023-03-15T14:22:09.754310",
     "exception": false,
     "start_time": "2023-03-15T14:22:09.711874",
     "status": "completed"
    },
    "tags": []
   },
   "outputs": [
    {
     "data": {
      "text/html": [
       "<div>\n",
       "<style scoped>\n",
       "    .dataframe tbody tr th:only-of-type {\n",
       "        vertical-align: middle;\n",
       "    }\n",
       "\n",
       "    .dataframe tbody tr th {\n",
       "        vertical-align: top;\n",
       "    }\n",
       "\n",
       "    .dataframe thead th {\n",
       "        text-align: right;\n",
       "    }\n",
       "</style>\n",
       "<table border=\"1\" class=\"dataframe\">\n",
       "  <thead>\n",
       "    <tr style=\"text-align: right;\">\n",
       "      <th></th>\n",
       "      <th>pickup</th>\n",
       "      <th>dropoff</th>\n",
       "      <th>passengers</th>\n",
       "      <th>distance</th>\n",
       "      <th>fare</th>\n",
       "      <th>tip</th>\n",
       "      <th>tolls</th>\n",
       "      <th>total</th>\n",
       "      <th>color</th>\n",
       "      <th>payment</th>\n",
       "      <th>pickup_zone</th>\n",
       "      <th>dropoff_zone</th>\n",
       "      <th>pickup_borough</th>\n",
       "      <th>dropoff_borough</th>\n",
       "    </tr>\n",
       "  </thead>\n",
       "  <tbody>\n",
       "    <tr>\n",
       "      <th>0</th>\n",
       "      <td>2019-03-23 20:21:09</td>\n",
       "      <td>2019-03-23 20:27:24</td>\n",
       "      <td>1</td>\n",
       "      <td>1.60</td>\n",
       "      <td>7.0</td>\n",
       "      <td>2.15</td>\n",
       "      <td>0.0</td>\n",
       "      <td>12.95</td>\n",
       "      <td>yellow</td>\n",
       "      <td>credit card</td>\n",
       "      <td>Lenox Hill West</td>\n",
       "      <td>UN/Turtle Bay South</td>\n",
       "      <td>Manhattan</td>\n",
       "      <td>Manhattan</td>\n",
       "    </tr>\n",
       "    <tr>\n",
       "      <th>1</th>\n",
       "      <td>2019-03-04 16:11:55</td>\n",
       "      <td>2019-03-04 16:19:00</td>\n",
       "      <td>1</td>\n",
       "      <td>0.79</td>\n",
       "      <td>5.0</td>\n",
       "      <td>0.00</td>\n",
       "      <td>0.0</td>\n",
       "      <td>9.30</td>\n",
       "      <td>yellow</td>\n",
       "      <td>cash</td>\n",
       "      <td>Upper West Side South</td>\n",
       "      <td>Upper West Side South</td>\n",
       "      <td>Manhattan</td>\n",
       "      <td>Manhattan</td>\n",
       "    </tr>\n",
       "    <tr>\n",
       "      <th>2</th>\n",
       "      <td>2019-03-27 17:53:01</td>\n",
       "      <td>2019-03-27 18:00:25</td>\n",
       "      <td>1</td>\n",
       "      <td>1.37</td>\n",
       "      <td>7.5</td>\n",
       "      <td>2.36</td>\n",
       "      <td>0.0</td>\n",
       "      <td>14.16</td>\n",
       "      <td>yellow</td>\n",
       "      <td>credit card</td>\n",
       "      <td>Alphabet City</td>\n",
       "      <td>West Village</td>\n",
       "      <td>Manhattan</td>\n",
       "      <td>Manhattan</td>\n",
       "    </tr>\n",
       "    <tr>\n",
       "      <th>3</th>\n",
       "      <td>2019-03-10 01:23:59</td>\n",
       "      <td>2019-03-10 01:49:51</td>\n",
       "      <td>1</td>\n",
       "      <td>7.70</td>\n",
       "      <td>27.0</td>\n",
       "      <td>6.15</td>\n",
       "      <td>0.0</td>\n",
       "      <td>36.95</td>\n",
       "      <td>yellow</td>\n",
       "      <td>credit card</td>\n",
       "      <td>Hudson Sq</td>\n",
       "      <td>Yorkville West</td>\n",
       "      <td>Manhattan</td>\n",
       "      <td>Manhattan</td>\n",
       "    </tr>\n",
       "    <tr>\n",
       "      <th>4</th>\n",
       "      <td>2019-03-30 13:27:42</td>\n",
       "      <td>2019-03-30 13:37:14</td>\n",
       "      <td>3</td>\n",
       "      <td>2.16</td>\n",
       "      <td>9.0</td>\n",
       "      <td>1.10</td>\n",
       "      <td>0.0</td>\n",
       "      <td>13.40</td>\n",
       "      <td>yellow</td>\n",
       "      <td>credit card</td>\n",
       "      <td>Midtown East</td>\n",
       "      <td>Yorkville West</td>\n",
       "      <td>Manhattan</td>\n",
       "      <td>Manhattan</td>\n",
       "    </tr>\n",
       "  </tbody>\n",
       "</table>\n",
       "</div>"
      ],
      "text/plain": [
       "               pickup             dropoff  passengers  distance  fare   tip  \\\n",
       "0 2019-03-23 20:21:09 2019-03-23 20:27:24           1      1.60   7.0  2.15   \n",
       "1 2019-03-04 16:11:55 2019-03-04 16:19:00           1      0.79   5.0  0.00   \n",
       "2 2019-03-27 17:53:01 2019-03-27 18:00:25           1      1.37   7.5  2.36   \n",
       "3 2019-03-10 01:23:59 2019-03-10 01:49:51           1      7.70  27.0  6.15   \n",
       "4 2019-03-30 13:27:42 2019-03-30 13:37:14           3      2.16   9.0  1.10   \n",
       "\n",
       "   tolls  total   color      payment            pickup_zone  \\\n",
       "0    0.0  12.95  yellow  credit card        Lenox Hill West   \n",
       "1    0.0   9.30  yellow         cash  Upper West Side South   \n",
       "2    0.0  14.16  yellow  credit card          Alphabet City   \n",
       "3    0.0  36.95  yellow  credit card              Hudson Sq   \n",
       "4    0.0  13.40  yellow  credit card           Midtown East   \n",
       "\n",
       "            dropoff_zone pickup_borough dropoff_borough  \n",
       "0    UN/Turtle Bay South      Manhattan       Manhattan  \n",
       "1  Upper West Side South      Manhattan       Manhattan  \n",
       "2           West Village      Manhattan       Manhattan  \n",
       "3         Yorkville West      Manhattan       Manhattan  \n",
       "4         Yorkville West      Manhattan       Manhattan  "
      ]
     },
     "execution_count": 44,
     "metadata": {},
     "output_type": "execute_result"
    }
   ],
   "source": [
    "taxis.head()"
   ]
  },
  {
   "cell_type": "markdown",
   "id": "27a13a89",
   "metadata": {
    "papermill": {
     "duration": 0.018267,
     "end_time": "2023-03-15T14:22:09.791474",
     "exception": false,
     "start_time": "2023-03-15T14:22:09.773207",
     "status": "completed"
    },
    "tags": []
   },
   "source": [
    "# **Tips**"
   ]
  },
  {
   "cell_type": "code",
   "execution_count": 45,
   "id": "86970a18",
   "metadata": {
    "execution": {
     "iopub.execute_input": "2023-03-15T14:22:09.831547Z",
     "iopub.status.busy": "2023-03-15T14:22:09.831145Z",
     "iopub.status.idle": "2023-03-15T14:22:10.063765Z",
     "shell.execute_reply": "2023-03-15T14:22:10.062536Z"
    },
    "papermill": {
     "duration": 0.256466,
     "end_time": "2023-03-15T14:22:10.066456",
     "exception": false,
     "start_time": "2023-03-15T14:22:09.809990",
     "status": "completed"
    },
    "tags": []
   },
   "outputs": [],
   "source": [
    "# load inbuild dataset by name\n",
    "\n",
    "tips = sns.load_dataset('tips')"
   ]
  },
  {
   "cell_type": "code",
   "execution_count": 46,
   "id": "edf1a362",
   "metadata": {
    "execution": {
     "iopub.execute_input": "2023-03-15T14:22:10.106489Z",
     "iopub.status.busy": "2023-03-15T14:22:10.105429Z",
     "iopub.status.idle": "2023-03-15T14:22:10.120285Z",
     "shell.execute_reply": "2023-03-15T14:22:10.119281Z"
    },
    "papermill": {
     "duration": 0.037052,
     "end_time": "2023-03-15T14:22:10.122447",
     "exception": false,
     "start_time": "2023-03-15T14:22:10.085395",
     "status": "completed"
    },
    "tags": []
   },
   "outputs": [
    {
     "data": {
      "text/html": [
       "<div>\n",
       "<style scoped>\n",
       "    .dataframe tbody tr th:only-of-type {\n",
       "        vertical-align: middle;\n",
       "    }\n",
       "\n",
       "    .dataframe tbody tr th {\n",
       "        vertical-align: top;\n",
       "    }\n",
       "\n",
       "    .dataframe thead th {\n",
       "        text-align: right;\n",
       "    }\n",
       "</style>\n",
       "<table border=\"1\" class=\"dataframe\">\n",
       "  <thead>\n",
       "    <tr style=\"text-align: right;\">\n",
       "      <th></th>\n",
       "      <th>total_bill</th>\n",
       "      <th>tip</th>\n",
       "      <th>sex</th>\n",
       "      <th>smoker</th>\n",
       "      <th>day</th>\n",
       "      <th>time</th>\n",
       "      <th>size</th>\n",
       "    </tr>\n",
       "  </thead>\n",
       "  <tbody>\n",
       "    <tr>\n",
       "      <th>0</th>\n",
       "      <td>16.99</td>\n",
       "      <td>1.01</td>\n",
       "      <td>Female</td>\n",
       "      <td>No</td>\n",
       "      <td>Sun</td>\n",
       "      <td>Dinner</td>\n",
       "      <td>2</td>\n",
       "    </tr>\n",
       "    <tr>\n",
       "      <th>1</th>\n",
       "      <td>10.34</td>\n",
       "      <td>1.66</td>\n",
       "      <td>Male</td>\n",
       "      <td>No</td>\n",
       "      <td>Sun</td>\n",
       "      <td>Dinner</td>\n",
       "      <td>3</td>\n",
       "    </tr>\n",
       "    <tr>\n",
       "      <th>2</th>\n",
       "      <td>21.01</td>\n",
       "      <td>3.50</td>\n",
       "      <td>Male</td>\n",
       "      <td>No</td>\n",
       "      <td>Sun</td>\n",
       "      <td>Dinner</td>\n",
       "      <td>3</td>\n",
       "    </tr>\n",
       "    <tr>\n",
       "      <th>3</th>\n",
       "      <td>23.68</td>\n",
       "      <td>3.31</td>\n",
       "      <td>Male</td>\n",
       "      <td>No</td>\n",
       "      <td>Sun</td>\n",
       "      <td>Dinner</td>\n",
       "      <td>2</td>\n",
       "    </tr>\n",
       "    <tr>\n",
       "      <th>4</th>\n",
       "      <td>24.59</td>\n",
       "      <td>3.61</td>\n",
       "      <td>Female</td>\n",
       "      <td>No</td>\n",
       "      <td>Sun</td>\n",
       "      <td>Dinner</td>\n",
       "      <td>4</td>\n",
       "    </tr>\n",
       "  </tbody>\n",
       "</table>\n",
       "</div>"
      ],
      "text/plain": [
       "   total_bill   tip     sex smoker  day    time  size\n",
       "0       16.99  1.01  Female     No  Sun  Dinner     2\n",
       "1       10.34  1.66    Male     No  Sun  Dinner     3\n",
       "2       21.01  3.50    Male     No  Sun  Dinner     3\n",
       "3       23.68  3.31    Male     No  Sun  Dinner     2\n",
       "4       24.59  3.61  Female     No  Sun  Dinner     4"
      ]
     },
     "execution_count": 46,
     "metadata": {},
     "output_type": "execute_result"
    }
   ],
   "source": [
    "tips.head()"
   ]
  },
  {
   "cell_type": "markdown",
   "id": "a012873b",
   "metadata": {
    "papermill": {
     "duration": 0.018225,
     "end_time": "2023-03-15T14:22:10.159517",
     "exception": false,
     "start_time": "2023-03-15T14:22:10.141292",
     "status": "completed"
    },
    "tags": []
   },
   "source": [
    "# **Titanic**"
   ]
  },
  {
   "cell_type": "code",
   "execution_count": 47,
   "id": "e7c8f39f",
   "metadata": {
    "execution": {
     "iopub.execute_input": "2023-03-15T14:22:10.211198Z",
     "iopub.status.busy": "2023-03-15T14:22:10.209490Z",
     "iopub.status.idle": "2023-03-15T14:22:10.360894Z",
     "shell.execute_reply": "2023-03-15T14:22:10.359499Z"
    },
    "papermill": {
     "duration": 0.180747,
     "end_time": "2023-03-15T14:22:10.364217",
     "exception": false,
     "start_time": "2023-03-15T14:22:10.183470",
     "status": "completed"
    },
    "tags": []
   },
   "outputs": [],
   "source": [
    "# load inbuild dataset by name\n",
    "\n",
    "titanic =  sns.load_dataset('titanic')"
   ]
  },
  {
   "cell_type": "code",
   "execution_count": 48,
   "id": "b9cfc679",
   "metadata": {
    "execution": {
     "iopub.execute_input": "2023-03-15T14:22:10.416224Z",
     "iopub.status.busy": "2023-03-15T14:22:10.415345Z",
     "iopub.status.idle": "2023-03-15T14:22:10.439325Z",
     "shell.execute_reply": "2023-03-15T14:22:10.437996Z"
    },
    "papermill": {
     "duration": 0.051642,
     "end_time": "2023-03-15T14:22:10.441914",
     "exception": false,
     "start_time": "2023-03-15T14:22:10.390272",
     "status": "completed"
    },
    "tags": []
   },
   "outputs": [
    {
     "data": {
      "text/html": [
       "<div>\n",
       "<style scoped>\n",
       "    .dataframe tbody tr th:only-of-type {\n",
       "        vertical-align: middle;\n",
       "    }\n",
       "\n",
       "    .dataframe tbody tr th {\n",
       "        vertical-align: top;\n",
       "    }\n",
       "\n",
       "    .dataframe thead th {\n",
       "        text-align: right;\n",
       "    }\n",
       "</style>\n",
       "<table border=\"1\" class=\"dataframe\">\n",
       "  <thead>\n",
       "    <tr style=\"text-align: right;\">\n",
       "      <th></th>\n",
       "      <th>survived</th>\n",
       "      <th>pclass</th>\n",
       "      <th>sex</th>\n",
       "      <th>age</th>\n",
       "      <th>sibsp</th>\n",
       "      <th>parch</th>\n",
       "      <th>fare</th>\n",
       "      <th>embarked</th>\n",
       "      <th>class</th>\n",
       "      <th>who</th>\n",
       "      <th>adult_male</th>\n",
       "      <th>deck</th>\n",
       "      <th>embark_town</th>\n",
       "      <th>alive</th>\n",
       "      <th>alone</th>\n",
       "    </tr>\n",
       "  </thead>\n",
       "  <tbody>\n",
       "    <tr>\n",
       "      <th>0</th>\n",
       "      <td>0</td>\n",
       "      <td>3</td>\n",
       "      <td>male</td>\n",
       "      <td>22.0</td>\n",
       "      <td>1</td>\n",
       "      <td>0</td>\n",
       "      <td>7.2500</td>\n",
       "      <td>S</td>\n",
       "      <td>Third</td>\n",
       "      <td>man</td>\n",
       "      <td>True</td>\n",
       "      <td>NaN</td>\n",
       "      <td>Southampton</td>\n",
       "      <td>no</td>\n",
       "      <td>False</td>\n",
       "    </tr>\n",
       "    <tr>\n",
       "      <th>1</th>\n",
       "      <td>1</td>\n",
       "      <td>1</td>\n",
       "      <td>female</td>\n",
       "      <td>38.0</td>\n",
       "      <td>1</td>\n",
       "      <td>0</td>\n",
       "      <td>71.2833</td>\n",
       "      <td>C</td>\n",
       "      <td>First</td>\n",
       "      <td>woman</td>\n",
       "      <td>False</td>\n",
       "      <td>C</td>\n",
       "      <td>Cherbourg</td>\n",
       "      <td>yes</td>\n",
       "      <td>False</td>\n",
       "    </tr>\n",
       "    <tr>\n",
       "      <th>2</th>\n",
       "      <td>1</td>\n",
       "      <td>3</td>\n",
       "      <td>female</td>\n",
       "      <td>26.0</td>\n",
       "      <td>0</td>\n",
       "      <td>0</td>\n",
       "      <td>7.9250</td>\n",
       "      <td>S</td>\n",
       "      <td>Third</td>\n",
       "      <td>woman</td>\n",
       "      <td>False</td>\n",
       "      <td>NaN</td>\n",
       "      <td>Southampton</td>\n",
       "      <td>yes</td>\n",
       "      <td>True</td>\n",
       "    </tr>\n",
       "    <tr>\n",
       "      <th>3</th>\n",
       "      <td>1</td>\n",
       "      <td>1</td>\n",
       "      <td>female</td>\n",
       "      <td>35.0</td>\n",
       "      <td>1</td>\n",
       "      <td>0</td>\n",
       "      <td>53.1000</td>\n",
       "      <td>S</td>\n",
       "      <td>First</td>\n",
       "      <td>woman</td>\n",
       "      <td>False</td>\n",
       "      <td>C</td>\n",
       "      <td>Southampton</td>\n",
       "      <td>yes</td>\n",
       "      <td>False</td>\n",
       "    </tr>\n",
       "    <tr>\n",
       "      <th>4</th>\n",
       "      <td>0</td>\n",
       "      <td>3</td>\n",
       "      <td>male</td>\n",
       "      <td>35.0</td>\n",
       "      <td>0</td>\n",
       "      <td>0</td>\n",
       "      <td>8.0500</td>\n",
       "      <td>S</td>\n",
       "      <td>Third</td>\n",
       "      <td>man</td>\n",
       "      <td>True</td>\n",
       "      <td>NaN</td>\n",
       "      <td>Southampton</td>\n",
       "      <td>no</td>\n",
       "      <td>True</td>\n",
       "    </tr>\n",
       "  </tbody>\n",
       "</table>\n",
       "</div>"
      ],
      "text/plain": [
       "   survived  pclass     sex   age  sibsp  parch     fare embarked  class  \\\n",
       "0         0       3    male  22.0      1      0   7.2500        S  Third   \n",
       "1         1       1  female  38.0      1      0  71.2833        C  First   \n",
       "2         1       3  female  26.0      0      0   7.9250        S  Third   \n",
       "3         1       1  female  35.0      1      0  53.1000        S  First   \n",
       "4         0       3    male  35.0      0      0   8.0500        S  Third   \n",
       "\n",
       "     who  adult_male deck  embark_town alive  alone  \n",
       "0    man        True  NaN  Southampton    no  False  \n",
       "1  woman       False    C    Cherbourg   yes  False  \n",
       "2  woman       False  NaN  Southampton   yes   True  \n",
       "3  woman       False    C  Southampton   yes  False  \n",
       "4    man        True  NaN  Southampton    no   True  "
      ]
     },
     "execution_count": 48,
     "metadata": {},
     "output_type": "execute_result"
    }
   ],
   "source": [
    "titanic.head()"
   ]
  }
 ],
 "metadata": {
  "kernelspec": {
   "display_name": "Python 3",
   "language": "python",
   "name": "python3"
  },
  "language_info": {
   "codemirror_mode": {
    "name": "ipython",
    "version": 3
   },
   "file_extension": ".py",
   "mimetype": "text/x-python",
   "name": "python",
   "nbconvert_exporter": "python",
   "pygments_lexer": "ipython3",
   "version": "3.7.12"
  },
  "papermill": {
   "default_parameters": {},
   "duration": 23.421196,
   "end_time": "2023-03-15T14:22:11.184046",
   "environment_variables": {},
   "exception": null,
   "input_path": "__notebook__.ipynb",
   "output_path": "__notebook__.ipynb",
   "parameters": {},
   "start_time": "2023-03-15T14:21:47.762850",
   "version": "2.4.0"
  }
 },
 "nbformat": 4,
 "nbformat_minor": 5
}
