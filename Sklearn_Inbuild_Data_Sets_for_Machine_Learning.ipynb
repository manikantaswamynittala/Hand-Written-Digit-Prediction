{
 "cells": [
  {
   "cell_type": "markdown",
   "id": "2e128e58",
   "metadata": {
    "papermill": {
     "duration": 0.012955,
     "end_time": "2023-03-15T14:43:44.270680",
     "exception": false,
     "start_time": "2023-03-15T14:43:44.257725",
     "status": "completed"
    },
    "tags": []
   },
   "source": [
    "# **[YBI Foundation](https://www.ybifoundation.org/)** \n",
    "click to know more"
   ]
  },
  {
   "cell_type": "markdown",
   "id": "69f5b9fc",
   "metadata": {
    "papermill": {
     "duration": 0.009871,
     "end_time": "2023-03-15T14:43:44.291895",
     "exception": false,
     "start_time": "2023-03-15T14:43:44.282024",
     "status": "completed"
    },
    "tags": []
   },
   "source": [
    "**scikit-learn comes with a few small standard datasets that do not require to download any file and can be loaded using the inbuild functions**\n",
    "\n",
    "\n",
    "**Most convinent way to download (a) dataset as datframe, (b) X and y as pandas dataframe, (c) X and y as numpy array**\n",
    "\n",
    "🔥 Return datset as dataframe (as_frame=True)\n",
    "\n",
    "🔥 Return Features (X) and Target (y) as dataframe (return_X_y= True, as_frame=True)\n",
    "\n",
    "🔥 Return Features (X) and Target (y) as array (return_X_y= True)"
   ]
  },
  {
   "cell_type": "markdown",
   "id": "11440d90",
   "metadata": {
    "papermill": {
     "duration": 0.009882,
     "end_time": "2023-03-15T14:43:44.312139",
     "exception": false,
     "start_time": "2023-03-15T14:43:44.302257",
     "status": "completed"
    },
    "tags": []
   },
   "source": [
    "# **Breast cancer wisconsin dataset (classification)**"
   ]
  },
  {
   "cell_type": "code",
   "execution_count": 1,
   "id": "51e835e3",
   "metadata": {
    "execution": {
     "iopub.execute_input": "2023-03-15T14:43:44.335848Z",
     "iopub.status.busy": "2023-03-15T14:43:44.335388Z",
     "iopub.status.idle": "2023-03-15T14:43:46.036864Z",
     "shell.execute_reply": "2023-03-15T14:43:46.035209Z"
    },
    "papermill": {
     "duration": 1.71862,
     "end_time": "2023-03-15T14:43:46.040712",
     "exception": false,
     "start_time": "2023-03-15T14:43:44.322092",
     "status": "completed"
    },
    "tags": []
   },
   "outputs": [],
   "source": [
    "# Load and return the breast cancer wisconsin dataset (classification)\n",
    "\n",
    "from sklearn.datasets import load_breast_cancer"
   ]
  },
  {
   "cell_type": "code",
   "execution_count": 2,
   "id": "fcd0e95f",
   "metadata": {
    "execution": {
     "iopub.execute_input": "2023-03-15T14:43:46.061884Z",
     "iopub.status.busy": "2023-03-15T14:43:46.060519Z",
     "iopub.status.idle": "2023-03-15T14:43:46.099465Z",
     "shell.execute_reply": "2023-03-15T14:43:46.096999Z"
    },
    "papermill": {
     "duration": 0.054124,
     "end_time": "2023-03-15T14:43:46.104069",
     "exception": false,
     "start_time": "2023-03-15T14:43:46.049945",
     "status": "completed"
    },
    "tags": []
   },
   "outputs": [],
   "source": [
    "# 🔥 Return datset as dataframe\n",
    "\n",
    "breast_cancer = load_breast_cancer(as_frame=True)"
   ]
  },
  {
   "cell_type": "code",
   "execution_count": 3,
   "id": "cc752d3b",
   "metadata": {
    "execution": {
     "iopub.execute_input": "2023-03-15T14:43:46.128848Z",
     "iopub.status.busy": "2023-03-15T14:43:46.128362Z",
     "iopub.status.idle": "2023-03-15T14:43:46.152652Z",
     "shell.execute_reply": "2023-03-15T14:43:46.150909Z"
    },
    "papermill": {
     "duration": 0.041286,
     "end_time": "2023-03-15T14:43:46.156318",
     "exception": false,
     "start_time": "2023-03-15T14:43:46.115032",
     "status": "completed"
    },
    "tags": []
   },
   "outputs": [],
   "source": [
    "# 🔥 Return Features (X) and Target (y) as dataframe\n",
    "\n",
    "X, y = load_breast_cancer(return_X_y= True, as_frame=True)"
   ]
  },
  {
   "cell_type": "code",
   "execution_count": 4,
   "id": "423d684c",
   "metadata": {
    "execution": {
     "iopub.execute_input": "2023-03-15T14:43:46.181435Z",
     "iopub.status.busy": "2023-03-15T14:43:46.180334Z",
     "iopub.status.idle": "2023-03-15T14:43:46.195990Z",
     "shell.execute_reply": "2023-03-15T14:43:46.194729Z"
    },
    "papermill": {
     "duration": 0.031486,
     "end_time": "2023-03-15T14:43:46.199277",
     "exception": false,
     "start_time": "2023-03-15T14:43:46.167791",
     "status": "completed"
    },
    "tags": []
   },
   "outputs": [],
   "source": [
    "# 🔥 Return Features (X) and Target (y) as array\n",
    "\n",
    "X, y = load_breast_cancer(return_X_y= True)"
   ]
  },
  {
   "cell_type": "code",
   "execution_count": 5,
   "id": "8b0c4364",
   "metadata": {
    "execution": {
     "iopub.execute_input": "2023-03-15T14:43:46.222428Z",
     "iopub.status.busy": "2023-03-15T14:43:46.221218Z",
     "iopub.status.idle": "2023-03-15T14:43:46.235987Z",
     "shell.execute_reply": "2023-03-15T14:43:46.233819Z"
    },
    "papermill": {
     "duration": 0.029365,
     "end_time": "2023-03-15T14:43:46.239186",
     "exception": false,
     "start_time": "2023-03-15T14:43:46.209821",
     "status": "completed"
    },
    "tags": []
   },
   "outputs": [],
   "source": [
    "# Return Dictionary-like object with (1) DESCR (2) frature_names (3) target_names (4) data (5) target (3) \n",
    "\n",
    "breast_cancer = load_breast_cancer()"
   ]
  },
  {
   "cell_type": "code",
   "execution_count": 6,
   "id": "6d19811c",
   "metadata": {
    "execution": {
     "iopub.execute_input": "2023-03-15T14:43:46.261978Z",
     "iopub.status.busy": "2023-03-15T14:43:46.260399Z",
     "iopub.status.idle": "2023-03-15T14:43:46.272024Z",
     "shell.execute_reply": "2023-03-15T14:43:46.270739Z"
    },
    "papermill": {
     "duration": 0.026953,
     "end_time": "2023-03-15T14:43:46.275678",
     "exception": false,
     "start_time": "2023-03-15T14:43:46.248725",
     "status": "completed"
    },
    "tags": []
   },
   "outputs": [
    {
     "data": {
      "text/plain": [
       "'.. _breast_cancer_dataset:\\n\\nBreast cancer wisconsin (diagnostic) dataset\\n--------------------------------------------\\n\\n**Data Set Characteristics:**\\n\\n    :Number of Instances: 569\\n\\n    :Number of Attributes: 30 numeric, predictive attributes and the class\\n\\n    :Attribute Information:\\n        - radius (mean of distances from center to points on the perimeter)\\n        - texture (standard deviation of gray-scale values)\\n        - perimeter\\n        - area\\n        - smoothness (local variation in radius lengths)\\n        - compactness (perimeter^2 / area - 1.0)\\n        - concavity (severity of concave portions of the contour)\\n        - concave points (number of concave portions of the contour)\\n        - symmetry\\n        - fractal dimension (\"coastline approximation\" - 1)\\n\\n        The mean, standard error, and \"worst\" or largest (mean of the three\\n        worst/largest values) of these features were computed for each image,\\n        resulting in 30 features.  For instance, field 0 is Mean Radius, field\\n        10 is Radius SE, field 20 is Worst Radius.\\n\\n        - class:\\n                - WDBC-Malignant\\n                - WDBC-Benign\\n\\n    :Summary Statistics:\\n\\n    ===================================== ====== ======\\n                                           Min    Max\\n    ===================================== ====== ======\\n    radius (mean):                        6.981  28.11\\n    texture (mean):                       9.71   39.28\\n    perimeter (mean):                     43.79  188.5\\n    area (mean):                          143.5  2501.0\\n    smoothness (mean):                    0.053  0.163\\n    compactness (mean):                   0.019  0.345\\n    concavity (mean):                     0.0    0.427\\n    concave points (mean):                0.0    0.201\\n    symmetry (mean):                      0.106  0.304\\n    fractal dimension (mean):             0.05   0.097\\n    radius (standard error):              0.112  2.873\\n    texture (standard error):             0.36   4.885\\n    perimeter (standard error):           0.757  21.98\\n    area (standard error):                6.802  542.2\\n    smoothness (standard error):          0.002  0.031\\n    compactness (standard error):         0.002  0.135\\n    concavity (standard error):           0.0    0.396\\n    concave points (standard error):      0.0    0.053\\n    symmetry (standard error):            0.008  0.079\\n    fractal dimension (standard error):   0.001  0.03\\n    radius (worst):                       7.93   36.04\\n    texture (worst):                      12.02  49.54\\n    perimeter (worst):                    50.41  251.2\\n    area (worst):                         185.2  4254.0\\n    smoothness (worst):                   0.071  0.223\\n    compactness (worst):                  0.027  1.058\\n    concavity (worst):                    0.0    1.252\\n    concave points (worst):               0.0    0.291\\n    symmetry (worst):                     0.156  0.664\\n    fractal dimension (worst):            0.055  0.208\\n    ===================================== ====== ======\\n\\n    :Missing Attribute Values: None\\n\\n    :Class Distribution: 212 - Malignant, 357 - Benign\\n\\n    :Creator:  Dr. William H. Wolberg, W. Nick Street, Olvi L. Mangasarian\\n\\n    :Donor: Nick Street\\n\\n    :Date: November, 1995\\n\\nThis is a copy of UCI ML Breast Cancer Wisconsin (Diagnostic) datasets.\\nhttps://goo.gl/U2Uwz2\\n\\nFeatures are computed from a digitized image of a fine needle\\naspirate (FNA) of a breast mass.  They describe\\ncharacteristics of the cell nuclei present in the image.\\n\\nSeparating plane described above was obtained using\\nMultisurface Method-Tree (MSM-T) [K. P. Bennett, \"Decision Tree\\nConstruction Via Linear Programming.\" Proceedings of the 4th\\nMidwest Artificial Intelligence and Cognitive Science Society,\\npp. 97-101, 1992], a classification method which uses linear\\nprogramming to construct a decision tree.  Relevant features\\nwere selected using an exhaustive search in the space of 1-4\\nfeatures and 1-3 separating planes.\\n\\nThe actual linear program used to obtain the separating plane\\nin the 3-dimensional space is that described in:\\n[K. P. Bennett and O. L. Mangasarian: \"Robust Linear\\nProgramming Discrimination of Two Linearly Inseparable Sets\",\\nOptimization Methods and Software 1, 1992, 23-34].\\n\\nThis database is also available through the UW CS ftp server:\\n\\nftp ftp.cs.wisc.edu\\ncd math-prog/cpo-dataset/machine-learn/WDBC/\\n\\n.. topic:: References\\n\\n   - W.N. Street, W.H. Wolberg and O.L. Mangasarian. Nuclear feature extraction \\n     for breast tumor diagnosis. IS&T/SPIE 1993 International Symposium on \\n     Electronic Imaging: Science and Technology, volume 1905, pages 861-870,\\n     San Jose, CA, 1993.\\n   - O.L. Mangasarian, W.N. Street and W.H. Wolberg. Breast cancer diagnosis and \\n     prognosis via linear programming. Operations Research, 43(4), pages 570-577, \\n     July-August 1995.\\n   - W.H. Wolberg, W.N. Street, and O.L. Mangasarian. Machine learning techniques\\n     to diagnose breast cancer from fine-needle aspirates. Cancer Letters 77 (1994) \\n     163-171.'"
      ]
     },
     "execution_count": 6,
     "metadata": {},
     "output_type": "execute_result"
    }
   ],
   "source": [
    "# full description of the dataset.\n",
    "breast_cancer.DESCR"
   ]
  },
  {
   "cell_type": "code",
   "execution_count": 7,
   "id": "a5dc5aa8",
   "metadata": {
    "execution": {
     "iopub.execute_input": "2023-03-15T14:43:46.299023Z",
     "iopub.status.busy": "2023-03-15T14:43:46.298462Z",
     "iopub.status.idle": "2023-03-15T14:43:46.306783Z",
     "shell.execute_reply": "2023-03-15T14:43:46.305101Z"
    },
    "papermill": {
     "duration": 0.025441,
     "end_time": "2023-03-15T14:43:46.311178",
     "exception": false,
     "start_time": "2023-03-15T14:43:46.285737",
     "status": "completed"
    },
    "tags": []
   },
   "outputs": [
    {
     "data": {
      "text/plain": [
       "array(['mean radius', 'mean texture', 'mean perimeter', 'mean area',\n",
       "       'mean smoothness', 'mean compactness', 'mean concavity',\n",
       "       'mean concave points', 'mean symmetry', 'mean fractal dimension',\n",
       "       'radius error', 'texture error', 'perimeter error', 'area error',\n",
       "       'smoothness error', 'compactness error', 'concavity error',\n",
       "       'concave points error', 'symmetry error',\n",
       "       'fractal dimension error', 'worst radius', 'worst texture',\n",
       "       'worst perimeter', 'worst area', 'worst smoothness',\n",
       "       'worst compactness', 'worst concavity', 'worst concave points',\n",
       "       'worst symmetry', 'worst fractal dimension'], dtype='<U23')"
      ]
     },
     "execution_count": 7,
     "metadata": {},
     "output_type": "execute_result"
    }
   ],
   "source": [
    "# names of the dataset columns\n",
    "\n",
    "breast_cancer.feature_names"
   ]
  },
  {
   "cell_type": "code",
   "execution_count": 8,
   "id": "b776e236",
   "metadata": {
    "execution": {
     "iopub.execute_input": "2023-03-15T14:43:46.335432Z",
     "iopub.status.busy": "2023-03-15T14:43:46.334663Z",
     "iopub.status.idle": "2023-03-15T14:43:46.347088Z",
     "shell.execute_reply": "2023-03-15T14:43:46.344750Z"
    },
    "papermill": {
     "duration": 0.028801,
     "end_time": "2023-03-15T14:43:46.352012",
     "exception": false,
     "start_time": "2023-03-15T14:43:46.323211",
     "status": "completed"
    },
    "tags": []
   },
   "outputs": [
    {
     "data": {
      "text/plain": [
       "array(['malignant', 'benign'], dtype='<U9')"
      ]
     },
     "execution_count": 8,
     "metadata": {},
     "output_type": "execute_result"
    }
   ],
   "source": [
    "# names of target classes\n",
    "\n",
    "breast_cancer.target_names"
   ]
  },
  {
   "cell_type": "code",
   "execution_count": 9,
   "id": "e222ba01",
   "metadata": {
    "execution": {
     "iopub.execute_input": "2023-03-15T14:43:46.376824Z",
     "iopub.status.busy": "2023-03-15T14:43:46.376364Z",
     "iopub.status.idle": "2023-03-15T14:43:46.386105Z",
     "shell.execute_reply": "2023-03-15T14:43:46.384693Z"
    },
    "papermill": {
     "duration": 0.025969,
     "end_time": "2023-03-15T14:43:46.388865",
     "exception": false,
     "start_time": "2023-03-15T14:43:46.362896",
     "status": "completed"
    },
    "tags": []
   },
   "outputs": [
    {
     "data": {
      "text/plain": [
       "array([[1.799e+01, 1.038e+01, 1.228e+02, ..., 2.654e-01, 4.601e-01,\n",
       "        1.189e-01],\n",
       "       [2.057e+01, 1.777e+01, 1.329e+02, ..., 1.860e-01, 2.750e-01,\n",
       "        8.902e-02],\n",
       "       [1.969e+01, 2.125e+01, 1.300e+02, ..., 2.430e-01, 3.613e-01,\n",
       "        8.758e-02],\n",
       "       ...,\n",
       "       [1.660e+01, 2.808e+01, 1.083e+02, ..., 1.418e-01, 2.218e-01,\n",
       "        7.820e-02],\n",
       "       [2.060e+01, 2.933e+01, 1.401e+02, ..., 2.650e-01, 4.087e-01,\n",
       "        1.240e-01],\n",
       "       [7.760e+00, 2.454e+01, 4.792e+01, ..., 0.000e+00, 2.871e-01,\n",
       "        7.039e-02]])"
      ]
     },
     "execution_count": 9,
     "metadata": {},
     "output_type": "execute_result"
    }
   ],
   "source": [
    "# feature or X variables\n",
    "breast_cancer.data"
   ]
  },
  {
   "cell_type": "code",
   "execution_count": 10,
   "id": "e2256866",
   "metadata": {
    "execution": {
     "iopub.execute_input": "2023-03-15T14:43:46.416318Z",
     "iopub.status.busy": "2023-03-15T14:43:46.415817Z",
     "iopub.status.idle": "2023-03-15T14:43:46.427826Z",
     "shell.execute_reply": "2023-03-15T14:43:46.425798Z"
    },
    "papermill": {
     "duration": 0.031955,
     "end_time": "2023-03-15T14:43:46.430878",
     "exception": false,
     "start_time": "2023-03-15T14:43:46.398923",
     "status": "completed"
    },
    "tags": []
   },
   "outputs": [
    {
     "data": {
      "text/plain": [
       "array([0, 0, 0, 0, 0, 0, 0, 0, 0, 0, 0, 0, 0, 0, 0, 0, 0, 0, 0, 1, 1, 1,\n",
       "       0, 0, 0, 0, 0, 0, 0, 0, 0, 0, 0, 0, 0, 0, 0, 1, 0, 0, 0, 0, 0, 0,\n",
       "       0, 0, 1, 0, 1, 1, 1, 1, 1, 0, 0, 1, 0, 0, 1, 1, 1, 1, 0, 1, 0, 0,\n",
       "       1, 1, 1, 1, 0, 1, 0, 0, 1, 0, 1, 0, 0, 1, 1, 1, 0, 0, 1, 0, 0, 0,\n",
       "       1, 1, 1, 0, 1, 1, 0, 0, 1, 1, 1, 0, 0, 1, 1, 1, 1, 0, 1, 1, 0, 1,\n",
       "       1, 1, 1, 1, 1, 1, 1, 0, 0, 0, 1, 0, 0, 1, 1, 1, 0, 0, 1, 0, 1, 0,\n",
       "       0, 1, 0, 0, 1, 1, 0, 1, 1, 0, 1, 1, 1, 1, 0, 1, 1, 1, 1, 1, 1, 1,\n",
       "       1, 1, 0, 1, 1, 1, 1, 0, 0, 1, 0, 1, 1, 0, 0, 1, 1, 0, 0, 1, 1, 1,\n",
       "       1, 0, 1, 1, 0, 0, 0, 1, 0, 1, 0, 1, 1, 1, 0, 1, 1, 0, 0, 1, 0, 0,\n",
       "       0, 0, 1, 0, 0, 0, 1, 0, 1, 0, 1, 1, 0, 1, 0, 0, 0, 0, 1, 1, 0, 0,\n",
       "       1, 1, 1, 0, 1, 1, 1, 1, 1, 0, 0, 1, 1, 0, 1, 1, 0, 0, 1, 0, 1, 1,\n",
       "       1, 1, 0, 1, 1, 1, 1, 1, 0, 1, 0, 0, 0, 0, 0, 0, 0, 0, 0, 0, 0, 0,\n",
       "       0, 0, 1, 1, 1, 1, 1, 1, 0, 1, 0, 1, 1, 0, 1, 1, 0, 1, 0, 0, 1, 1,\n",
       "       1, 1, 1, 1, 1, 1, 1, 1, 1, 1, 1, 0, 1, 1, 0, 1, 0, 1, 1, 1, 1, 1,\n",
       "       1, 1, 1, 1, 1, 1, 1, 1, 1, 0, 1, 1, 1, 0, 1, 0, 1, 1, 1, 1, 0, 0,\n",
       "       0, 1, 1, 1, 1, 0, 1, 0, 1, 0, 1, 1, 1, 0, 1, 1, 1, 1, 1, 1, 1, 0,\n",
       "       0, 0, 1, 1, 1, 1, 1, 1, 1, 1, 1, 1, 1, 0, 0, 1, 0, 0, 0, 1, 0, 0,\n",
       "       1, 1, 1, 1, 1, 0, 1, 1, 1, 1, 1, 0, 1, 1, 1, 0, 1, 1, 0, 0, 1, 1,\n",
       "       1, 1, 1, 1, 0, 1, 1, 1, 1, 1, 1, 1, 0, 1, 1, 1, 1, 1, 0, 1, 1, 0,\n",
       "       1, 1, 1, 1, 1, 1, 1, 1, 1, 1, 1, 1, 0, 1, 0, 0, 1, 0, 1, 1, 1, 1,\n",
       "       1, 0, 1, 1, 0, 1, 0, 1, 1, 0, 1, 0, 1, 1, 1, 1, 1, 1, 1, 1, 0, 0,\n",
       "       1, 1, 1, 1, 1, 1, 0, 1, 1, 1, 1, 1, 1, 1, 1, 1, 1, 0, 1, 1, 1, 1,\n",
       "       1, 1, 1, 0, 1, 0, 1, 1, 0, 1, 1, 1, 1, 1, 0, 0, 1, 0, 1, 0, 1, 1,\n",
       "       1, 1, 1, 0, 1, 1, 0, 1, 0, 1, 0, 0, 1, 1, 1, 0, 1, 1, 1, 1, 1, 1,\n",
       "       1, 1, 1, 1, 1, 0, 1, 0, 0, 1, 1, 1, 1, 1, 1, 1, 1, 1, 1, 1, 1, 1,\n",
       "       1, 1, 1, 1, 1, 1, 1, 1, 1, 1, 1, 1, 0, 0, 0, 0, 0, 0, 1])"
      ]
     },
     "execution_count": 10,
     "metadata": {},
     "output_type": "execute_result"
    }
   ],
   "source": [
    "# target or y variable\n",
    "\n",
    "breast_cancer.target"
   ]
  },
  {
   "cell_type": "markdown",
   "id": "409a40bd",
   "metadata": {
    "papermill": {
     "duration": 0.009929,
     "end_time": "2023-03-15T14:43:46.452013",
     "exception": false,
     "start_time": "2023-03-15T14:43:46.442084",
     "status": "completed"
    },
    "tags": []
   },
   "source": [
    "# **Iris dataset (classification)**"
   ]
  },
  {
   "cell_type": "code",
   "execution_count": 11,
   "id": "cbe55cac",
   "metadata": {
    "execution": {
     "iopub.execute_input": "2023-03-15T14:43:46.476943Z",
     "iopub.status.busy": "2023-03-15T14:43:46.476477Z",
     "iopub.status.idle": "2023-03-15T14:43:46.482659Z",
     "shell.execute_reply": "2023-03-15T14:43:46.480827Z"
    },
    "papermill": {
     "duration": 0.024895,
     "end_time": "2023-03-15T14:43:46.487401",
     "exception": false,
     "start_time": "2023-03-15T14:43:46.462506",
     "status": "completed"
    },
    "tags": []
   },
   "outputs": [],
   "source": [
    "# Load and return the iris dataset (classification)\n",
    "\n",
    "from sklearn.datasets import load_iris"
   ]
  },
  {
   "cell_type": "code",
   "execution_count": 12,
   "id": "60a69604",
   "metadata": {
    "execution": {
     "iopub.execute_input": "2023-03-15T14:43:46.511241Z",
     "iopub.status.busy": "2023-03-15T14:43:46.510711Z",
     "iopub.status.idle": "2023-03-15T14:43:46.525483Z",
     "shell.execute_reply": "2023-03-15T14:43:46.523001Z"
    },
    "papermill": {
     "duration": 0.031881,
     "end_time": "2023-03-15T14:43:46.529610",
     "exception": false,
     "start_time": "2023-03-15T14:43:46.497729",
     "status": "completed"
    },
    "tags": []
   },
   "outputs": [],
   "source": [
    "# 🔥 Return datset as dataframe\n",
    "\n",
    "iris = load_iris(as_frame=True)"
   ]
  },
  {
   "cell_type": "code",
   "execution_count": 13,
   "id": "c9972cdc",
   "metadata": {
    "execution": {
     "iopub.execute_input": "2023-03-15T14:43:46.556426Z",
     "iopub.status.busy": "2023-03-15T14:43:46.555609Z",
     "iopub.status.idle": "2023-03-15T14:43:46.569918Z",
     "shell.execute_reply": "2023-03-15T14:43:46.567918Z"
    },
    "papermill": {
     "duration": 0.032963,
     "end_time": "2023-03-15T14:43:46.573266",
     "exception": false,
     "start_time": "2023-03-15T14:43:46.540303",
     "status": "completed"
    },
    "tags": []
   },
   "outputs": [],
   "source": [
    "# 🔥 Return Features (X) and Target (y) as dataframe\n",
    "\n",
    "X, y = load_iris(return_X_y= True, as_frame=True)"
   ]
  },
  {
   "cell_type": "code",
   "execution_count": 14,
   "id": "cf6e97d8",
   "metadata": {
    "execution": {
     "iopub.execute_input": "2023-03-15T14:43:46.595877Z",
     "iopub.status.busy": "2023-03-15T14:43:46.595431Z",
     "iopub.status.idle": "2023-03-15T14:43:46.604676Z",
     "shell.execute_reply": "2023-03-15T14:43:46.602555Z"
    },
    "papermill": {
     "duration": 0.025909,
     "end_time": "2023-03-15T14:43:46.608870",
     "exception": false,
     "start_time": "2023-03-15T14:43:46.582961",
     "status": "completed"
    },
    "tags": []
   },
   "outputs": [],
   "source": [
    "# 🔥 Return Features (X) and Target (y) as array\n",
    "\n",
    "X, y = load_iris(return_X_y= True)"
   ]
  },
  {
   "cell_type": "markdown",
   "id": "ea7e0fad",
   "metadata": {
    "papermill": {
     "duration": 0.011215,
     "end_time": "2023-03-15T14:43:46.632682",
     "exception": false,
     "start_time": "2023-03-15T14:43:46.621467",
     "status": "completed"
    },
    "tags": []
   },
   "source": [
    "# **Diabetes dataset (regression)**"
   ]
  },
  {
   "cell_type": "code",
   "execution_count": 15,
   "id": "d2672ccc",
   "metadata": {
    "execution": {
     "iopub.execute_input": "2023-03-15T14:43:46.658347Z",
     "iopub.status.busy": "2023-03-15T14:43:46.657877Z",
     "iopub.status.idle": "2023-03-15T14:43:46.664350Z",
     "shell.execute_reply": "2023-03-15T14:43:46.661940Z"
    },
    "papermill": {
     "duration": 0.023569,
     "end_time": "2023-03-15T14:43:46.667770",
     "exception": false,
     "start_time": "2023-03-15T14:43:46.644201",
     "status": "completed"
    },
    "tags": []
   },
   "outputs": [],
   "source": [
    "# Load and return the diabetes dataset (regression)\n",
    "\n",
    "from sklearn.datasets import load_diabetes"
   ]
  },
  {
   "cell_type": "code",
   "execution_count": 16,
   "id": "f35af9c8",
   "metadata": {
    "execution": {
     "iopub.execute_input": "2023-03-15T14:43:46.691655Z",
     "iopub.status.busy": "2023-03-15T14:43:46.691061Z",
     "iopub.status.idle": "2023-03-15T14:43:46.721020Z",
     "shell.execute_reply": "2023-03-15T14:43:46.719921Z"
    },
    "papermill": {
     "duration": 0.047262,
     "end_time": "2023-03-15T14:43:46.725461",
     "exception": false,
     "start_time": "2023-03-15T14:43:46.678199",
     "status": "completed"
    },
    "tags": []
   },
   "outputs": [],
   "source": [
    "# 🔥 Return datset as dataframe\n",
    "\n",
    "diabetes = load_diabetes(as_frame=True)"
   ]
  },
  {
   "cell_type": "code",
   "execution_count": 17,
   "id": "7504df76",
   "metadata": {
    "execution": {
     "iopub.execute_input": "2023-03-15T14:43:46.752960Z",
     "iopub.status.busy": "2023-03-15T14:43:46.751203Z",
     "iopub.status.idle": "2023-03-15T14:43:46.777059Z",
     "shell.execute_reply": "2023-03-15T14:43:46.775159Z"
    },
    "papermill": {
     "duration": 0.043903,
     "end_time": "2023-03-15T14:43:46.780541",
     "exception": false,
     "start_time": "2023-03-15T14:43:46.736638",
     "status": "completed"
    },
    "tags": []
   },
   "outputs": [],
   "source": [
    "# 🔥 Return Features (X) and Target (y) as dataframe\n",
    "\n",
    "X, y = load_diabetes(return_X_y= True, as_frame=True)"
   ]
  },
  {
   "cell_type": "code",
   "execution_count": 18,
   "id": "43db7127",
   "metadata": {
    "execution": {
     "iopub.execute_input": "2023-03-15T14:43:46.805500Z",
     "iopub.status.busy": "2023-03-15T14:43:46.804981Z",
     "iopub.status.idle": "2023-03-15T14:43:46.825928Z",
     "shell.execute_reply": "2023-03-15T14:43:46.823824Z"
    },
    "papermill": {
     "duration": 0.037525,
     "end_time": "2023-03-15T14:43:46.829630",
     "exception": false,
     "start_time": "2023-03-15T14:43:46.792105",
     "status": "completed"
    },
    "tags": []
   },
   "outputs": [],
   "source": [
    "# 🔥 Return Features (X) and Target (y) as array\n",
    "\n",
    "X, y = load_diabetes(return_X_y= True)"
   ]
  },
  {
   "cell_type": "markdown",
   "id": "318b2275",
   "metadata": {
    "papermill": {
     "duration": 0.009973,
     "end_time": "2023-03-15T14:43:46.850910",
     "exception": false,
     "start_time": "2023-03-15T14:43:46.840937",
     "status": "completed"
    },
    "tags": []
   },
   "source": [
    "# **Digits dataset (classification)**"
   ]
  },
  {
   "cell_type": "code",
   "execution_count": 19,
   "id": "e02ad2ce",
   "metadata": {
    "execution": {
     "iopub.execute_input": "2023-03-15T14:43:46.877866Z",
     "iopub.status.busy": "2023-03-15T14:43:46.876843Z",
     "iopub.status.idle": "2023-03-15T14:43:46.884097Z",
     "shell.execute_reply": "2023-03-15T14:43:46.881779Z"
    },
    "papermill": {
     "duration": 0.027091,
     "end_time": "2023-03-15T14:43:46.888964",
     "exception": false,
     "start_time": "2023-03-15T14:43:46.861873",
     "status": "completed"
    },
    "tags": []
   },
   "outputs": [],
   "source": [
    "# Load and return the digits dataset (classification)\n",
    "\n",
    "from sklearn.datasets import load_digits"
   ]
  },
  {
   "cell_type": "code",
   "execution_count": 20,
   "id": "ae59b577",
   "metadata": {
    "execution": {
     "iopub.execute_input": "2023-03-15T14:43:46.919293Z",
     "iopub.status.busy": "2023-03-15T14:43:46.918643Z",
     "iopub.status.idle": "2023-03-15T14:43:47.040155Z",
     "shell.execute_reply": "2023-03-15T14:43:47.037231Z"
    },
    "papermill": {
     "duration": 0.142718,
     "end_time": "2023-03-15T14:43:47.044281",
     "exception": false,
     "start_time": "2023-03-15T14:43:46.901563",
     "status": "completed"
    },
    "tags": []
   },
   "outputs": [],
   "source": [
    "# 🔥 Return datset as dataframe\n",
    "\n",
    "digits = load_digits(as_frame=True)"
   ]
  },
  {
   "cell_type": "code",
   "execution_count": 21,
   "id": "fa301f24",
   "metadata": {
    "execution": {
     "iopub.execute_input": "2023-03-15T14:43:47.069519Z",
     "iopub.status.busy": "2023-03-15T14:43:47.068988Z",
     "iopub.status.idle": "2023-03-15T14:43:47.185894Z",
     "shell.execute_reply": "2023-03-15T14:43:47.183608Z"
    },
    "papermill": {
     "duration": 0.134076,
     "end_time": "2023-03-15T14:43:47.189138",
     "exception": false,
     "start_time": "2023-03-15T14:43:47.055062",
     "status": "completed"
    },
    "tags": []
   },
   "outputs": [],
   "source": [
    "# 🔥 Return Features (X) and Target (y) as dataframe\n",
    "\n",
    "X, y = load_digits(return_X_y= True, as_frame=True)"
   ]
  },
  {
   "cell_type": "code",
   "execution_count": 22,
   "id": "0be9ce69",
   "metadata": {
    "execution": {
     "iopub.execute_input": "2023-03-15T14:43:47.216340Z",
     "iopub.status.busy": "2023-03-15T14:43:47.215731Z",
     "iopub.status.idle": "2023-03-15T14:43:47.320082Z",
     "shell.execute_reply": "2023-03-15T14:43:47.318059Z"
    },
    "papermill": {
     "duration": 0.122893,
     "end_time": "2023-03-15T14:43:47.324133",
     "exception": false,
     "start_time": "2023-03-15T14:43:47.201240",
     "status": "completed"
    },
    "tags": []
   },
   "outputs": [],
   "source": [
    "# 🔥 Return Features (X) and Target (y) as array\n",
    "\n",
    "X, y = load_digits(return_X_y= True)"
   ]
  },
  {
   "cell_type": "markdown",
   "id": "d3cad5a4",
   "metadata": {
    "papermill": {
     "duration": 0.010028,
     "end_time": "2023-03-15T14:43:47.345984",
     "exception": false,
     "start_time": "2023-03-15T14:43:47.335956",
     "status": "completed"
    },
    "tags": []
   },
   "source": [
    "# **Physical exercise Linnerud dataset**"
   ]
  },
  {
   "cell_type": "code",
   "execution_count": 23,
   "id": "47b69092",
   "metadata": {
    "execution": {
     "iopub.execute_input": "2023-03-15T14:43:47.370910Z",
     "iopub.status.busy": "2023-03-15T14:43:47.369934Z",
     "iopub.status.idle": "2023-03-15T14:43:47.377299Z",
     "shell.execute_reply": "2023-03-15T14:43:47.375359Z"
    },
    "papermill": {
     "duration": 0.023237,
     "end_time": "2023-03-15T14:43:47.380844",
     "exception": false,
     "start_time": "2023-03-15T14:43:47.357607",
     "status": "completed"
    },
    "tags": []
   },
   "outputs": [],
   "source": [
    "# Load and return the physical exercise Linnerud dataset\n",
    "\n",
    "from sklearn.datasets import load_linnerud"
   ]
  },
  {
   "cell_type": "code",
   "execution_count": 24,
   "id": "9978b269",
   "metadata": {
    "execution": {
     "iopub.execute_input": "2023-03-15T14:43:47.408063Z",
     "iopub.status.busy": "2023-03-15T14:43:47.406376Z",
     "iopub.status.idle": "2023-03-15T14:43:47.424325Z",
     "shell.execute_reply": "2023-03-15T14:43:47.422390Z"
    },
    "papermill": {
     "duration": 0.03709,
     "end_time": "2023-03-15T14:43:47.428949",
     "exception": false,
     "start_time": "2023-03-15T14:43:47.391859",
     "status": "completed"
    },
    "tags": []
   },
   "outputs": [],
   "source": [
    "# 🔥 Return datset as dataframe\n",
    "\n",
    "linnerud = load_linnerud(as_frame=True)"
   ]
  },
  {
   "cell_type": "code",
   "execution_count": 25,
   "id": "d09f73e8",
   "metadata": {
    "execution": {
     "iopub.execute_input": "2023-03-15T14:43:47.458450Z",
     "iopub.status.busy": "2023-03-15T14:43:47.457417Z",
     "iopub.status.idle": "2023-03-15T14:43:47.467726Z",
     "shell.execute_reply": "2023-03-15T14:43:47.466329Z"
    },
    "papermill": {
     "duration": 0.031762,
     "end_time": "2023-03-15T14:43:47.470598",
     "exception": false,
     "start_time": "2023-03-15T14:43:47.438836",
     "status": "completed"
    },
    "tags": []
   },
   "outputs": [],
   "source": [
    "# 🔥 Return Features (X) and Target (y) as dataframe\n",
    "\n",
    "X, y = load_linnerud(return_X_y= True, as_frame=True)"
   ]
  },
  {
   "cell_type": "code",
   "execution_count": 26,
   "id": "12ddf6f6",
   "metadata": {
    "execution": {
     "iopub.execute_input": "2023-03-15T14:43:47.495758Z",
     "iopub.status.busy": "2023-03-15T14:43:47.494775Z",
     "iopub.status.idle": "2023-03-15T14:43:47.504163Z",
     "shell.execute_reply": "2023-03-15T14:43:47.502064Z"
    },
    "papermill": {
     "duration": 0.028515,
     "end_time": "2023-03-15T14:43:47.509758",
     "exception": false,
     "start_time": "2023-03-15T14:43:47.481243",
     "status": "completed"
    },
    "tags": []
   },
   "outputs": [],
   "source": [
    "# 🔥 Return Features (X) and Target (y) as array\n",
    "\n",
    "X, y = load_linnerud(return_X_y= True)"
   ]
  },
  {
   "cell_type": "markdown",
   "id": "578e5691",
   "metadata": {
    "papermill": {
     "duration": 0.011934,
     "end_time": "2023-03-15T14:43:47.533109",
     "exception": false,
     "start_time": "2023-03-15T14:43:47.521175",
     "status": "completed"
    },
    "tags": []
   },
   "source": [
    "# **Wine dataset (classification)**"
   ]
  },
  {
   "cell_type": "code",
   "execution_count": 27,
   "id": "9aa41ed1",
   "metadata": {
    "execution": {
     "iopub.execute_input": "2023-03-15T14:43:47.559509Z",
     "iopub.status.busy": "2023-03-15T14:43:47.558743Z",
     "iopub.status.idle": "2023-03-15T14:43:47.566309Z",
     "shell.execute_reply": "2023-03-15T14:43:47.563433Z"
    },
    "papermill": {
     "duration": 0.024558,
     "end_time": "2023-03-15T14:43:47.570648",
     "exception": false,
     "start_time": "2023-03-15T14:43:47.546090",
     "status": "completed"
    },
    "tags": []
   },
   "outputs": [],
   "source": [
    "# Load and return the wine dataset (classification)\n",
    "\n",
    "from sklearn.datasets import load_wine"
   ]
  },
  {
   "cell_type": "code",
   "execution_count": 28,
   "id": "68b306a5",
   "metadata": {
    "execution": {
     "iopub.execute_input": "2023-03-15T14:43:47.597251Z",
     "iopub.status.busy": "2023-03-15T14:43:47.596736Z",
     "iopub.status.idle": "2023-03-15T14:43:47.609295Z",
     "shell.execute_reply": "2023-03-15T14:43:47.606926Z"
    },
    "papermill": {
     "duration": 0.030561,
     "end_time": "2023-03-15T14:43:47.612311",
     "exception": false,
     "start_time": "2023-03-15T14:43:47.581750",
     "status": "completed"
    },
    "tags": []
   },
   "outputs": [],
   "source": [
    "# 🔥 Return Features (X) and Target (y) as array\n",
    "\n",
    "X, y = load_wine(return_X_y= True)"
   ]
  },
  {
   "cell_type": "code",
   "execution_count": 29,
   "id": "2c703c30",
   "metadata": {
    "execution": {
     "iopub.execute_input": "2023-03-15T14:43:47.639553Z",
     "iopub.status.busy": "2023-03-15T14:43:47.638939Z",
     "iopub.status.idle": "2023-03-15T14:43:47.650511Z",
     "shell.execute_reply": "2023-03-15T14:43:47.648991Z"
    },
    "papermill": {
     "duration": 0.029547,
     "end_time": "2023-03-15T14:43:47.653626",
     "exception": false,
     "start_time": "2023-03-15T14:43:47.624079",
     "status": "completed"
    },
    "tags": []
   },
   "outputs": [],
   "source": [
    "# 🔥 Return Features (X) and Target (y) as dataframe\n",
    "\n",
    "X, y = load_wine(return_X_y= True, as_frame=True)"
   ]
  },
  {
   "cell_type": "code",
   "execution_count": 30,
   "id": "9367aa8c",
   "metadata": {
    "execution": {
     "iopub.execute_input": "2023-03-15T14:43:47.677360Z",
     "iopub.status.busy": "2023-03-15T14:43:47.676844Z",
     "iopub.status.idle": "2023-03-15T14:43:47.687983Z",
     "shell.execute_reply": "2023-03-15T14:43:47.686577Z"
    },
    "papermill": {
     "duration": 0.026301,
     "end_time": "2023-03-15T14:43:47.691012",
     "exception": false,
     "start_time": "2023-03-15T14:43:47.664711",
     "status": "completed"
    },
    "tags": []
   },
   "outputs": [],
   "source": [
    "# 🔥 Return datset as dataframe\n",
    "\n",
    "wine = load_wine(as_frame=True)"
   ]
  }
 ],
 "metadata": {
  "kernelspec": {
   "display_name": "Python 3",
   "language": "python",
   "name": "python3"
  },
  "language_info": {
   "codemirror_mode": {
    "name": "ipython",
    "version": 3
   },
   "file_extension": ".py",
   "mimetype": "text/x-python",
   "name": "python",
   "nbconvert_exporter": "python",
   "pygments_lexer": "ipython3",
   "version": "3.7.12"
  },
  "papermill": {
   "default_parameters": {},
   "duration": 22.438075,
   "end_time": "2023-03-15T14:43:48.830146",
   "environment_variables": {},
   "exception": null,
   "input_path": "__notebook__.ipynb",
   "output_path": "__notebook__.ipynb",
   "parameters": {},
   "start_time": "2023-03-15T14:43:26.392071",
   "version": "2.4.0"
  }
 },
 "nbformat": 4,
 "nbformat_minor": 5
}
