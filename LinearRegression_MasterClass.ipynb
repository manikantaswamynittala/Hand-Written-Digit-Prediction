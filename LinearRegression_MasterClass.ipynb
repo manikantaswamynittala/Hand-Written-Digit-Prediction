{
  "nbformat": 4,
  "nbformat_minor": 0,
  "metadata": {
    "colab": {
      "provenance": [],
      "collapsed_sections": [
        "IjeHZPKMx8TU",
        "X-gyQQynsRsl"
      ]
    },
    "kernelspec": {
      "name": "python3",
      "display_name": "Python 3"
    }
  },
  "cells": [
    {
      "cell_type": "markdown",
      "metadata": {
        "id": "3sbrBukIUK4l"
      },
      "source": [
        "# **💻 Regression Complete**"
      ]
    },
    {
      "cell_type": "markdown",
      "metadata": {
        "id": "6sC-4-ye3ts-"
      },
      "source": [
        "## What is Regression Analysis"
      ]
    },
    {
      "cell_type": "markdown",
      "metadata": {
        "id": "j5d6ZTN_vKtd"
      },
      "source": [
        "There are two types of supervised machine learning algorithms: **Regression** and **classification**. The former predicts continuous value outputs while the latter predicts discrete outputs. For instance, predicting the price of a house in dollars is a regression problem whereas predicting whether a tumor is malignant or benign is a classification problem.\n",
        "\n",
        "The dependent features are called the **dependent variables**, outputs, responses or target variable.\n",
        "\n",
        "The independent features are called the **independent variables**, inputs, or predictors.\n",
        "\n",
        "Regression problems usually have one continuous and unbounded dependent variable. The inputs, however, can be *continuous, discrete, or even categorical* data such as gender, nationality, brand, and so on."
      ]
    },
    {
      "cell_type": "markdown",
      "metadata": {
        "id": "Dqztiu9p36R2"
      },
      "source": [
        "Regression analysis is a form of predictive modelling technique which investigates the relationship between a dependent (target) and independent variable (s) (predictor). This technique is used for forecasting, time series modelling and finding the causal effect relationship between the variables. "
      ]
    },
    {
      "cell_type": "markdown",
      "metadata": {
        "id": "Y3t-gnxp-RKR"
      },
      "source": [
        "**Explanatory Vs Predictive Modeling**\n",
        "\n",
        "- **Explanatory model**: explaning or predicting the average effect of inputs on an output\n",
        "- **Predicting model** : predicting the outcome values for new records given their input values\n",
        "\n",
        "1. A good explanatory model is one that fits the data closely whereas a predictive model is one that predicts new cases accurately.\n",
        "\n",
        "2. In explanatory models, when the goal is to predict hypothesized relationship in the population, the entire dataset is used for estimating the best fit model to maximise the amount of information. \n",
        "\n",
        "3. In predictive models, the goal is to predict outcomes of new individual cases, the datset are typically split into a training set and validation set. The training set is used to estimate the model and the validation or hoildout set to assess the model predictive performance.\n",
        "\n",
        "4. Performance of explanatory models measures how close the data fit the model whereas in predictive models performance is measured by predictive accuracy (how well the model predocts the new data points).\n",
        "\n",
        "5. In explanatory models the focus is on coefficients (Beta) and in predictive models the focus is on the predictions (y_pred)"
      ]
    },
    {
      "cell_type": "markdown",
      "metadata": {
        "id": "JyxcwIgUgFXW"
      },
      "source": [
        "**Yi = Β0 + β1 X1i + β2 X2i  + β3 X3i  + εi**\n",
        "\n",
        "The assumptions of regression equation are \n",
        "1. The noise or error ε (or equivalently Y) follows a normal distribution.\n",
        "2. The choice of variable and their form is correct (linear).\n",
        "3. The cases are independent of each other.\n",
        "4. The variability in Y values for a given set of predictors is the same regardless of the values of the predictors (homoskedasticity)\n",
        "\n",
        "\n",
        "An Important fact for the ***predictive goal*** is that even we drop the first assumptions and allow the noise to follow an arbitrary distribution, even then the estimates (beta) are very good for predictions. \n",
        "\n",
        "The assumption of a normal distribution is required in explanatory modelling where it is used forconstructing confidence intervals and statistical tests for model parameters.\n",
        "\n",
        "Even if the other assumtions are violated, it is still possible that the resulting predictions are sufficiently predictive performance of the model, which is the main priority. Satisfying assumptions is of secondary interest and residual analysis can give clues to potential improved models to examine.\n"
      ]
    },
    {
      "cell_type": "markdown",
      "metadata": {
        "id": "rOw65IqGGxRQ"
      },
      "source": [
        "## What are the Variants of Regression"
      ]
    },
    {
      "cell_type": "markdown",
      "metadata": {
        "id": "hKfpNcItG5XW"
      },
      "source": [
        "- Linear Regression\n",
        "- Polynomial Regression\n",
        "- Stepwise Regression\n",
        "- Ridge Regression\n",
        "- Lasso Regression\n",
        "- ElasticNet Regression"
      ]
    },
    {
      "cell_type": "markdown",
      "metadata": {
        "id": "zqBcZMvXfZfI"
      },
      "source": [
        "**Example of interpretation of a regression equation:**\n",
        "\n",
        "Say we are interested in the relationship between family food consumption and family income. We calculate a regression equation, in which consumption is denoted C and income I, both measured in dollars, of:\n",
        "\n",
        "C = 1375 + .064 I\n",
        "\n",
        "What is the intercept? 1375\n",
        "\n",
        "What does it mean? That for a family with no income their food consumption is $1,375.\n",
        "\n",
        "What is the regression coefficient? How is it interpreted? \n",
        "\n",
        "For every dollar increase in family income there is a .064 dollar increase in food consumption. \n",
        "\n",
        "Note that we generally would have hypothesized a relationship and dep/indep variables. The relationship of I to C could have been reversed. The direction (sign) could have been opposite. This would likely reflect on a prior theory we may have had. \n"
      ]
    },
    {
      "cell_type": "markdown",
      "metadata": {
        "id": "R696lgHYibf2"
      },
      "source": [
        "**Overall Goodness of Fit Test**\n",
        "\n",
        "Total sum of squares = sum of squares due to regression + sum of squares about regression:\n",
        "\n",
        " \n",
        "TSS\t=\tSSD\t+\tSSE (aka error, ε)\n",
        "\n",
        "R2, or the coefficient of determination, is defined as the percent of variation in Y about it’s mean that is explained by the linear influence of the variation of X. \n",
        "\n",
        "Mathematically it is described by: R2 = SSD/TSS and will range between 0 and 1. Closer to one is a poorer model, closer to one is a better model.\n"
      ]
    },
    {
      "cell_type": "markdown",
      "metadata": {
        "id": "mjDxB0Pgwrjr"
      },
      "source": [
        "There are five basic steps when you’re implementing linear regression:\n",
        "\n",
        "    Import the packages and classes you need.\n",
        "\n",
        "    Provide data to work with and eventually do appropriate transformations.\n",
        "\n",
        "    Create a regression model and fit it with existing data.\n",
        "\n",
        "    Check the results of model fitting to know whether the model is satisfactory.\n",
        "\n",
        "    Apply the model for predictions."
      ]
    },
    {
      "cell_type": "markdown",
      "metadata": {
        "id": "YlWUHs4Bx6QK"
      },
      "source": [
        "# Simple Regression (Sklearn)"
      ]
    },
    {
      "cell_type": "markdown",
      "metadata": {
        "id": "mL_xxHYXnp_o"
      },
      "source": [
        "Step 1: Import packages and classes"
      ]
    },
    {
      "cell_type": "code",
      "metadata": {
        "id": "UDmnJWA5qVFv"
      },
      "source": [
        "import numpy as np\n",
        "import pandas as pd\n",
        "import matplotlib.pyplot as plt\n",
        "import seaborn as sns"
      ],
      "execution_count": 1,
      "outputs": []
    },
    {
      "cell_type": "markdown",
      "metadata": {
        "id": "XCYE_mugnuXR"
      },
      "source": [
        "Step 2: Provide data"
      ]
    },
    {
      "cell_type": "code",
      "metadata": {
        "id": "2T0-lcSFfjZ4"
      },
      "source": [
        "X = np.array([5, 15, 25, 35, 45, 55]).reshape((-1, 1))"
      ],
      "execution_count": 2,
      "outputs": []
    },
    {
      "cell_type": "code",
      "metadata": {
        "id": "KVYXF2WBIk3u"
      },
      "source": [
        "y = np.array([5, 20, 14, 32, 22, 38])"
      ],
      "execution_count": 3,
      "outputs": []
    },
    {
      "cell_type": "markdown",
      "metadata": {
        "id": "WS6Tp-SBn7H6"
      },
      "source": [
        "- Now, you have two arrays: the input x and output y. You should call .reshape() on x because this array is required to be two-dimensional, or to be more precise, to have one column and as many rows as necessary. That’s exactly what the argument (-1, 1) of .reshape() specifies."
      ]
    },
    {
      "cell_type": "code",
      "metadata": {
        "id": "daap7Uw-f1m5",
        "colab": {
          "base_uri": "https://localhost:8080/"
        },
        "outputId": "249fb5a6-edca-4448-b650-f8d49c95825f"
      },
      "source": [
        "X"
      ],
      "execution_count": 4,
      "outputs": [
        {
          "output_type": "execute_result",
          "data": {
            "text/plain": [
              "array([[ 5],\n",
              "       [15],\n",
              "       [25],\n",
              "       [35],\n",
              "       [45],\n",
              "       [55]])"
            ]
          },
          "metadata": {},
          "execution_count": 4
        }
      ]
    },
    {
      "cell_type": "code",
      "metadata": {
        "id": "T_aP29fGoJu4",
        "colab": {
          "base_uri": "https://localhost:8080/"
        },
        "outputId": "864fe205-23b7-4a40-aaf4-2967f80812e7"
      },
      "source": [
        "X.shape"
      ],
      "execution_count": 5,
      "outputs": [
        {
          "output_type": "execute_result",
          "data": {
            "text/plain": [
              "(6, 1)"
            ]
          },
          "metadata": {},
          "execution_count": 5
        }
      ]
    },
    {
      "cell_type": "code",
      "metadata": {
        "id": "s7fbmip_oHnh",
        "colab": {
          "base_uri": "https://localhost:8080/"
        },
        "outputId": "c6947719-b1c6-4ba0-f7f5-1e3b6c180a96"
      },
      "source": [
        "y"
      ],
      "execution_count": 6,
      "outputs": [
        {
          "output_type": "execute_result",
          "data": {
            "text/plain": [
              "array([ 5, 20, 14, 32, 22, 38])"
            ]
          },
          "metadata": {},
          "execution_count": 6
        }
      ]
    },
    {
      "cell_type": "code",
      "metadata": {
        "id": "CAt0D3vEoLdT",
        "colab": {
          "base_uri": "https://localhost:8080/"
        },
        "outputId": "e1819d53-4a3c-487c-9368-bb0c416acf47"
      },
      "source": [
        "y.shape"
      ],
      "execution_count": 7,
      "outputs": [
        {
          "output_type": "execute_result",
          "data": {
            "text/plain": [
              "(6,)"
            ]
          },
          "metadata": {},
          "execution_count": 7
        }
      ]
    },
    {
      "cell_type": "markdown",
      "metadata": {
        "id": "EhjgwJetoTK_"
      },
      "source": [
        "Step 3: Create a model and fit it"
      ]
    },
    {
      "cell_type": "code",
      "metadata": {
        "id": "m2kk6rrknqti"
      },
      "source": [
        "from sklearn.linear_model import LinearRegression"
      ],
      "execution_count": 8,
      "outputs": []
    },
    {
      "cell_type": "code",
      "metadata": {
        "id": "yX679jiEoMwJ"
      },
      "source": [
        "model = LinearRegression()"
      ],
      "execution_count": 9,
      "outputs": []
    },
    {
      "cell_type": "code",
      "metadata": {
        "id": "qTIqNErzz3hI",
        "colab": {
          "base_uri": "https://localhost:8080/"
        },
        "outputId": "e252c7ac-edfe-4a24-e6fb-6bc0a7b73e63"
      },
      "source": [
        "model"
      ],
      "execution_count": 10,
      "outputs": [
        {
          "output_type": "execute_result",
          "data": {
            "text/plain": [
              "LinearRegression()"
            ]
          },
          "metadata": {},
          "execution_count": 10
        }
      ]
    },
    {
      "cell_type": "code",
      "metadata": {
        "id": "buxK6phMoncS",
        "colab": {
          "base_uri": "https://localhost:8080/"
        },
        "outputId": "349d7a3d-ed52-4997-c1af-791f278b75fb"
      },
      "source": [
        "model.fit(X, y)"
      ],
      "execution_count": 11,
      "outputs": [
        {
          "output_type": "execute_result",
          "data": {
            "text/plain": [
              "LinearRegression()"
            ]
          },
          "metadata": {},
          "execution_count": 11
        }
      ]
    },
    {
      "cell_type": "markdown",
      "metadata": {
        "id": "Tn-yfjw8paxs"
      },
      "source": [
        "- With .fit(), you calculate the optimal values of the weights 𝑏₀ and 𝑏₁, using the existing input and output (x and y) as the arguments. In other words, .fit() fits the model. It returns self, which is the variable model itself. That’s why you can replace the last two statements with this one:"
      ]
    },
    {
      "cell_type": "markdown",
      "metadata": {
        "id": "uQ-hFIKYqahH"
      },
      "source": [
        "Step 4: Get results"
      ]
    },
    {
      "cell_type": "markdown",
      "metadata": {
        "id": "05GkVlvaqc5g"
      },
      "source": [
        "Once you have your model fitted, you can get the results to check whether the model works satisfactorily and interpret it.\n",
        "\n",
        "You can obtain the coefficient of determination (𝑅²) with .score() called on model:"
      ]
    },
    {
      "cell_type": "code",
      "metadata": {
        "id": "dCjZjX7orQ60",
        "colab": {
          "base_uri": "https://localhost:8080/"
        },
        "outputId": "bdb2e098-6150-4f19-f790-6bf2764e546d"
      },
      "source": [
        "R_sq = model.score(X, y)\n",
        "print('coefficient of determination:', R_sq)"
      ],
      "execution_count": 12,
      "outputs": [
        {
          "output_type": "stream",
          "name": "stdout",
          "text": [
            "coefficient of determination: 0.7158756137479542\n"
          ]
        }
      ]
    },
    {
      "cell_type": "markdown",
      "metadata": {
        "id": "rFrJYRSlrY41"
      },
      "source": [
        "When you’re applying .score(), the arguments are also the predictor X and regressor y, and the return value is 𝑅².\n",
        "\n",
        "The attributes of model are .intercept_, which represents the coefficient, 𝑏₀ and .coef_, which represents 𝑏₁:"
      ]
    },
    {
      "cell_type": "code",
      "metadata": {
        "id": "gED72qV1rau6",
        "colab": {
          "base_uri": "https://localhost:8080/"
        },
        "outputId": "4ea422f0-da9f-4e7b-ae69-2a767ccaffb5"
      },
      "source": [
        "print('intercept:', model.intercept_)\n",
        "\n",
        "print('slope:', model.coef_)"
      ],
      "execution_count": 13,
      "outputs": [
        {
          "output_type": "stream",
          "name": "stdout",
          "text": [
            "intercept: 5.633333333333329\n",
            "slope: [0.54]\n"
          ]
        }
      ]
    },
    {
      "cell_type": "markdown",
      "metadata": {
        "id": "aa3KwZjUrqkf"
      },
      "source": [
        "- The code above illustrates how to get 𝑏₀ and 𝑏₁. You can notice that .intercept_ is a scalar, while .coef_ is an array.\n",
        "\n",
        "- The value 𝑏₀ = 5.63 (approximately) illustrates that your model predicts the response 5.63 when 𝑥 is zero. The value 𝑏₁ = 0.54 means that the predicted response rises by 0.54 when 𝑥 is increased by one."
      ]
    },
    {
      "cell_type": "markdown",
      "metadata": {
        "id": "u72knn8Nr9TC"
      },
      "source": [
        "You should notice that you can provide y as a two-dimensional array as well. In this case, you’ll get a similar result. This is how it might look:\n",
        "\n",
        "As you can see, this example is very similar to the previous one, but in this case, .intercept_ is a one-dimensional array with the single element 𝑏₀, and .coef_ is a two-dimensional array with the single element 𝑏₁."
      ]
    },
    {
      "cell_type": "code",
      "metadata": {
        "id": "OY93i5Ydry3B",
        "colab": {
          "base_uri": "https://localhost:8080/"
        },
        "outputId": "64335b51-432f-406c-93e0-1dea96e3cc52"
      },
      "source": [
        "new_model = LinearRegression().fit(X, y.reshape((-1, 1)))\n",
        "print('intercept:', new_model.intercept_)\n",
        "\n",
        "print('slope:', new_model.coef_)"
      ],
      "execution_count": 14,
      "outputs": [
        {
          "output_type": "stream",
          "name": "stdout",
          "text": [
            "intercept: [5.63333333]\n",
            "slope: [[0.54]]\n"
          ]
        }
      ]
    },
    {
      "cell_type": "markdown",
      "metadata": {
        "id": "i0kIbPpTs6Bx"
      },
      "source": [
        "Step 5: Predict response"
      ]
    },
    {
      "cell_type": "code",
      "metadata": {
        "id": "USPqnxHPs8-H",
        "colab": {
          "base_uri": "https://localhost:8080/"
        },
        "outputId": "202ceec0-2fa0-4584-be5f-f2a04e5f95c0"
      },
      "source": [
        "y_pred = model.predict(X)\n",
        "print('predicted response:', y_pred, sep='\\n')"
      ],
      "execution_count": 15,
      "outputs": [
        {
          "output_type": "stream",
          "name": "stdout",
          "text": [
            "predicted response:\n",
            "[ 8.33333333 13.73333333 19.13333333 24.53333333 29.93333333 35.33333333]\n"
          ]
        }
      ]
    },
    {
      "cell_type": "code",
      "metadata": {
        "id": "w25ikrqmtE-3",
        "colab": {
          "base_uri": "https://localhost:8080/"
        },
        "outputId": "47141c71-a450-4f1a-8df4-b160c9912d80"
      },
      "source": [
        "y_pred = model.intercept_ + model.coef_ * X\n",
        "print('predicted response:', y_pred, sep='\\n')"
      ],
      "execution_count": 16,
      "outputs": [
        {
          "output_type": "stream",
          "name": "stdout",
          "text": [
            "predicted response:\n",
            "[[ 8.33333333]\n",
            " [13.73333333]\n",
            " [19.13333333]\n",
            " [24.53333333]\n",
            " [29.93333333]\n",
            " [35.33333333]]\n"
          ]
        }
      ]
    },
    {
      "cell_type": "markdown",
      "metadata": {
        "id": "_ucjoxUjtU47"
      },
      "source": [
        "The output here differs from the previous example only in dimensions. The predicted response is now a two-dimensional array, while in the previous case, it had one dimension.\n",
        "\n",
        "If you reduce the number of dimensions of x to one, these two approaches will yield the same result. You can do this by replacing x with x.reshape(-1), x.flatten(), or x.ravel() when multiplying it with model.coef_."
      ]
    },
    {
      "cell_type": "code",
      "metadata": {
        "id": "HSYUHpEwxCvN"
      },
      "source": [
        "X_new = [[5], [30]]"
      ],
      "execution_count": 17,
      "outputs": []
    },
    {
      "cell_type": "code",
      "metadata": {
        "id": "cx_kj8i-xbSd",
        "colab": {
          "base_uri": "https://localhost:8080/"
        },
        "outputId": "22a674bf-81a4-4b36-f12e-c18577783fa1"
      },
      "source": [
        "y_new = model.predict(X_new)\n",
        "print(y_new)"
      ],
      "execution_count": 18,
      "outputs": [
        {
          "output_type": "stream",
          "name": "stdout",
          "text": [
            "[ 8.33333333 21.83333333]\n"
          ]
        }
      ]
    },
    {
      "cell_type": "code",
      "metadata": {
        "id": "PCl9X17ttUOo",
        "colab": {
          "base_uri": "https://localhost:8080/"
        },
        "outputId": "da423cfb-c9e3-448c-f644-180891b997e3"
      },
      "source": [
        "X_new = np.arange(5).reshape((-1, 1))\n",
        "print(X_new)"
      ],
      "execution_count": 19,
      "outputs": [
        {
          "output_type": "stream",
          "name": "stdout",
          "text": [
            "[[0]\n",
            " [1]\n",
            " [2]\n",
            " [3]\n",
            " [4]]\n"
          ]
        }
      ]
    },
    {
      "cell_type": "code",
      "metadata": {
        "id": "cp0lgtVHtfLo",
        "colab": {
          "base_uri": "https://localhost:8080/"
        },
        "outputId": "0b44bb40-a156-48ad-bb6a-06634a12a29f"
      },
      "source": [
        "y_new = model.predict(X_new)\n",
        "print(y_new)"
      ],
      "execution_count": 20,
      "outputs": [
        {
          "output_type": "stream",
          "name": "stdout",
          "text": [
            "[5.63333333 6.17333333 6.71333333 7.25333333 7.79333333]\n"
          ]
        }
      ]
    },
    {
      "cell_type": "markdown",
      "metadata": {
        "id": "IjeHZPKMx8TU"
      },
      "source": [
        "# Multiple Regression (Sklearn)"
      ]
    },
    {
      "cell_type": "markdown",
      "metadata": {
        "id": "rXrq2PrwyB89"
      },
      "source": [
        "Steps 1 and 2: Import packages and classes, and provide data"
      ]
    },
    {
      "cell_type": "code",
      "metadata": {
        "id": "KrZXVEsbxQhl"
      },
      "source": [
        "import numpy as np\n",
        "from sklearn.linear_model import LinearRegression\n",
        "X = [[0, 1], [5, 1], [15, 2], [25, 5], [35, 11], [45, 15], [55, 34], [60, 35]]\n",
        "y = [4, 5, 20, 14, 32, 22, 38, 43]\n",
        "X, y = np.array(X), np.array(y)"
      ],
      "execution_count": 76,
      "outputs": []
    },
    {
      "cell_type": "code",
      "metadata": {
        "id": "ZUzBN7BpyNUt",
        "colab": {
          "base_uri": "https://localhost:8080/"
        },
        "outputId": "b1ab131a-479e-4c62-d895-35fa70b6d832"
      },
      "source": [
        "X"
      ],
      "execution_count": 77,
      "outputs": [
        {
          "output_type": "execute_result",
          "data": {
            "text/plain": [
              "array([[ 0,  1],\n",
              "       [ 5,  1],\n",
              "       [15,  2],\n",
              "       [25,  5],\n",
              "       [35, 11],\n",
              "       [45, 15],\n",
              "       [55, 34],\n",
              "       [60, 35]])"
            ]
          },
          "metadata": {},
          "execution_count": 77
        }
      ]
    },
    {
      "cell_type": "code",
      "metadata": {
        "id": "tKktZjIHyNcf",
        "colab": {
          "base_uri": "https://localhost:8080/"
        },
        "outputId": "7c5d63bb-5b95-4749-f6be-f17ee51c17d1"
      },
      "source": [
        "X.shape"
      ],
      "execution_count": 78,
      "outputs": [
        {
          "output_type": "execute_result",
          "data": {
            "text/plain": [
              "(8, 2)"
            ]
          },
          "metadata": {},
          "execution_count": 78
        }
      ]
    },
    {
      "cell_type": "code",
      "metadata": {
        "id": "NT-dM3xRyNiy",
        "colab": {
          "base_uri": "https://localhost:8080/"
        },
        "outputId": "6c640b95-8102-499c-d1be-a9362e4b7da8"
      },
      "source": [
        "y"
      ],
      "execution_count": 79,
      "outputs": [
        {
          "output_type": "execute_result",
          "data": {
            "text/plain": [
              "array([ 4,  5, 20, 14, 32, 22, 38, 43])"
            ]
          },
          "metadata": {},
          "execution_count": 79
        }
      ]
    },
    {
      "cell_type": "code",
      "metadata": {
        "id": "cOppqPzKyNra",
        "colab": {
          "base_uri": "https://localhost:8080/"
        },
        "outputId": "1513e908-7074-4023-afe6-b9390ba649a3"
      },
      "source": [
        "y.shape"
      ],
      "execution_count": 80,
      "outputs": [
        {
          "output_type": "execute_result",
          "data": {
            "text/plain": [
              "(8,)"
            ]
          },
          "metadata": {},
          "execution_count": 80
        }
      ]
    },
    {
      "cell_type": "markdown",
      "metadata": {
        "id": "zpCs1MO7ygBO"
      },
      "source": [
        "Step 3: Create a model and fit it"
      ]
    },
    {
      "cell_type": "code",
      "metadata": {
        "id": "KNr4LungybPc"
      },
      "source": [
        "model = LinearRegression().fit(X, y)"
      ],
      "execution_count": 81,
      "outputs": []
    },
    {
      "cell_type": "markdown",
      "metadata": {
        "id": "ZLXHn8psynT1"
      },
      "source": [
        "Step 4: Get results"
      ]
    },
    {
      "cell_type": "code",
      "metadata": {
        "id": "4I9jPw030H4y",
        "colab": {
          "base_uri": "https://localhost:8080/"
        },
        "outputId": "1ec4ebc9-84e3-43ae-f7eb-bb43cafc6fad"
      },
      "source": [
        "R_sq = model.score(X, y)\n",
        "print('coefficient of determination:', R_sq)\n",
        "\n",
        "print('intercept:', model.intercept_)\n",
        "\n",
        "print('slope:', model.coef_)"
      ],
      "execution_count": 82,
      "outputs": [
        {
          "output_type": "stream",
          "name": "stdout",
          "text": [
            "coefficient of determination: 0.8615939258756775\n",
            "intercept: 5.52257927519819\n",
            "slope: [0.44706965 0.25502548]\n"
          ]
        }
      ]
    },
    {
      "cell_type": "markdown",
      "metadata": {
        "id": "_-RUmcVp0SnK"
      },
      "source": [
        "- You obtain the value of 𝑅² using .score() and the values of the estimators of regression coefficients with .intercept_ and .coef_. Again, .intercept_ holds the bias 𝑏₀, while now .coef_ is an array containing 𝑏₁ and 𝑏₂ respectively.\n",
        "\n",
        "- In this example, the intercept is approximately 5.52, and this is the value of the predicted response when 𝑥₁ = 𝑥₂ = 0. The increase of 𝑥₁ by 1 yields the rise of the predicted response by 0.45. Similarly, when 𝑥₂ grows by 1, the response rises by 0.26."
      ]
    },
    {
      "cell_type": "markdown",
      "metadata": {
        "id": "ZqrjbDYN0Z1f"
      },
      "source": [
        "Step 5: Predict response"
      ]
    },
    {
      "cell_type": "code",
      "metadata": {
        "id": "b-ThMYWF0V7f",
        "colab": {
          "base_uri": "https://localhost:8080/"
        },
        "outputId": "67988690-cc22-4802-d982-e833d87b4d90"
      },
      "source": [
        "y_pred = model.predict(X)\n",
        "print('predicted response:', y_pred, sep='\\n')"
      ],
      "execution_count": 83,
      "outputs": [
        {
          "output_type": "stream",
          "name": "stdout",
          "text": [
            "predicted response:\n",
            "[ 5.77760476  8.012953   12.73867497 17.9744479  23.97529728 29.4660957\n",
            " 38.78227633 41.27265006]\n"
          ]
        }
      ]
    },
    {
      "cell_type": "code",
      "metadata": {
        "id": "sgyf5aYT0jie",
        "colab": {
          "base_uri": "https://localhost:8080/"
        },
        "outputId": "65af9c8d-e7b3-4763-eecb-5af458cc183a"
      },
      "source": [
        "y_pred = model.intercept_ + np.sum(model.coef_ * X, axis=1)\n",
        "print('predicted response:', y_pred, sep='\\n')"
      ],
      "execution_count": 84,
      "outputs": [
        {
          "output_type": "stream",
          "name": "stdout",
          "text": [
            "predicted response:\n",
            "[ 5.77760476  8.012953   12.73867497 17.9744479  23.97529728 29.4660957\n",
            " 38.78227633 41.27265006]\n"
          ]
        }
      ]
    },
    {
      "cell_type": "markdown",
      "metadata": {
        "id": "wIFM756U1JFK"
      },
      "source": [
        "- You can predict the output values by multiplying each column of the input with the appropriate weight, summing the results and adding the intercept to the sum."
      ]
    },
    {
      "cell_type": "code",
      "metadata": {
        "id": "Z0dVz2V0_HtW",
        "colab": {
          "base_uri": "https://localhost:8080/"
        },
        "outputId": "bc17574e-c0fc-4c56-bd8f-d6e2cde78af9"
      },
      "source": [
        "x_new = np.arange(10).reshape((-1, 2))\n",
        "print(x_new)"
      ],
      "execution_count": 85,
      "outputs": [
        {
          "output_type": "stream",
          "name": "stdout",
          "text": [
            "[[0 1]\n",
            " [2 3]\n",
            " [4 5]\n",
            " [6 7]\n",
            " [8 9]]\n"
          ]
        }
      ]
    },
    {
      "cell_type": "code",
      "metadata": {
        "id": "Y3X5rUWM_Jhi",
        "colab": {
          "base_uri": "https://localhost:8080/"
        },
        "outputId": "9f5a52be-a76d-48fa-fb58-b58455764a02"
      },
      "source": [
        "y_new = model.predict(x_new)\n",
        "print(y_new)"
      ],
      "execution_count": 86,
      "outputs": [
        {
          "output_type": "stream",
          "name": "stdout",
          "text": [
            "[ 5.77760476  7.18179502  8.58598528  9.99017554 11.3943658 ]\n"
          ]
        }
      ]
    },
    {
      "cell_type": "markdown",
      "metadata": {
        "id": "X-gyQQynsRsl"
      },
      "source": [
        "# Multiple Regression (Sklearn)"
      ]
    },
    {
      "cell_type": "code",
      "metadata": {
        "id": "qtjDuY4np4v1"
      },
      "source": [
        "from sklearn import datasets\n",
        "X, y = datasets.make_regression(n_samples = 10, n_features = 2, n_targets=1, bias = 22, random_state=12)"
      ],
      "execution_count": 63,
      "outputs": []
    },
    {
      "cell_type": "code",
      "metadata": {
        "id": "62bB_0eHH_Qk"
      },
      "source": [
        "from sklearn.linear_model import LinearRegression"
      ],
      "execution_count": 64,
      "outputs": []
    },
    {
      "cell_type": "code",
      "metadata": {
        "id": "EdiM8-tjIEgs"
      },
      "source": [
        "regmodel = LinearRegression()"
      ],
      "execution_count": 65,
      "outputs": []
    },
    {
      "cell_type": "code",
      "metadata": {
        "id": "DNikARBwIkv_",
        "colab": {
          "base_uri": "https://localhost:8080/"
        },
        "outputId": "22c22c4e-5bb1-4f49-e147-4de57ff9ce08"
      },
      "source": [
        "regmodel.fit(X,y)"
      ],
      "execution_count": 66,
      "outputs": [
        {
          "output_type": "execute_result",
          "data": {
            "text/plain": [
              "LinearRegression()"
            ]
          },
          "metadata": {},
          "execution_count": 66
        }
      ]
    },
    {
      "cell_type": "code",
      "metadata": {
        "id": "Amvfo0bSIIaR",
        "colab": {
          "base_uri": "https://localhost:8080/"
        },
        "outputId": "7a35f96f-af73-441c-a5d7-7c21bd2918e1"
      },
      "source": [
        "regmodel.score(X,y)"
      ],
      "execution_count": 67,
      "outputs": [
        {
          "output_type": "execute_result",
          "data": {
            "text/plain": [
              "1.0"
            ]
          },
          "metadata": {},
          "execution_count": 67
        }
      ]
    },
    {
      "cell_type": "code",
      "metadata": {
        "id": "L-DBTvmKIxNK",
        "colab": {
          "base_uri": "https://localhost:8080/"
        },
        "outputId": "1c89f5b9-b807-466b-a767-864bb6a11734"
      },
      "source": [
        "regmodel.intercept_"
      ],
      "execution_count": 68,
      "outputs": [
        {
          "output_type": "execute_result",
          "data": {
            "text/plain": [
              "21.999999999999993"
            ]
          },
          "metadata": {},
          "execution_count": 68
        }
      ]
    },
    {
      "cell_type": "code",
      "metadata": {
        "id": "Rue3oz22Ix9-",
        "colab": {
          "base_uri": "https://localhost:8080/"
        },
        "outputId": "38784819-2ba8-405d-a547-0ffa5dcb27ef"
      },
      "source": [
        "regmodel.coef_"
      ],
      "execution_count": 69,
      "outputs": [
        {
          "output_type": "execute_result",
          "data": {
            "text/plain": [
              "array([97.8058079 , 33.46475291])"
            ]
          },
          "metadata": {},
          "execution_count": 69
        }
      ]
    },
    {
      "cell_type": "code",
      "metadata": {
        "id": "-PsTUHHrQ30y",
        "colab": {
          "base_uri": "https://localhost:8080/"
        },
        "outputId": "b2276704-8bf0-4eff-c5f7-391832682c0f"
      },
      "source": [
        "y_pred = regmodel.predict(X)\n",
        "y_pred"
      ],
      "execution_count": 70,
      "outputs": [
        {
          "output_type": "execute_result",
          "data": {
            "text/plain": [
              "array([-136.22864486, -102.90092174,  -28.81905468,   54.97466562,\n",
              "        -60.17466564,  -33.49812995,  105.87214515,  275.8751669 ,\n",
              "         10.41261199,   48.20304167])"
            ]
          },
          "metadata": {},
          "execution_count": 70
        }
      ]
    },
    {
      "cell_type": "code",
      "metadata": {
        "id": "FgRgD0rbUgZW",
        "colab": {
          "base_uri": "https://localhost:8080/"
        },
        "outputId": "ab106290-07b8-4618-c549-1de0302b61cd"
      },
      "source": [
        "y_pred = regmodel.intercept_ + regmodel.coef_[0]*X[:,0]+regmodel.coef_[1]*X[:,1]\n",
        "y_pred"
      ],
      "execution_count": 71,
      "outputs": [
        {
          "output_type": "execute_result",
          "data": {
            "text/plain": [
              "array([-136.22864486, -102.90092174,  -28.81905468,   54.97466562,\n",
              "        -60.17466564,  -33.49812995,  105.87214515,  275.8751669 ,\n",
              "         10.41261199,   48.20304167])"
            ]
          },
          "metadata": {},
          "execution_count": 71
        }
      ]
    },
    {
      "cell_type": "code",
      "metadata": {
        "id": "AWL1tAlYUghR"
      },
      "source": [
        "X_new = [[5, 20]]"
      ],
      "execution_count": 74,
      "outputs": []
    },
    {
      "cell_type": "code",
      "metadata": {
        "id": "Ze3feC6LUq_G",
        "colab": {
          "base_uri": "https://localhost:8080/"
        },
        "outputId": "fe4daab6-1d4f-4124-d3d0-cf42d2dea23e"
      },
      "source": [
        "y_new = regmodel.predict(X_new)\n",
        "y_new"
      ],
      "execution_count": 75,
      "outputs": [
        {
          "output_type": "execute_result",
          "data": {
            "text/plain": [
              "array([1180.32409772])"
            ]
          },
          "metadata": {},
          "execution_count": 75
        }
      ]
    },
    {
      "cell_type": "markdown",
      "metadata": {
        "id": "liArj2EUQ42J"
      },
      "source": [
        "# Simple Regression (StatsModel)"
      ]
    },
    {
      "cell_type": "code",
      "metadata": {
        "id": "1Gi6SCVgQf17"
      },
      "source": [
        "import numpy as np\n",
        "import statsmodels.api as sm"
      ],
      "execution_count": null,
      "outputs": []
    },
    {
      "cell_type": "code",
      "metadata": {
        "id": "T-pnnJLWRCOa"
      },
      "source": [
        "#Dummy Data\n",
        "X = [1,2,3,4,5,6,7,8,9,10]\n",
        "X = np.array(X).reshape(-1,1)\n",
        "y = 5 + X*2.5*np.random.randint(20)"
      ],
      "execution_count": null,
      "outputs": []
    },
    {
      "cell_type": "code",
      "metadata": {
        "id": "IIODhSEZQn1H"
      },
      "source": [
        "X = sm.add_constant(X)"
      ],
      "execution_count": null,
      "outputs": []
    },
    {
      "cell_type": "code",
      "metadata": {
        "id": "vMfcA3GgQn42"
      },
      "source": [
        "model = sm.OLS(y, X)"
      ],
      "execution_count": null,
      "outputs": []
    },
    {
      "cell_type": "code",
      "metadata": {
        "id": "Ru27qwD1Qn-G"
      },
      "source": [
        "results = model.fit()"
      ],
      "execution_count": null,
      "outputs": []
    },
    {
      "cell_type": "code",
      "metadata": {
        "id": "fwmkt3wTQ0Ku",
        "colab": {
          "base_uri": "https://localhost:8080/",
          "height": 496
        },
        "outputId": "c2b3acb6-dcd0-4c00-b1d1-67927c421c32"
      },
      "source": [
        "print(results.summary())"
      ],
      "execution_count": null,
      "outputs": [
        {
          "output_type": "stream",
          "text": [
            "                            OLS Regression Results                            \n",
            "==============================================================================\n",
            "Dep. Variable:                      y   R-squared:                       1.000\n",
            "Model:                            OLS   Adj. R-squared:                  1.000\n",
            "Method:                 Least Squares   F-statistic:                 4.929e+31\n",
            "Date:                Tue, 08 Sep 2020   Prob (F-statistic):          1.90e-124\n",
            "Time:                        15:19:48   Log-Likelihood:                 293.49\n",
            "No. Observations:                  10   AIC:                            -583.0\n",
            "Df Residuals:                       8   BIC:                            -582.4\n",
            "Df Model:                           1                                         \n",
            "Covariance Type:            nonrobust                                         \n",
            "==============================================================================\n",
            "                 coef    std err          t      P>|t|      [0.025      0.975]\n",
            "------------------------------------------------------------------------------\n",
            "const          5.0000   3.31e-14   1.51e+14      0.000       5.000       5.000\n",
            "x1            37.5000   5.34e-15   7.02e+15      0.000      37.500      37.500\n",
            "==============================================================================\n",
            "Omnibus:                        2.741   Durbin-Watson:                   0.056\n",
            "Prob(Omnibus):                  0.254   Jarque-Bera (JB):                1.083\n",
            "Skew:                           0.353   Prob(JB):                        0.582\n",
            "Kurtosis:                       1.550   Cond. No.                         13.7\n",
            "==============================================================================\n",
            "\n",
            "Warnings:\n",
            "[1] Standard Errors assume that the covariance matrix of the errors is correctly specified.\n"
          ],
          "name": "stdout"
        },
        {
          "output_type": "stream",
          "text": [
            "/usr/local/lib/python3.6/dist-packages/scipy/stats/stats.py:1535: UserWarning: kurtosistest only valid for n>=20 ... continuing anyway, n=10\n",
            "  \"anyway, n=%i\" % int(n))\n"
          ],
          "name": "stderr"
        }
      ]
    },
    {
      "cell_type": "markdown",
      "metadata": {
        "id": "5DBZS3EMbIy5"
      },
      "source": [
        "# Multiple Regression (StatsModel)"
      ]
    },
    {
      "cell_type": "markdown",
      "metadata": {
        "id": "5u87aQiVbfO6"
      },
      "source": [
        "There exists no R type regression summary report in sklearn. The main reason is that sklearn is used for predictive modelling / machine learning and the evaluation criteria are based on performance on previously unseen data (such as predictive r^2 for regression)\n",
        "\n",
        "\n",
        "Statsmodels also helps us determine which of our variables are statistically significant through the p-values. If our p-value is <.05, then that variable is statistically significant. \n",
        "\n",
        "[link text](https://www.statsmodels.org/devel/user-guide.html#regression-and-linear-models)"
      ]
    },
    {
      "cell_type": "markdown",
      "metadata": {
        "id": "kPUJH6iWbwnm"
      },
      "source": [
        "Step 1: Import packages"
      ]
    },
    {
      "cell_type": "code",
      "metadata": {
        "id": "Tu6XbgkPZSKr"
      },
      "source": [
        "import numpy as np\n",
        "import statsmodels.api as sm"
      ],
      "execution_count": null,
      "outputs": []
    },
    {
      "cell_type": "markdown",
      "metadata": {
        "id": "sr98G95Jb2Ne"
      },
      "source": [
        "Step 2: Provide data and transform inputs"
      ]
    },
    {
      "cell_type": "code",
      "metadata": {
        "id": "VlWm2xAdb2yU"
      },
      "source": [
        "X = [[0, 1], [5, 1], [15, 2], [25, 5], [35, 11], [45, 15], [55, 34], [60, 35]]\n",
        "y = [4, 5, 20, 14, 32, 22, 38, 43]\n",
        "X, y = np.array(X), np.array(y)"
      ],
      "execution_count": null,
      "outputs": []
    },
    {
      "cell_type": "code",
      "metadata": {
        "id": "kuU1y5GjcQAv",
        "colab": {
          "base_uri": "https://localhost:8080/"
        },
        "outputId": "999a29da-67ca-4fd9-8498-0537f7a3da92"
      },
      "source": [
        "X"
      ],
      "execution_count": null,
      "outputs": [
        {
          "output_type": "execute_result",
          "data": {
            "text/plain": [
              "array([[ 0,  1],\n",
              "       [ 5,  1],\n",
              "       [15,  2],\n",
              "       [25,  5],\n",
              "       [35, 11],\n",
              "       [45, 15],\n",
              "       [55, 34],\n",
              "       [60, 35]])"
            ]
          },
          "metadata": {
            "tags": []
          },
          "execution_count": 53
        }
      ]
    },
    {
      "cell_type": "markdown",
      "metadata": {
        "id": "pfZa0t-gcDqS"
      },
      "source": [
        "The input and output arrays are created, but the job is not done yet.\n",
        "\n",
        "You need to add the column of ones to the inputs if you want statsmodels to calculate the intercept 𝑏₀. It doesn’t takes 𝑏₀ into account by default. This is just one function call:"
      ]
    },
    {
      "cell_type": "code",
      "metadata": {
        "id": "-XOHjnvpcExc"
      },
      "source": [
        "X = sm.add_constant(X)"
      ],
      "execution_count": null,
      "outputs": []
    },
    {
      "cell_type": "markdown",
      "metadata": {
        "id": "GvuSVQRxcLyb"
      },
      "source": [
        "That’s how you add the column of ones to x with add_constant(). It takes the input array x as an argument and returns a new array with the column of ones inserted at the beginning. This is how x and y look now:"
      ]
    },
    {
      "cell_type": "code",
      "metadata": {
        "id": "YAwbCzifcIg8",
        "colab": {
          "base_uri": "https://localhost:8080/"
        },
        "outputId": "c0a0f68f-dfb0-42a0-9e5b-15bbe1558d10"
      },
      "source": [
        "X"
      ],
      "execution_count": null,
      "outputs": [
        {
          "output_type": "execute_result",
          "data": {
            "text/plain": [
              "array([[ 1.,  0.,  1.],\n",
              "       [ 1.,  5.,  1.],\n",
              "       [ 1., 15.,  2.],\n",
              "       [ 1., 25.,  5.],\n",
              "       [ 1., 35., 11.],\n",
              "       [ 1., 45., 15.],\n",
              "       [ 1., 55., 34.],\n",
              "       [ 1., 60., 35.]])"
            ]
          },
          "metadata": {
            "tags": []
          },
          "execution_count": 55
        }
      ]
    },
    {
      "cell_type": "markdown",
      "metadata": {
        "id": "3Vsag1-gcWcn"
      },
      "source": [
        "You can see that the modified x has three columns: the first column of ones (corresponding to 𝑏₀ and replacing the intercept) as well as two columns of the original features."
      ]
    },
    {
      "cell_type": "markdown",
      "metadata": {
        "id": "Rdcz8x8zcYzq"
      },
      "source": [
        "Step 3: Create a model and fit it"
      ]
    },
    {
      "cell_type": "markdown",
      "metadata": {
        "id": "5cyzW3SUcqEX"
      },
      "source": [
        "The regression model based on ordinary least squares is an instance of the class statsmodels.regression.linear_model.OLS. This is how you can obtain one:"
      ]
    },
    {
      "cell_type": "code",
      "metadata": {
        "id": "BC096_XUcNMW"
      },
      "source": [
        "model = sm.OLS(y, X)"
      ],
      "execution_count": null,
      "outputs": []
    },
    {
      "cell_type": "markdown",
      "metadata": {
        "id": "oyvVyEFBcwYX"
      },
      "source": [
        "You should be careful here! Please, notice that the first argument is the output, followed with the input. There are several more optional parameters.\n",
        "\n",
        "To find more information about this class, please visit the official documentation page.\n",
        "\n",
        "Once your model is created, you can apply .fit() on it:"
      ]
    },
    {
      "cell_type": "code",
      "metadata": {
        "id": "HI1vqXAucvse"
      },
      "source": [
        "results = model.fit()"
      ],
      "execution_count": null,
      "outputs": []
    },
    {
      "cell_type": "markdown",
      "metadata": {
        "id": "9Tnha99Kc3Xv"
      },
      "source": [
        "results = model.fit()\n",
        "\n",
        "By calling .fit(), you obtain the variable results, which is an instance of the class statsmodels.regression.linear_model.RegressionResultsWrapper. This object holds a lot of information about the regression model."
      ]
    },
    {
      "cell_type": "markdown",
      "metadata": {
        "id": "nqVGlVO7c6dG"
      },
      "source": [
        "Step 4: Get results"
      ]
    },
    {
      "cell_type": "markdown",
      "metadata": {
        "id": "QSyJPowcc-8U"
      },
      "source": [
        "The variable results refers to the object that contains detailed information about the results of linear regression.\n",
        "\n",
        "You can call .summary() to get the table with the results of linear regression:"
      ]
    },
    {
      "cell_type": "code",
      "metadata": {
        "id": "IpSwsi2ecz96",
        "colab": {
          "base_uri": "https://localhost:8080/"
        },
        "outputId": "74a0ee2e-010a-41b3-c958-5e18ea5f40e6"
      },
      "source": [
        "print(results.summary())"
      ],
      "execution_count": null,
      "outputs": [
        {
          "output_type": "stream",
          "text": [
            "                            OLS Regression Results                            \n",
            "==============================================================================\n",
            "Dep. Variable:                      y   R-squared:                       0.862\n",
            "Model:                            OLS   Adj. R-squared:                  0.806\n",
            "Method:                 Least Squares   F-statistic:                     15.56\n",
            "Date:                Tue, 08 Sep 2020   Prob (F-statistic):            0.00713\n",
            "Time:                        15:19:48   Log-Likelihood:                -24.316\n",
            "No. Observations:                   8   AIC:                             54.63\n",
            "Df Residuals:                       5   BIC:                             54.87\n",
            "Df Model:                           2                                         \n",
            "Covariance Type:            nonrobust                                         \n",
            "==============================================================================\n",
            "                 coef    std err          t      P>|t|      [0.025      0.975]\n",
            "------------------------------------------------------------------------------\n",
            "const          5.5226      4.431      1.246      0.268      -5.867      16.912\n",
            "x1             0.4471      0.285      1.567      0.178      -0.286       1.180\n",
            "x2             0.2550      0.453      0.563      0.598      -0.910       1.420\n",
            "==============================================================================\n",
            "Omnibus:                        0.561   Durbin-Watson:                   3.268\n",
            "Prob(Omnibus):                  0.755   Jarque-Bera (JB):                0.534\n",
            "Skew:                           0.380   Prob(JB):                        0.766\n",
            "Kurtosis:                       1.987   Cond. No.                         80.1\n",
            "==============================================================================\n",
            "\n",
            "Warnings:\n",
            "[1] Standard Errors assume that the covariance matrix of the errors is correctly specified.\n"
          ],
          "name": "stdout"
        },
        {
          "output_type": "stream",
          "text": [
            "/usr/local/lib/python3.6/dist-packages/scipy/stats/stats.py:1535: UserWarning: kurtosistest only valid for n>=20 ... continuing anyway, n=8\n",
            "  \"anyway, n=%i\" % int(n))\n"
          ],
          "name": "stderr"
        }
      ]
    },
    {
      "cell_type": "markdown",
      "metadata": {
        "id": "FW_SsKI6dJYI"
      },
      "source": [
        "This table is very comprehensive. You can find many statistical values associated with linear regression including 𝑅², 𝑏₀, 𝑏₁, and 𝑏₂.\n",
        "\n",
        "In this particular case, you might obtain the warning related to kurtosistest. This is due to the small number of observations provided.\n",
        "\n",
        "You can extract any of the values from the table above. Here’s an example:"
      ]
    },
    {
      "cell_type": "code",
      "metadata": {
        "id": "_5ESLuvZdDdZ",
        "colab": {
          "base_uri": "https://localhost:8080/"
        },
        "outputId": "5c506ea2-11d0-4454-c94b-4f322613fd83"
      },
      "source": [
        "print('coefficient of determination:', results.rsquared)\n",
        "\n",
        "print('adjusted coefficient of determination:', results.rsquared_adj)\n",
        "\n",
        "print('regression coefficients:', results.params)"
      ],
      "execution_count": null,
      "outputs": [
        {
          "output_type": "stream",
          "text": [
            "coefficient of determination: 0.8615939258756776\n",
            "adjusted coefficient of determination: 0.8062314962259487\n",
            "regression coefficients: [5.52257928 0.44706965 0.25502548]\n"
          ],
          "name": "stdout"
        }
      ]
    },
    {
      "cell_type": "markdown",
      "metadata": {
        "id": "bxERzJ1CdQ8d"
      },
      "source": [
        "That’s how you obtain some of the results of linear regression:\n",
        "\n",
        "- .rsquared holds 𝑅².\n",
        "\n",
        "- .rsquared_adj represents adjusted 𝑅² (𝑅² corrected according to the number of input features).\n",
        "- .params refers the array with 𝑏₀, 𝑏₁, and 𝑏₂ respectively.\n",
        "\n",
        "You can also notice that these results are identical to those obtained with scikit-learn for the same problem.\n",
        "\n",
        "To find more information about the results of linear regression, please visit the official documentation page."
      ]
    },
    {
      "cell_type": "markdown",
      "metadata": {
        "id": "8d2hZV97dX0K"
      },
      "source": [
        "Step 5: Predict response"
      ]
    },
    {
      "cell_type": "markdown",
      "metadata": {
        "id": "Nv76zEg9daPL"
      },
      "source": [
        "You can obtain the predicted response on the input values used for creating the model using .fittedvalues or .predict() with the input array as the argument:"
      ]
    },
    {
      "cell_type": "code",
      "metadata": {
        "id": "LY66lyiydYbY",
        "colab": {
          "base_uri": "https://localhost:8080/"
        },
        "outputId": "1644e5f0-506c-423c-e2f7-b9741bb0ab27"
      },
      "source": [
        "print('predicted response:', results.fittedvalues, sep='\\n')\n",
        "\n",
        "\n",
        "\n",
        "print('predicted response:', results.predict(X), sep='\\n')"
      ],
      "execution_count": null,
      "outputs": [
        {
          "output_type": "stream",
          "text": [
            "predicted response:\n",
            "[ 5.77760476  8.012953   12.73867497 17.9744479  23.97529728 29.4660957\n",
            " 38.78227633 41.27265006]\n",
            "predicted response:\n",
            "[ 5.77760476  8.012953   12.73867497 17.9744479  23.97529728 29.4660957\n",
            " 38.78227633 41.27265006]\n"
          ],
          "name": "stdout"
        }
      ]
    },
    {
      "cell_type": "markdown",
      "metadata": {
        "id": "h1aGs45UdiZL"
      },
      "source": [
        "This is the predicted response for known inputs. If you want predictions with new regressors, you can also apply .predict() with new data as the argument:"
      ]
    },
    {
      "cell_type": "code",
      "metadata": {
        "id": "BAjAFzMweY6y",
        "colab": {
          "base_uri": "https://localhost:8080/"
        },
        "outputId": "a924ece7-a81d-40d0-c20d-d4f6e44bd863"
      },
      "source": [
        "X"
      ],
      "execution_count": null,
      "outputs": [
        {
          "output_type": "execute_result",
          "data": {
            "text/plain": [
              "array([[ 1.,  0.,  1.],\n",
              "       [ 1.,  5.,  1.],\n",
              "       [ 1., 15.,  2.],\n",
              "       [ 1., 25.,  5.],\n",
              "       [ 1., 35., 11.],\n",
              "       [ 1., 45., 15.],\n",
              "       [ 1., 55., 34.],\n",
              "       [ 1., 60., 35.]])"
            ]
          },
          "metadata": {
            "tags": []
          },
          "execution_count": 61
        }
      ]
    },
    {
      "cell_type": "code",
      "metadata": {
        "id": "8IOL2Mkddvmo",
        "colab": {
          "base_uri": "https://localhost:8080/"
        },
        "outputId": "2acf3c9e-cece-4755-9dea-099ca28fa5c3"
      },
      "source": [
        "X_new = sm.add_constant(np.arange(10).reshape((-1, 2)))\n",
        "print(X_new)"
      ],
      "execution_count": null,
      "outputs": [
        {
          "output_type": "stream",
          "text": [
            "[[1. 0. 1.]\n",
            " [1. 2. 3.]\n",
            " [1. 4. 5.]\n",
            " [1. 6. 7.]\n",
            " [1. 8. 9.]]\n"
          ],
          "name": "stdout"
        }
      ]
    },
    {
      "cell_type": "code",
      "metadata": {
        "id": "hxcgStcsib9E",
        "colab": {
          "base_uri": "https://localhost:8080/"
        },
        "outputId": "f560f1fa-2009-4580-fd61-9bd0d04c6be5"
      },
      "source": [
        "X_new.shape"
      ],
      "execution_count": null,
      "outputs": [
        {
          "output_type": "execute_result",
          "data": {
            "text/plain": [
              "(5, 3)"
            ]
          },
          "metadata": {
            "tags": []
          },
          "execution_count": 63
        }
      ]
    },
    {
      "cell_type": "code",
      "metadata": {
        "id": "TddoWpMW5UQw",
        "colab": {
          "base_uri": "https://localhost:8080/"
        },
        "outputId": "9faad15b-cf16-4ae5-947f-30ed816e509d"
      },
      "source": [
        "y_new = results.predict(X_new)\n",
        "print(y_new)"
      ],
      "execution_count": null,
      "outputs": [
        {
          "output_type": "stream",
          "text": [
            "[ 5.77760476  7.18179502  8.58598528  9.99017554 11.3943658 ]\n"
          ],
          "name": "stdout"
        }
      ]
    },
    {
      "cell_type": "code",
      "metadata": {
        "id": "2HVbc-sBieyJ",
        "colab": {
          "base_uri": "https://localhost:8080/"
        },
        "outputId": "22320391-6f47-4777-d2d6-e7ab89ba8066"
      },
      "source": [
        "y_new.shape"
      ],
      "execution_count": null,
      "outputs": [
        {
          "output_type": "execute_result",
          "data": {
            "text/plain": [
              "(5,)"
            ]
          },
          "metadata": {
            "tags": []
          },
          "execution_count": 65
        }
      ]
    },
    {
      "cell_type": "markdown",
      "metadata": {
        "id": "UX5sQHA1QNET"
      },
      "source": [
        "# Multiple Regression (StatsModel)"
      ]
    },
    {
      "cell_type": "code",
      "metadata": {
        "id": "-RbQ7d5ynKxs"
      },
      "source": [
        "import numpy as np\n",
        "import statsmodels.api as sm"
      ],
      "execution_count": null,
      "outputs": []
    },
    {
      "cell_type": "code",
      "metadata": {
        "id": "pL1S6tEnPT--"
      },
      "source": [
        "#Dumy Data\n",
        "X = [[0, 1], [5, 1], [15, 2], [25, 5], [35, 11], [45, 15], [55, 34], [60, 35]]\n",
        "y = [4, 5, 20, 14, 32, 22, 38, 43]\n",
        "X, y = np.array(X), np.array(y)"
      ],
      "execution_count": null,
      "outputs": []
    },
    {
      "cell_type": "code",
      "metadata": {
        "id": "QKwJkYdTQT24"
      },
      "source": [
        "X = sm.add_constant(X)"
      ],
      "execution_count": null,
      "outputs": []
    },
    {
      "cell_type": "code",
      "metadata": {
        "id": "W6ecmdVQnUiQ"
      },
      "source": [
        "model = sm.OLS(y, X)"
      ],
      "execution_count": null,
      "outputs": []
    },
    {
      "cell_type": "code",
      "metadata": {
        "id": "udfM8Cu6nUlf"
      },
      "source": [
        "results = model.fit()"
      ],
      "execution_count": null,
      "outputs": []
    },
    {
      "cell_type": "code",
      "metadata": {
        "id": "xiiMyyK1ncLS",
        "colab": {
          "base_uri": "https://localhost:8080/",
          "height": 513
        },
        "outputId": "9f956dc7-e10b-4b08-a45a-640c3a105d80"
      },
      "source": [
        "print(results.summary())"
      ],
      "execution_count": null,
      "outputs": [
        {
          "output_type": "stream",
          "text": [
            "                            OLS Regression Results                            \n",
            "==============================================================================\n",
            "Dep. Variable:                      y   R-squared:                       0.862\n",
            "Model:                            OLS   Adj. R-squared:                  0.806\n",
            "Method:                 Least Squares   F-statistic:                     15.56\n",
            "Date:                Tue, 08 Sep 2020   Prob (F-statistic):            0.00713\n",
            "Time:                        15:19:48   Log-Likelihood:                -24.316\n",
            "No. Observations:                   8   AIC:                             54.63\n",
            "Df Residuals:                       5   BIC:                             54.87\n",
            "Df Model:                           2                                         \n",
            "Covariance Type:            nonrobust                                         \n",
            "==============================================================================\n",
            "                 coef    std err          t      P>|t|      [0.025      0.975]\n",
            "------------------------------------------------------------------------------\n",
            "const          5.5226      4.431      1.246      0.268      -5.867      16.912\n",
            "x1             0.4471      0.285      1.567      0.178      -0.286       1.180\n",
            "x2             0.2550      0.453      0.563      0.598      -0.910       1.420\n",
            "==============================================================================\n",
            "Omnibus:                        0.561   Durbin-Watson:                   3.268\n",
            "Prob(Omnibus):                  0.755   Jarque-Bera (JB):                0.534\n",
            "Skew:                           0.380   Prob(JB):                        0.766\n",
            "Kurtosis:                       1.987   Cond. No.                         80.1\n",
            "==============================================================================\n",
            "\n",
            "Warnings:\n",
            "[1] Standard Errors assume that the covariance matrix of the errors is correctly specified.\n"
          ],
          "name": "stdout"
        },
        {
          "output_type": "stream",
          "text": [
            "/usr/local/lib/python3.6/dist-packages/scipy/stats/stats.py:1535: UserWarning: kurtosistest only valid for n>=20 ... continuing anyway, n=8\n",
            "  \"anyway, n=%i\" % int(n))\n"
          ],
          "name": "stderr"
        }
      ]
    },
    {
      "cell_type": "code",
      "metadata": {
        "id": "v-58f51bncPY",
        "colab": {
          "base_uri": "https://localhost:8080/",
          "height": 34
        },
        "outputId": "49550be2-3a01-4e40-edc5-fdd3468bb216"
      },
      "source": [
        "results.rsquared"
      ],
      "execution_count": null,
      "outputs": [
        {
          "output_type": "execute_result",
          "data": {
            "text/plain": [
              "0.8615939258756776"
            ]
          },
          "metadata": {
            "tags": []
          },
          "execution_count": 72
        }
      ]
    },
    {
      "cell_type": "code",
      "metadata": {
        "id": "y4kob69ZniSF",
        "colab": {
          "base_uri": "https://localhost:8080/",
          "height": 34
        },
        "outputId": "f7eaf312-3d1c-464f-948e-48186225eb43"
      },
      "source": [
        "results.rsquared_adj"
      ],
      "execution_count": null,
      "outputs": [
        {
          "output_type": "execute_result",
          "data": {
            "text/plain": [
              "0.8062314962259487"
            ]
          },
          "metadata": {
            "tags": []
          },
          "execution_count": 73
        }
      ]
    },
    {
      "cell_type": "code",
      "metadata": {
        "id": "K5lhSIOhniVb",
        "colab": {
          "base_uri": "https://localhost:8080/",
          "height": 34
        },
        "outputId": "2d8bbd18-aec6-48f5-cecd-93b2f7f9a75e"
      },
      "source": [
        "results.params"
      ],
      "execution_count": null,
      "outputs": [
        {
          "output_type": "execute_result",
          "data": {
            "text/plain": [
              "array([5.52257928, 0.44706965, 0.25502548])"
            ]
          },
          "metadata": {
            "tags": []
          },
          "execution_count": 74
        }
      ]
    },
    {
      "cell_type": "code",
      "metadata": {
        "id": "Eg1z2qJZnUo1",
        "colab": {
          "base_uri": "https://localhost:8080/",
          "height": 51
        },
        "outputId": "2a5b36b8-4a7c-4792-9840-092ec58c99cd"
      },
      "source": [
        "results.fittedvalues"
      ],
      "execution_count": null,
      "outputs": [
        {
          "output_type": "execute_result",
          "data": {
            "text/plain": [
              "array([ 5.77760476,  8.012953  , 12.73867497, 17.9744479 , 23.97529728,\n",
              "       29.4660957 , 38.78227633, 41.27265006])"
            ]
          },
          "metadata": {
            "tags": []
          },
          "execution_count": 75
        }
      ]
    },
    {
      "cell_type": "code",
      "metadata": {
        "id": "M8Rjg2y4nu9W",
        "colab": {
          "base_uri": "https://localhost:8080/",
          "height": 51
        },
        "outputId": "5a405ad5-992a-43b4-d6f2-8ed0ebed352f"
      },
      "source": [
        "results.predict(X)"
      ],
      "execution_count": null,
      "outputs": [
        {
          "output_type": "execute_result",
          "data": {
            "text/plain": [
              "array([ 5.77760476,  8.012953  , 12.73867497, 17.9744479 , 23.97529728,\n",
              "       29.4660957 , 38.78227633, 41.27265006])"
            ]
          },
          "metadata": {
            "tags": []
          },
          "execution_count": 76
        }
      ]
    },
    {
      "cell_type": "code",
      "metadata": {
        "id": "eExW7RH_nvBK"
      },
      "source": [
        "X_new = sm.add_constant(np.arange(10).reshape((-1, 2)))"
      ],
      "execution_count": null,
      "outputs": []
    },
    {
      "cell_type": "code",
      "metadata": {
        "id": "i7B9LnrpnvK5",
        "colab": {
          "base_uri": "https://localhost:8080/",
          "height": 34
        },
        "outputId": "d948b12f-594a-4aba-a08c-f37748398e67"
      },
      "source": [
        "y_new = results.predict(X_new)\n",
        "y_new"
      ],
      "execution_count": null,
      "outputs": [
        {
          "output_type": "execute_result",
          "data": {
            "text/plain": [
              "array([ 5.77760476,  7.18179502,  8.58598528,  9.99017554, 11.3943658 ])"
            ]
          },
          "metadata": {
            "tags": []
          },
          "execution_count": 78
        }
      ]
    },
    {
      "cell_type": "markdown",
      "metadata": {
        "id": "C2-LW2lu3Sni"
      },
      "source": [
        "### Polynomial Regression (Sklearn)"
      ]
    },
    {
      "cell_type": "markdown",
      "metadata": {
        "id": "9V7E-DRx_cGF"
      },
      "source": [
        "Step 1: Import packages and classes"
      ]
    },
    {
      "cell_type": "markdown",
      "metadata": {
        "id": "uAp1aRUJ_gnJ"
      },
      "source": [
        "- In addition to numpy and sklearn.linear_model.LinearRegression, you should also import the class PolynomialFeatures from sklearn.preprocessing"
      ]
    },
    {
      "cell_type": "code",
      "metadata": {
        "id": "AZTeDv6n_T6n"
      },
      "source": [
        "import numpy as np\n",
        "from sklearn.linear_model import LinearRegression\n",
        "from sklearn.preprocessing import PolynomialFeatures"
      ],
      "execution_count": null,
      "outputs": []
    },
    {
      "cell_type": "markdown",
      "metadata": {
        "id": "6DZMsoPr_oF9"
      },
      "source": [
        "Step 2a: Provide data"
      ]
    },
    {
      "cell_type": "code",
      "metadata": {
        "id": "4Mre_nzT_osS"
      },
      "source": [
        "X = np.array([5, 15, 25, 35, 45, 55]).reshape((-1, 1))\n",
        "y = np.array([15, 11, 2, 8, 25, 32])"
      ],
      "execution_count": null,
      "outputs": []
    },
    {
      "cell_type": "markdown",
      "metadata": {
        "id": "4snm0fg6_tBJ"
      },
      "source": [
        "- Now you have the input and output in a suitable format. Keep in mind that you need the input to be a two-dimensional array. That’s why .reshape() is used."
      ]
    },
    {
      "cell_type": "markdown",
      "metadata": {
        "id": "3hffCm7h_xgq"
      },
      "source": [
        "Step 2b: Transform input data"
      ]
    },
    {
      "cell_type": "markdown",
      "metadata": {
        "id": "8Eqh07jb_4SE"
      },
      "source": [
        "This is the new step you need to implement for polynomial regression!\n",
        "\n",
        "- As you’ve seen earlier, you need to include 𝑥² (and perhaps other terms) as additional features when implementing polynomial regression. For that reason, you should transform the input array x to contain the additional column(s) with the values of 𝑥² (and eventually more features).\n",
        "\n",
        "- It’s possible to transform the input array in several ways (like using insert() from numpy), but the class PolynomialFeatures is very convenient for this purpose. Let’s create an instance of this class:\n",
        "\n",
        "[link text](https://scikit-learn.org/stable/modules/generated/sklearn.preprocessing.PolynomialFeatures.html)"
      ]
    },
    {
      "cell_type": "code",
      "metadata": {
        "id": "7hmMskPe_vOB"
      },
      "source": [
        "transformer = PolynomialFeatures(degree=2, include_bias=False)"
      ],
      "execution_count": null,
      "outputs": []
    },
    {
      "cell_type": "markdown",
      "metadata": {
        "id": "AIw3SDPRAKGh"
      },
      "source": [
        "The variable transformer refers to an instance of PolynomialFeatures which you can use to transform the input X.\n",
        "\n",
        "You can provide several optional parameters to PolynomialFeatures:\n",
        "\n",
        "- degree is an integer (2 by default) that represents the degree of the polynomial regression function.\n",
        "- interaction_only is a Boolean (False by default) that decides whether to include only interaction features (True) or all features (False).\n",
        "- include_bias is a Boolean (True by default) that decides whether to include the bias (intercept) column of ones (True) or not (False)."
      ]
    },
    {
      "cell_type": "markdown",
      "metadata": {
        "id": "h2DEuJIxBPqq"
      },
      "source": [
        "Before applying transformer, you need to fit it with .fit()"
      ]
    },
    {
      "cell_type": "code",
      "metadata": {
        "id": "f1PTrq8Y_9vC",
        "colab": {
          "base_uri": "https://localhost:8080/",
          "height": 51
        },
        "outputId": "bad88d5f-7107-40b2-d6bf-8b4cf033e799"
      },
      "source": [
        "transformer.fit(X)"
      ],
      "execution_count": null,
      "outputs": [
        {
          "output_type": "execute_result",
          "data": {
            "text/plain": [
              "PolynomialFeatures(degree=2, include_bias=False, interaction_only=False,\n",
              "                   order='C')"
            ]
          },
          "metadata": {
            "tags": []
          },
          "execution_count": 82
        }
      ]
    },
    {
      "cell_type": "markdown",
      "metadata": {
        "id": "IegOonBGBWja"
      },
      "source": [
        "Once transformer is fitted, it’s ready to create a new, modified input. You apply .transform() to do that:"
      ]
    },
    {
      "cell_type": "code",
      "metadata": {
        "id": "MX_EajdaBZ1j"
      },
      "source": [
        "X_ = PolynomialFeatures(degree=2, include_bias=False).fit_transform(X)"
      ],
      "execution_count": null,
      "outputs": []
    },
    {
      "cell_type": "markdown",
      "metadata": {
        "id": "JCa1XNMSBgx_"
      },
      "source": [
        "That’s fitting and transforming the input array in one statement with .fit_transform(). It also takes the input array and effectively does the same thing as .fit() and .transform() called in that order. It also returns the modified array. This is how the new input array looks:"
      ]
    },
    {
      "cell_type": "code",
      "metadata": {
        "id": "FonA8TOoBmPh",
        "colab": {
          "base_uri": "https://localhost:8080/",
          "height": 119
        },
        "outputId": "c580d35b-adc1-416c-bd49-8145de1fcf3b"
      },
      "source": [
        "X"
      ],
      "execution_count": null,
      "outputs": [
        {
          "output_type": "execute_result",
          "data": {
            "text/plain": [
              "array([[ 5],\n",
              "       [15],\n",
              "       [25],\n",
              "       [35],\n",
              "       [45],\n",
              "       [55]])"
            ]
          },
          "metadata": {
            "tags": []
          },
          "execution_count": 84
        }
      ]
    },
    {
      "cell_type": "code",
      "metadata": {
        "id": "8PADJtrkBi-5",
        "colab": {
          "base_uri": "https://localhost:8080/",
          "height": 119
        },
        "outputId": "908ffe6e-f38d-4078-953a-433777ad2965"
      },
      "source": [
        "X_"
      ],
      "execution_count": null,
      "outputs": [
        {
          "output_type": "execute_result",
          "data": {
            "text/plain": [
              "array([[   5.,   25.],\n",
              "       [  15.,  225.],\n",
              "       [  25.,  625.],\n",
              "       [  35., 1225.],\n",
              "       [  45., 2025.],\n",
              "       [  55., 3025.]])"
            ]
          },
          "metadata": {
            "tags": []
          },
          "execution_count": 85
        }
      ]
    },
    {
      "cell_type": "markdown",
      "metadata": {
        "id": "8inSP10rBsry"
      },
      "source": [
        "The modified input array contains two columns: one with the original inputs and the other with their squares."
      ]
    },
    {
      "cell_type": "markdown",
      "metadata": {
        "id": "6OlwPt0wBtV-"
      },
      "source": [
        "Step 3: Create a model and fit it"
      ]
    },
    {
      "cell_type": "markdown",
      "metadata": {
        "id": "LqJ6BpBrByYo"
      },
      "source": [
        "This step is also the same as in the case of linear regression. You create and fit the model:"
      ]
    },
    {
      "cell_type": "code",
      "metadata": {
        "id": "WPK13YQ1BkW8"
      },
      "source": [
        "model = LinearRegression().fit(X_, y)"
      ],
      "execution_count": null,
      "outputs": []
    },
    {
      "cell_type": "markdown",
      "metadata": {
        "id": "SktxF5PgB5Bh"
      },
      "source": [
        "The regression model is now created and fitted. It’s ready for application.\n",
        "\n",
        "You should keep in mind that the first argument of .fit() is the modified input array x_ and not the original x."
      ]
    },
    {
      "cell_type": "markdown",
      "metadata": {
        "id": "ALG-b8niB8Bp"
      },
      "source": [
        "Step 4: Get results"
      ]
    },
    {
      "cell_type": "code",
      "metadata": {
        "id": "3lc2Dt6MB7eJ",
        "colab": {
          "base_uri": "https://localhost:8080/",
          "height": 68
        },
        "outputId": "26ef3446-377f-4562-c43f-2cd64c86c82d"
      },
      "source": [
        "R_sq = model.score(X_, y)\n",
        "print('coefficient of determination:', R_sq)\n",
        "\n",
        "print('intercept:', model.intercept_)\n",
        "\n",
        "print('coefficients:', model.coef_)"
      ],
      "execution_count": null,
      "outputs": [
        {
          "output_type": "stream",
          "text": [
            "coefficient of determination: 0.8908516262498564\n",
            "intercept: 21.37232142857144\n",
            "coefficients: [-1.32357143  0.02839286]\n"
          ],
          "name": "stdout"
        }
      ]
    },
    {
      "cell_type": "markdown",
      "metadata": {
        "id": "JmahjnUaCIDS"
      },
      "source": [
        "Again, .score() returns 𝑅². Its first argument is also the modified input X_, not x. The values of the weights are associated to .intercept_ and .coef_: .intercept_ represents 𝑏₀, while .coef_ references the array that contains 𝑏₁ and 𝑏₂ respectively.\n",
        "\n",
        "You can obtain a very similar result with different transformation and regression arguments:"
      ]
    },
    {
      "cell_type": "code",
      "metadata": {
        "id": "8g-gZdngB1TU"
      },
      "source": [
        "X_ = PolynomialFeatures(degree=2, include_bias=True).fit_transform(X)"
      ],
      "execution_count": null,
      "outputs": []
    },
    {
      "cell_type": "markdown",
      "metadata": {
        "id": "CAxzpGMxCSkt"
      },
      "source": [
        "If you call PolynomialFeatures with the default parameter include_bias=True (or if you just omit it), you’ll obtain the new input array X_ with the additional leftmost column containing only ones. This column corresponds to the intercept. This is how the modified input array looks in this case:"
      ]
    },
    {
      "cell_type": "code",
      "metadata": {
        "id": "lCCjJ6TkCMYt",
        "colab": {
          "base_uri": "https://localhost:8080/",
          "height": 119
        },
        "outputId": "2e9083a4-c15e-434b-fde5-32f2bd923237"
      },
      "source": [
        "X_"
      ],
      "execution_count": null,
      "outputs": [
        {
          "output_type": "execute_result",
          "data": {
            "text/plain": [
              "array([[1.000e+00, 5.000e+00, 2.500e+01],\n",
              "       [1.000e+00, 1.500e+01, 2.250e+02],\n",
              "       [1.000e+00, 2.500e+01, 6.250e+02],\n",
              "       [1.000e+00, 3.500e+01, 1.225e+03],\n",
              "       [1.000e+00, 4.500e+01, 2.025e+03],\n",
              "       [1.000e+00, 5.500e+01, 3.025e+03]])"
            ]
          },
          "metadata": {
            "tags": []
          },
          "execution_count": 89
        }
      ]
    },
    {
      "cell_type": "markdown",
      "metadata": {
        "id": "ObvS0mzDCem-"
      },
      "source": [
        "The first column of X_ contains ones, the second has the values of x, while the third holds the squares of x.\n",
        "\n",
        "The intercept is already included with the leftmost column of ones, and you don’t need to include it again when creating the instance of LinearRegression. Thus, you can provide fit_intercept=False. This is how the next statement looks:"
      ]
    },
    {
      "cell_type": "code",
      "metadata": {
        "id": "M8U83OtvCYVA"
      },
      "source": [
        "model = LinearRegression(fit_intercept=False).fit(X_, y)"
      ],
      "execution_count": null,
      "outputs": []
    },
    {
      "cell_type": "code",
      "metadata": {
        "id": "zuXBhuhhCidA",
        "colab": {
          "base_uri": "https://localhost:8080/",
          "height": 68
        },
        "outputId": "5f839a0e-f857-4f63-8d83-bfc82fff4dd3"
      },
      "source": [
        "R_sq = model.score(X_, y)\n",
        "print('coefficient of determination:', R_sq)\n",
        "\n",
        "print('intercept:', model.intercept_)\n",
        "\n",
        "print('coefficients:', model.coef_)"
      ],
      "execution_count": null,
      "outputs": [
        {
          "output_type": "stream",
          "text": [
            "coefficient of determination: 0.8908516262498564\n",
            "intercept: 0.0\n",
            "coefficients: [21.37232143 -1.32357143  0.02839286]\n"
          ],
          "name": "stdout"
        }
      ]
    },
    {
      "cell_type": "markdown",
      "metadata": {
        "id": "C2Vo7pFUYmzx"
      },
      "source": [
        "You see that now .intercept_ is zero, but .coef_ actually contains 𝑏₀ as its first element. Everything else is the same."
      ]
    },
    {
      "cell_type": "markdown",
      "metadata": {
        "id": "7x92Q8g8YpvE"
      },
      "source": [
        "Step 5: Predict response"
      ]
    },
    {
      "cell_type": "markdown",
      "metadata": {
        "id": "S11DkhUfYwDf"
      },
      "source": [
        " you want to get the predicted response, just use .predict(), but remember that the argument should be the modified input X_ instead of the old X:"
      ]
    },
    {
      "cell_type": "code",
      "metadata": {
        "id": "wRHsJEKICoDk",
        "colab": {
          "base_uri": "https://localhost:8080/",
          "height": 51
        },
        "outputId": "0ba499ca-bdc1-4d30-c8e6-023625f66d0c"
      },
      "source": [
        "y_pred = model.predict(X_)\n",
        "print('predicted response:', y_pred, sep='\\n')"
      ],
      "execution_count": null,
      "outputs": [
        {
          "output_type": "stream",
          "text": [
            "predicted response:\n",
            "[15.46428571  7.90714286  6.02857143  9.82857143 19.30714286 34.46428571]\n"
          ],
          "name": "stdout"
        }
      ]
    },
    {
      "cell_type": "markdown",
      "metadata": {
        "id": "Fw1RL7QvZG-w"
      },
      "source": [
        "Summary"
      ]
    },
    {
      "cell_type": "code",
      "metadata": {
        "id": "Ylf6w14AY2Qh"
      },
      "source": [
        "# Step 1: Import packages\n",
        "import numpy as np\n",
        "from sklearn.linear_model import LinearRegression\n",
        "from sklearn.preprocessing import PolynomialFeatures"
      ],
      "execution_count": null,
      "outputs": []
    },
    {
      "cell_type": "code",
      "metadata": {
        "id": "TBzcLYhKs1p6"
      },
      "source": [
        "# Step 2a: Provide data\n",
        "X = [[0, 1], [5, 1], [15, 2], [25, 5], [35, 11], [45, 15], [55, 34], [60, 35]]\n",
        "y = [4, 5, 20, 14, 32, 22, 38, 43]\n",
        "X, y = np.array(X), np.array(y)"
      ],
      "execution_count": null,
      "outputs": []
    },
    {
      "cell_type": "code",
      "metadata": {
        "id": "sU-HRccosr7R"
      },
      "source": [
        "# Step 2b: Transform input data\n",
        "X_ = PolynomialFeatures(degree=2, include_bias=False).fit_transform(X)"
      ],
      "execution_count": null,
      "outputs": []
    },
    {
      "cell_type": "code",
      "metadata": {
        "id": "aA5xXi1Asr_L"
      },
      "source": [
        "# Step 3: Create a model and fit it\n",
        "model = LinearRegression().fit(X_, y)"
      ],
      "execution_count": null,
      "outputs": []
    },
    {
      "cell_type": "code",
      "metadata": {
        "id": "X2UqiintssDM"
      },
      "source": [
        "# Step 4: Get results\n",
        "R_sq = model.score(X_, y)\n",
        "intercept, coefficients = model.intercept_, model.coef_"
      ],
      "execution_count": null,
      "outputs": []
    },
    {
      "cell_type": "code",
      "metadata": {
        "id": "KjQ9h3zSssKI",
        "colab": {
          "base_uri": "https://localhost:8080/",
          "height": 136
        },
        "outputId": "f3252464-70f0-416e-de17-597e286009b2"
      },
      "source": [
        "# Step 5: Predict\n",
        "y_pred = model.predict(X_)\n",
        "\n",
        "print('coefficient of determination:', R_sq)\n",
        "\n",
        "print('intercept:', intercept)\n",
        "\n",
        "print('coefficients:', coefficients, sep='\\n')\n",
        "\n",
        "\n",
        "print('predicted response:', y_pred, sep='\\n')"
      ],
      "execution_count": null,
      "outputs": [
        {
          "output_type": "stream",
          "text": [
            "coefficient of determination: 0.9453701449127822\n",
            "intercept: 0.8430556452395876\n",
            "coefficients:\n",
            "[ 2.44828275  0.16160353 -0.15259677  0.47928683 -0.4641851 ]\n",
            "predicted response:\n",
            "[ 0.54047408 11.36340283 16.07809622 15.79139    29.73858619 23.50834636\n",
            " 39.05631386 41.92339046]\n"
          ],
          "name": "stdout"
        }
      ]
    },
    {
      "cell_type": "markdown",
      "metadata": {
        "id": "HuMOo_ExZksj"
      },
      "source": [
        "In this case, there are six regression coefficients (including the intercept), as shown in the estimated regression function **𝑓(𝑥₁, 𝑥₂) = 𝑏₀ + 𝑏₁𝑥₁ + 𝑏₂𝑥₂ + 𝑏₃𝑥₁² + 𝑏₄𝑥₁𝑥₂ + 𝑏₅𝑥₂².**\n",
        "\n",
        "You can also notice that polynomial regression yielded a higher coefficient of determination than multiple linear regression for the same problem. At first, you could think that obtaining such a large 𝑅² is an excellent result. It might be.\n",
        "\n",
        "However, in real-world situations, having a complex model and 𝑅² very close to 1 might also be a sign of overfitting. To check the performance of a model, you should test it with new data, that is with observations not used to fit (train) the model."
      ]
    },
    {
      "cell_type": "markdown",
      "metadata": {
        "id": "70x8pCWVoWEz"
      },
      "source": [
        "### Polynomial Regression"
      ]
    },
    {
      "cell_type": "markdown",
      "metadata": {
        "id": "YtQqxufE25xT"
      },
      "source": [
        "- Implementing polynomial regression with scikit-learn is very similar to linear regression. There is only one extra step: you need to transform the array of inputs to include non-linear terms such as 𝑥².\n",
        "\n",
        "[Wiki](https://en.wikipedia.org/wiki/Polynomial_regression)"
      ]
    },
    {
      "cell_type": "code",
      "metadata": {
        "id": "acHeOfp-oZ0M"
      },
      "source": [
        "import numpy as np\n",
        "from sklearn.linear_model import LinearRegression\n",
        "from sklearn.preprocessing import PolynomialFeatures"
      ],
      "execution_count": null,
      "outputs": []
    },
    {
      "cell_type": "code",
      "metadata": {
        "id": "zGCNYFesoZ9M"
      },
      "source": [
        "X = np.arange(20).reshape(-1, 2)"
      ],
      "execution_count": null,
      "outputs": []
    },
    {
      "cell_type": "code",
      "metadata": {
        "id": "V1aXHEsHrIAm"
      },
      "source": [
        "y = np.arange(10)"
      ],
      "execution_count": null,
      "outputs": []
    },
    {
      "cell_type": "code",
      "metadata": {
        "id": "1XbdCmWLpXTc",
        "colab": {
          "base_uri": "https://localhost:8080/",
          "height": 51
        },
        "outputId": "2c86044e-3a82-47a2-ee55-4238d8dbb0b2"
      },
      "source": [
        "poly_interaction = PolynomialFeatures(2)\n",
        "poly_interaction"
      ],
      "execution_count": null,
      "outputs": [
        {
          "output_type": "execute_result",
          "data": {
            "text/plain": [
              "PolynomialFeatures(degree=2, include_bias=True, interaction_only=False,\n",
              "                   order='C')"
            ]
          },
          "metadata": {
            "tags": []
          },
          "execution_count": 102
        }
      ]
    },
    {
      "cell_type": "code",
      "metadata": {
        "id": "jAODu-FhoaBv",
        "colab": {
          "base_uri": "https://localhost:8080/",
          "height": 187
        },
        "outputId": "c3b879ab-4dae-418a-991f-6dc48c05ca02"
      },
      "source": [
        "X_int = poly_interaction.fit_transform(X)\n",
        "X_int"
      ],
      "execution_count": null,
      "outputs": [
        {
          "output_type": "execute_result",
          "data": {
            "text/plain": [
              "array([[  1.,   0.,   1.,   0.,   0.,   1.],\n",
              "       [  1.,   2.,   3.,   4.,   6.,   9.],\n",
              "       [  1.,   4.,   5.,  16.,  20.,  25.],\n",
              "       [  1.,   6.,   7.,  36.,  42.,  49.],\n",
              "       [  1.,   8.,   9.,  64.,  72.,  81.],\n",
              "       [  1.,  10.,  11., 100., 110., 121.],\n",
              "       [  1.,  12.,  13., 144., 156., 169.],\n",
              "       [  1.,  14.,  15., 196., 210., 225.],\n",
              "       [  1.,  16.,  17., 256., 272., 289.],\n",
              "       [  1.,  18.,  19., 324., 342., 361.]])"
            ]
          },
          "metadata": {
            "tags": []
          },
          "execution_count": 103
        }
      ]
    },
    {
      "cell_type": "code",
      "metadata": {
        "id": "zkeoIiZaoaG9",
        "colab": {
          "base_uri": "https://localhost:8080/",
          "height": 51
        },
        "outputId": "76c7fa52-a88e-480e-9db1-860f6df70680"
      },
      "source": [
        "poly_nointeraction = PolynomialFeatures(interaction_only=True)\n",
        "poly_nointeraction"
      ],
      "execution_count": null,
      "outputs": [
        {
          "output_type": "execute_result",
          "data": {
            "text/plain": [
              "PolynomialFeatures(degree=2, include_bias=True, interaction_only=True,\n",
              "                   order='C')"
            ]
          },
          "metadata": {
            "tags": []
          },
          "execution_count": 104
        }
      ]
    },
    {
      "cell_type": "code",
      "metadata": {
        "id": "NN70z-FNphzp"
      },
      "source": [
        "X_noint = poly_nointeraction.fit_transform(X)"
      ],
      "execution_count": null,
      "outputs": []
    },
    {
      "cell_type": "code",
      "metadata": {
        "id": "jRDDpi-2qTxM"
      },
      "source": [
        "polymodel = LinearRegression()"
      ],
      "execution_count": null,
      "outputs": []
    },
    {
      "cell_type": "code",
      "metadata": {
        "id": "as2jyw35qT05",
        "colab": {
          "base_uri": "https://localhost:8080/",
          "height": 34
        },
        "outputId": "eed6eaab-dc84-46e7-e2af-382b7bd4e863"
      },
      "source": [
        "modelint = polymodel.fit(X_int,y)\n",
        "modelint"
      ],
      "execution_count": null,
      "outputs": [
        {
          "output_type": "execute_result",
          "data": {
            "text/plain": [
              "LinearRegression(copy_X=True, fit_intercept=True, n_jobs=None, normalize=False)"
            ]
          },
          "metadata": {
            "tags": []
          },
          "execution_count": 107
        }
      ]
    },
    {
      "cell_type": "code",
      "metadata": {
        "id": "8-WH-qveqT40",
        "colab": {
          "base_uri": "https://localhost:8080/",
          "height": 34
        },
        "outputId": "afe9928e-2d2f-47e9-ca90-a770f2561957"
      },
      "source": [
        "modelnoint = polymodel.fit(X_noint, y)\n",
        "modelnoint"
      ],
      "execution_count": null,
      "outputs": [
        {
          "output_type": "execute_result",
          "data": {
            "text/plain": [
              "LinearRegression(copy_X=True, fit_intercept=True, n_jobs=None, normalize=False)"
            ]
          },
          "metadata": {
            "tags": []
          },
          "execution_count": 108
        }
      ]
    },
    {
      "cell_type": "markdown",
      "metadata": {
        "id": "D-orgkqfQS4z"
      },
      "source": [
        "# Ridge Regression"
      ]
    },
    {
      "cell_type": "markdown",
      "metadata": {
        "id": "LUiYbTRe3yYG"
      },
      "source": [
        "Ridge regression addresses some of the problems of Ordinary Least Squares by imposing a penalty on the size of the coefficients. The ridge coefficients minimize a penalized residual sum of squares:\n",
        "\n",
        "min_{w} || X w - y||^2 + alpha ||w||^2\n",
        " \n",
        "The complexity parameter  controls the amount of shrinkage: the larger the value of , the greater the amount of shrinkage and thus the coefficients become more robust to collinearity.\n",
        "\n",
        "[Tikhonov regularization](https://en.wikipedia.org/wiki/Tikhonov_regularization)"
      ]
    },
    {
      "cell_type": "code",
      "metadata": {
        "id": "LD4J3j-Rtuwk"
      },
      "source": [
        "from sklearn import linear_model"
      ],
      "execution_count": null,
      "outputs": []
    },
    {
      "cell_type": "code",
      "metadata": {
        "id": "Qj1d9SNytu7B"
      },
      "source": [
        "ridge = linear_model.Ridge()"
      ],
      "execution_count": null,
      "outputs": []
    },
    {
      "cell_type": "code",
      "metadata": {
        "id": "4ZUp-FcftvB1",
        "colab": {
          "base_uri": "https://localhost:8080/",
          "height": 51
        },
        "outputId": "948fe492-31df-41ef-d047-8ff5bb11cfe2"
      },
      "source": [
        "ridge = linear_model.Ridge(alpha=.5)\n",
        "ridge"
      ],
      "execution_count": null,
      "outputs": [
        {
          "output_type": "execute_result",
          "data": {
            "text/plain": [
              "Ridge(alpha=0.5, copy_X=True, fit_intercept=True, max_iter=None,\n",
              "      normalize=False, random_state=None, solver='auto', tol=0.001)"
            ]
          },
          "metadata": {
            "tags": []
          },
          "execution_count": 111
        }
      ]
    },
    {
      "cell_type": "code",
      "metadata": {
        "id": "Ht4acARYt72Q",
        "colab": {
          "base_uri": "https://localhost:8080/",
          "height": 51
        },
        "outputId": "8f82eba1-6799-4495-bf00-9728f9a2d1c3"
      },
      "source": [
        "ridge.fit([[0, 0], [0, 0], [1, 1]], [0, .1, 1])"
      ],
      "execution_count": null,
      "outputs": [
        {
          "output_type": "execute_result",
          "data": {
            "text/plain": [
              "Ridge(alpha=0.5, copy_X=True, fit_intercept=True, max_iter=None,\n",
              "      normalize=False, random_state=None, solver='auto', tol=0.001)"
            ]
          },
          "metadata": {
            "tags": []
          },
          "execution_count": 112
        }
      ]
    },
    {
      "cell_type": "code",
      "metadata": {
        "id": "dcCEwsKFt750",
        "colab": {
          "base_uri": "https://localhost:8080/",
          "height": 34
        },
        "outputId": "4ca5426a-54b5-4462-dcd2-6efc000db5df"
      },
      "source": [
        "ridge.coef_"
      ],
      "execution_count": null,
      "outputs": [
        {
          "output_type": "execute_result",
          "data": {
            "text/plain": [
              "array([0.34545455, 0.34545455])"
            ]
          },
          "metadata": {
            "tags": []
          },
          "execution_count": 113
        }
      ]
    },
    {
      "cell_type": "code",
      "metadata": {
        "id": "jP6dpaG0t781",
        "colab": {
          "base_uri": "https://localhost:8080/",
          "height": 34
        },
        "outputId": "1df9fd4d-21ff-40ff-fc62-6da0b0f85bd9"
      },
      "source": [
        "ridge.intercept_"
      ],
      "execution_count": null,
      "outputs": [
        {
          "output_type": "execute_result",
          "data": {
            "text/plain": [
              "0.13636363636363638"
            ]
          },
          "metadata": {
            "tags": []
          },
          "execution_count": 114
        }
      ]
    },
    {
      "cell_type": "code",
      "metadata": {
        "id": "0GaZfJiauQPg",
        "colab": {
          "base_uri": "https://localhost:8080/",
          "height": 105
        },
        "outputId": "c1e4da94-d734-463c-c91b-77912f44023e"
      },
      "source": [
        "ridge1 = linear_model.RidgeCV(alphas=np.logspace(-6, 6, 13))\n",
        "ridge1"
      ],
      "execution_count": null,
      "outputs": [
        {
          "output_type": "execute_result",
          "data": {
            "text/plain": [
              "RidgeCV(alphas=array([1.e-06, 1.e-05, 1.e-04, 1.e-03, 1.e-02, 1.e-01, 1.e+00, 1.e+01,\n",
              "       1.e+02, 1.e+03, 1.e+04, 1.e+05, 1.e+06]),\n",
              "        cv=None, fit_intercept=True, gcv_mode=None, normalize=False,\n",
              "        scoring=None, store_cv_values=False)"
            ]
          },
          "metadata": {
            "tags": []
          },
          "execution_count": 115
        }
      ]
    },
    {
      "cell_type": "code",
      "metadata": {
        "id": "msGqwyuaurJu",
        "colab": {
          "base_uri": "https://localhost:8080/",
          "height": 105
        },
        "outputId": "d0d809f4-05f8-47c7-d5ee-b0fcc5fbf958"
      },
      "source": [
        "ridge1.fit([[0, 0], [0, 0], [1, 1]], [0, .1, 1])"
      ],
      "execution_count": null,
      "outputs": [
        {
          "output_type": "execute_result",
          "data": {
            "text/plain": [
              "RidgeCV(alphas=array([1.e-06, 1.e-05, 1.e-04, 1.e-03, 1.e-02, 1.e-01, 1.e+00, 1.e+01,\n",
              "       1.e+02, 1.e+03, 1.e+04, 1.e+05, 1.e+06]),\n",
              "        cv=None, fit_intercept=True, gcv_mode=None, normalize=False,\n",
              "        scoring=None, store_cv_values=False)"
            ]
          },
          "metadata": {
            "tags": []
          },
          "execution_count": 116
        }
      ]
    },
    {
      "cell_type": "code",
      "metadata": {
        "id": "AAfJstrPuyju",
        "colab": {
          "base_uri": "https://localhost:8080/",
          "height": 34
        },
        "outputId": "595c835d-c74b-4108-b904-b7e87a788864"
      },
      "source": [
        "ridge1.alpha_"
      ],
      "execution_count": null,
      "outputs": [
        {
          "output_type": "execute_result",
          "data": {
            "text/plain": [
              "0.01"
            ]
          },
          "metadata": {
            "tags": []
          },
          "execution_count": 117
        }
      ]
    },
    {
      "cell_type": "code",
      "metadata": {
        "id": "_Qjr2s3auyqa",
        "colab": {
          "base_uri": "https://localhost:8080/",
          "height": 34
        },
        "outputId": "635398d3-80ee-4208-dd19-84f92cf153b2"
      },
      "source": [
        "ridge1.intercept_"
      ],
      "execution_count": null,
      "outputs": [
        {
          "output_type": "execute_result",
          "data": {
            "text/plain": [
              "0.052357320099234994"
            ]
          },
          "metadata": {
            "tags": []
          },
          "execution_count": 118
        }
      ]
    },
    {
      "cell_type": "code",
      "metadata": {
        "id": "dxrKeEFpu6Ht",
        "colab": {
          "base_uri": "https://localhost:8080/",
          "height": 34
        },
        "outputId": "fcbd14c8-0c67-4f93-d1b6-8b8b29c05b5d"
      },
      "source": [
        "ridge1.coef_"
      ],
      "execution_count": null,
      "outputs": [
        {
          "output_type": "execute_result",
          "data": {
            "text/plain": [
              "array([0.47146402, 0.47146402])"
            ]
          },
          "metadata": {
            "tags": []
          },
          "execution_count": 119
        }
      ]
    },
    {
      "cell_type": "markdown",
      "metadata": {
        "id": "vPIVzJZ3QYJA"
      },
      "source": [
        "# LASSO Regression"
      ]
    },
    {
      "cell_type": "markdown",
      "metadata": {
        "id": "gHLHvFQX321q"
      },
      "source": [
        "The Lasso is a linear model that estimates sparse coefficients. It is useful in some contexts due to its tendency to prefer solutions with fewer non-zero coefficients, effectively reducing the number of features upon which the given solution is dependent. For this reason Lasso and its variants are fundamental to the field of compressed sensing. Under certain conditions, it can recover the exact set of non-zero coefficients "
      ]
    },
    {
      "cell_type": "code",
      "metadata": {
        "id": "0bTWrzQAuKZ1"
      },
      "source": [
        "from sklearn import linear_model"
      ],
      "execution_count": null,
      "outputs": []
    },
    {
      "cell_type": "code",
      "metadata": {
        "id": "um4C5F4cuKdP"
      },
      "source": [
        "reg = linear_model.Lasso(alpha=0.1)"
      ],
      "execution_count": null,
      "outputs": []
    },
    {
      "cell_type": "code",
      "metadata": {
        "id": "DiRt3LHsuKjE",
        "colab": {
          "base_uri": "https://localhost:8080/",
          "height": 68
        },
        "outputId": "9783ceb8-673f-4244-da55-21ba9f75ff80"
      },
      "source": [
        "reg.fit([[0, 0], [1, 1]], [0, 1])"
      ],
      "execution_count": null,
      "outputs": [
        {
          "output_type": "execute_result",
          "data": {
            "text/plain": [
              "Lasso(alpha=0.1, copy_X=True, fit_intercept=True, max_iter=1000,\n",
              "      normalize=False, positive=False, precompute=False, random_state=None,\n",
              "      selection='cyclic', tol=0.0001, warm_start=False)"
            ]
          },
          "metadata": {
            "tags": []
          },
          "execution_count": 122
        }
      ]
    },
    {
      "cell_type": "code",
      "metadata": {
        "id": "g1MMSj8vw2Tn"
      },
      "source": [
        "from sklearn.linear_model import LassoCV\n",
        "from sklearn.datasets import make_regression\n",
        "X, y = make_regression(noise=4, random_state=0) # Generate a random regression problem.\n",
        "regl = LassoCV(cv=5, random_state=0).fit(X, y)"
      ],
      "execution_count": null,
      "outputs": []
    },
    {
      "cell_type": "code",
      "metadata": {
        "id": "WQFPu9ZCxV24",
        "colab": {
          "base_uri": "https://localhost:8080/",
          "height": 34
        },
        "outputId": "c70eb4e8-5892-4ca1-881e-41909ee72a45"
      },
      "source": [
        "regl.alpha_"
      ],
      "execution_count": null,
      "outputs": [
        {
          "output_type": "execute_result",
          "data": {
            "text/plain": [
              "0.39641795520113104"
            ]
          },
          "metadata": {
            "tags": []
          },
          "execution_count": 124
        }
      ]
    },
    {
      "cell_type": "code",
      "metadata": {
        "id": "np6jQTS7w-qn",
        "colab": {
          "base_uri": "https://localhost:8080/",
          "height": 34
        },
        "outputId": "5a96ec6a-563b-4cc8-b88f-89ea0ce618d0"
      },
      "source": [
        "regl.score(X, y)"
      ],
      "execution_count": null,
      "outputs": [
        {
          "output_type": "execute_result",
          "data": {
            "text/plain": [
              "0.9993566905623871"
            ]
          },
          "metadata": {
            "tags": []
          },
          "execution_count": 125
        }
      ]
    },
    {
      "cell_type": "code",
      "metadata": {
        "id": "AN7T1vSjw-2q",
        "colab": {
          "base_uri": "https://localhost:8080/",
          "height": 34
        },
        "outputId": "7f955eca-0a49-4120-bc2e-96ce77b7bae1"
      },
      "source": [
        "regl.predict(X[:1,])"
      ],
      "execution_count": null,
      "outputs": [
        {
          "output_type": "execute_result",
          "data": {
            "text/plain": [
              "array([-78.49519808])"
            ]
          },
          "metadata": {
            "tags": []
          },
          "execution_count": 126
        }
      ]
    },
    {
      "cell_type": "markdown",
      "metadata": {
        "id": "7EuFb9idQYys"
      },
      "source": [
        "# ElasticNet Regression"
      ]
    },
    {
      "cell_type": "markdown",
      "metadata": {
        "id": "dEpI7us136Dx"
      },
      "source": [
        "ElasticNet is a linear regression model trained with both \n",
        " and norm regularization of the coefficients. This combination allows for learning a sparse model where few of the weights are non-zero like Lasso, while still maintaining the regularization properties of Ridge. We control the convex combination of and using the l1_ratio parameter.\n",
        "\n",
        " Elastic-net is useful when there are multiple features which are correlated with one another. Lasso is likely to pick one of these at random, while elastic-net is likely to pick both.\n",
        "\n",
        "A practical advantage of trading-off between Lasso and Ridge is that it allows Elastic-Net to inherit some of Ridge’s stability under rotation."
      ]
    },
    {
      "cell_type": "code",
      "metadata": {
        "id": "8Vh7i01a0wFX"
      },
      "source": [
        "from sklearn.linear_model import ElasticNet\n",
        "from sklearn.datasets import make_regression"
      ],
      "execution_count": null,
      "outputs": []
    },
    {
      "cell_type": "code",
      "metadata": {
        "id": "XMHBX93a0wOT",
        "colab": {
          "base_uri": "https://localhost:8080/",
          "height": 68
        },
        "outputId": "b6a269d4-9b8c-42b6-9566-214efafa410d"
      },
      "source": [
        "X, y = make_regression(n_features=2, noise = 4, random_state=0)\n",
        "regr = ElasticNet(random_state=0)\n",
        "regr.fit(X, y)\n",
        "\n",
        "print(regr.coef_)\n",
        "\n",
        "print(regr.intercept_)\n",
        "\n",
        "print(regr.predict([[0, 0]]))"
      ],
      "execution_count": null,
      "outputs": [
        {
          "output_type": "stream",
          "text": [
            "[18.69025284 64.8595966 ]\n",
            "1.2357369852358757\n",
            "[1.23573699]\n"
          ],
          "name": "stdout"
        }
      ]
    },
    {
      "cell_type": "code",
      "metadata": {
        "id": "bmo2ZsOz13s0"
      },
      "source": [
        "from sklearn.linear_model import ElasticNetCV\n",
        "from sklearn.datasets import make_regression"
      ],
      "execution_count": null,
      "outputs": []
    },
    {
      "cell_type": "code",
      "metadata": {
        "id": "imoNkjyl0wS2",
        "colab": {
          "base_uri": "https://localhost:8080/",
          "height": 68
        },
        "outputId": "67e0c929-4d09-46f8-9c35-78dfb1e89669"
      },
      "source": [
        "X, y = make_regression(n_features=2, random_state=0)\n",
        "regr = ElasticNetCV(cv=5, random_state=0)\n",
        "regr.fit(X, y)\n",
        "\n",
        "print(regr.alpha_)\n",
        "\n",
        "print(regr.intercept_)\n",
        "\n",
        "print(regr.predict([[0, 0]]))"
      ],
      "execution_count": null,
      "outputs": [
        {
          "output_type": "stream",
          "text": [
            "0.1994727942696716\n",
            "0.3988829654276791\n",
            "[0.39888297]\n"
          ],
          "name": "stdout"
        }
      ]
    },
    {
      "cell_type": "markdown",
      "metadata": {
        "id": "FqEtlly5y8ab"
      },
      "source": [
        "**sklearn.linear_model: Linear Models**\n",
        "\n",
        "The sklearn.linear_model module implements a variety of linear models.\n",
        "\n",
        "\n",
        "**Classical linear regressors**\n",
        "    linear_model.LinearRegression(*[, …])\n",
        "\n",
        "Ordinary least squares Linear Regression.\n",
        "\n",
        "    linear_model.Ridge([alpha, fit_intercept, …])\n",
        "\n",
        "Linear least squares with l2 regularization.\n",
        "\n",
        "    linear_model.RidgeCV([alphas, …])\n",
        "\n",
        "Ridge regression with built-in cross-validation.\n",
        "\n",
        "    linear_model.SGDRegressor([loss, penalty, …])\n",
        "\n",
        "Linear model fitted by minimizing a regularized empirical loss with SGD\n",
        "\n",
        "**Regressors with variable selection**\n",
        "\n",
        "The following estimators have built-in variable selection fitting procedures, but any estimator using a L1 or elastic-net penalty also performs variable selection: typically SGDRegressor or SGDClassifier with an appropriate penalty.\n",
        "\n",
        "    linear_model.ElasticNet([alpha, l1_ratio, …])\n",
        "\n",
        "Linear regression with combined L1 and L2 priors as regularizer.\n",
        "\n",
        "    linear_model.ElasticNetCV(*[, l1_ratio, …])\n",
        "\n",
        "Elastic Net model with iterative fitting along a regularization path.\n",
        "\n",
        "    linear_model.Lars(*[, fit_intercept, …])\n",
        "\n",
        "Least Angle Regression model a.k.a.\n",
        "\n",
        "    linear_model.LarsCV(*[, fit_intercept, …])\n",
        "\n",
        "Cross-validated Least Angle Regression model.\n",
        "\n",
        "    linear_model.Lasso([alpha, fit_intercept, …])\n",
        "\n",
        "Linear Model trained with L1 prior as regularizer (aka the Lasso)\n",
        "\n",
        "    linear_model.LassoCV(*[, eps, n_alphas, …])\n",
        "\n",
        "Lasso linear model with iterative fitting along a regularization path.\n",
        "\n",
        "    linear_model.LassoLars([alpha, …])\n",
        "\n",
        "Lasso model fit with Least Angle Regression a.k.a.\n",
        "\n",
        "    linear_model.LassoLarsCV(*[, fit_intercept, …])\n",
        "\n",
        "Cross-validated Lasso, using the LARS algorithm.\n",
        "\n",
        "    linear_model.LassoLarsIC([criterion, …])\n",
        "\n",
        "Lasso model fit with Lars using BIC or AIC for model selection\n",
        "\n",
        "    linear_model.OrthogonalMatchingPursuit(*[, …])\n",
        "\n",
        "Orthogonal Matching Pursuit model (OMP)\n",
        "\n",
        "    linear_model.OrthogonalMatchingPursuitCV(*)\n",
        "\n",
        "Cross-validated Orthogonal Matching Pursuit model (OMP).\n"
      ]
    },
    {
      "cell_type": "markdown",
      "metadata": {
        "id": "3zYkLOnb3zJX"
      },
      "source": [
        "## R"
      ]
    },
    {
      "cell_type": "markdown",
      "metadata": {
        "id": "9gn9vIIw3zJZ"
      },
      "source": [
        "### Import Libraries"
      ]
    },
    {
      "cell_type": "code",
      "metadata": {
        "id": "EXDbyaGe33Xu",
        "colab": {
          "base_uri": "https://localhost:8080/"
        },
        "outputId": "1b377945-9e05-433a-9bc8-cbd163a5d2b7"
      },
      "source": [
        "#R Magic Command\n",
        "%load_ext rpy2.ipython"
      ],
      "execution_count": null,
      "outputs": [
        {
          "output_type": "stream",
          "text": [
            "/usr/local/lib/python3.6/dist-packages/rpy2/robjects/pandas2ri.py:14: FutureWarning: pandas.core.index is deprecated and will be removed in a future version.  The public classes are available in the top-level namespace.\n",
            "  from pandas.core.index import Index as PandasIndex\n",
            "/usr/local/lib/python3.6/dist-packages/rpy2/robjects/pandas2ri.py:34: UserWarning: pandas >= 1.0 is not supported.\n",
            "  warnings.warn('pandas >= 1.0 is not supported.')\n"
          ],
          "name": "stderr"
        }
      ]
    },
    {
      "cell_type": "code",
      "metadata": {
        "id": "KBEXzjyB383A",
        "colab": {
          "base_uri": "https://localhost:8080/"
        },
        "outputId": "ee7e9678-21b5-44da-9687-983caace64e5"
      },
      "source": [
        "%%R\n",
        "library(tidyverse)"
      ],
      "execution_count": null,
      "outputs": [
        {
          "output_type": "stream",
          "text": [
            "R[write to console]: ── Attaching packages ─────────────────────────────────────── tidyverse 1.3.0 ──\n",
            "\n",
            "R[write to console]: ✔ ggplot2 3.3.2     ✔ purrr   0.3.4\n",
            "✔ tibble  3.0.3     ✔ dplyr   1.0.2\n",
            "✔ tidyr   1.1.1     ✔ stringr 1.4.0\n",
            "✔ readr   1.3.1     ✔ forcats 0.5.0\n",
            "\n",
            "R[write to console]: ── Conflicts ────────────────────────────────────────── tidyverse_conflicts() ──\n",
            "✖ dplyr::filter() masks stats::filter()\n",
            "✖ dplyr::lag()    masks stats::lag()\n",
            "\n"
          ],
          "name": "stderr"
        }
      ]
    },
    {
      "cell_type": "markdown",
      "metadata": {
        "id": "9wtxKX6zVnmK"
      },
      "source": [
        "# **Day 3 (PRO) - Modeling with Real Data (Preprocessing / Feature Engineering)**"
      ]
    },
    {
      "cell_type": "code",
      "metadata": {
        "id": "ebRD5DKisDf4"
      },
      "source": [],
      "execution_count": null,
      "outputs": []
    },
    {
      "cell_type": "markdown",
      "metadata": {
        "id": "yipLFsEuru5A"
      },
      "source": [
        "## Python"
      ]
    },
    {
      "cell_type": "markdown",
      "metadata": {
        "id": "dOIrkq2oru5E"
      },
      "source": [
        "### Import Libraries"
      ]
    },
    {
      "cell_type": "code",
      "metadata": {
        "id": "ynN6BpF6ru5G"
      },
      "source": [
        "import numpy as np\n",
        "import pandas as pd\n",
        "import matplotlib.pyplot as plt\n",
        "import seaborn as sns"
      ],
      "execution_count": null,
      "outputs": []
    },
    {
      "cell_type": "markdown",
      "metadata": {
        "id": "XrS-kGvHru5X"
      },
      "source": [
        "### Datset"
      ]
    },
    {
      "cell_type": "code",
      "metadata": {
        "id": "F9pVUc3Sru5Z"
      },
      "source": [
        "from sklearn import datasets\n",
        "X, y = datasets.make_regression(n_samples = 1000, n_features = 20, n_targets=1, bias = 22, random_state=12)"
      ],
      "execution_count": null,
      "outputs": []
    },
    {
      "cell_type": "markdown",
      "metadata": {
        "id": "ecZ8N4Apru5g"
      },
      "source": [
        "### Exploratory Data Analysis"
      ]
    },
    {
      "cell_type": "markdown",
      "metadata": {
        "id": "PD4sHIqyru5h"
      },
      "source": [
        "### Preprocessing"
      ]
    },
    {
      "cell_type": "markdown",
      "metadata": {
        "id": "F5XAjCVUru5h"
      },
      "source": [
        "#### Data Conversion"
      ]
    },
    {
      "cell_type": "markdown",
      "metadata": {
        "id": "d1smOGA7ru5i"
      },
      "source": [
        "#### Categorical Variable"
      ]
    },
    {
      "cell_type": "markdown",
      "metadata": {
        "id": "abkZleJXru5j"
      },
      "source": [
        "#### Missing Value"
      ]
    },
    {
      "cell_type": "markdown",
      "metadata": {
        "id": "REwscsv6ru5j"
      },
      "source": [
        "#### Standardization"
      ]
    },
    {
      "cell_type": "markdown",
      "metadata": {
        "id": "O61hvbVDru5k"
      },
      "source": [
        "### Feature Engineering"
      ]
    },
    {
      "cell_type": "markdown",
      "metadata": {
        "id": "BKBWrxayru5l"
      },
      "source": [
        "#### Factor Extraction"
      ]
    },
    {
      "cell_type": "markdown",
      "metadata": {
        "id": "6dmvIGeOru5l"
      },
      "source": [
        "#### Train Test Split"
      ]
    },
    {
      "cell_type": "code",
      "metadata": {
        "id": "LR1pO_D9ru5m"
      },
      "source": [
        "X_train"
      ],
      "execution_count": null,
      "outputs": []
    },
    {
      "cell_type": "markdown",
      "metadata": {
        "id": "gZ8uHWYQru5p"
      },
      "source": [
        "### Model Building"
      ]
    },
    {
      "cell_type": "markdown",
      "metadata": {
        "id": "x_NhEIFjru5q"
      },
      "source": [
        "### Model Evaluation"
      ]
    },
    {
      "cell_type": "markdown",
      "metadata": {
        "id": "9GfQS3MZru5r"
      },
      "source": [
        "### Model Hyperparameter Tuning"
      ]
    },
    {
      "cell_type": "markdown",
      "metadata": {
        "id": "XVjwQdSfru5r"
      },
      "source": [
        "### Model Selection"
      ]
    },
    {
      "cell_type": "markdown",
      "metadata": {
        "id": "J8vtQlUkru5s"
      },
      "source": [
        "### Model Prediction"
      ]
    },
    {
      "cell_type": "markdown",
      "metadata": {
        "id": "izksB1bDru5s"
      },
      "source": [
        "### Interpretation"
      ]
    },
    {
      "cell_type": "markdown",
      "metadata": {
        "id": "PPU7NMLVru5t"
      },
      "source": [
        "## R"
      ]
    },
    {
      "cell_type": "markdown",
      "metadata": {
        "id": "pWurM7xfru5u"
      },
      "source": [
        "### Import Libraries"
      ]
    },
    {
      "cell_type": "code",
      "metadata": {
        "id": "mX77jnZ8ru5u",
        "colab": {
          "base_uri": "https://localhost:8080/",
          "height": 51
        },
        "outputId": "39cb6a8a-3a33-4c39-a9ed-91b9e50820da"
      },
      "source": [
        "#R Magic Command\n",
        "%load_ext rpy2.ipython"
      ],
      "execution_count": null,
      "outputs": [
        {
          "output_type": "stream",
          "text": [
            "The rpy2.ipython extension is already loaded. To reload it, use:\n",
            "  %reload_ext rpy2.ipython\n"
          ],
          "name": "stdout"
        }
      ]
    },
    {
      "cell_type": "code",
      "metadata": {
        "id": "cENKUw53ru51",
        "colab": {
          "base_uri": "https://localhost:8080/",
          "height": 204
        },
        "outputId": "eb9002cb-33bf-40d6-837d-082d3fa1d815"
      },
      "source": [
        "%%R\n",
        "library(tidyverse)"
      ],
      "execution_count": null,
      "outputs": [
        {
          "output_type": "stream",
          "text": [
            "R[write to console]: ── Attaching packages ─────────────────────────────────────── tidyverse 1.3.0 ──\n",
            "\n",
            "R[write to console]: ✔ ggplot2 3.3.2     ✔ purrr   0.3.4\n",
            "✔ tibble  3.0.3     ✔ dplyr   1.0.0\n",
            "✔ tidyr   1.1.0     ✔ stringr 1.4.0\n",
            "✔ readr   1.3.1     ✔ forcats 0.5.0\n",
            "\n",
            "R[write to console]: ── Conflicts ────────────────────────────────────────── tidyverse_conflicts() ──\n",
            "✖ dplyr::filter() masks stats::filter()\n",
            "✖ dplyr::lag()    masks stats::lag()\n",
            "\n"
          ],
          "name": "stderr"
        }
      ]
    },
    {
      "cell_type": "markdown",
      "metadata": {
        "id": "IjLYwfClYGWF"
      },
      "source": [
        "# Libraries and Codes Used"
      ]
    },
    {
      "cell_type": "markdown",
      "metadata": {
        "id": "CjsmggfBYNGH"
      },
      "source": [
        "## Python"
      ]
    },
    {
      "cell_type": "code",
      "metadata": {
        "id": "JJbIXOQc0XuG"
      },
      "source": [
        "from sklearn import datasets\n",
        "X, y = datasets.make_regression(n_samples = 1000, n_features = 20, n_targets=1, bias = 22, random_state=12)"
      ],
      "execution_count": null,
      "outputs": []
    },
    {
      "cell_type": "code",
      "metadata": {
        "id": "hizAHbTRg9oj",
        "colab": {
          "base_uri": "https://localhost:8080/",
          "height": 34
        },
        "outputId": "8bb6a090-dcdb-4f8b-facf-5e2bdd12602e"
      },
      "source": [
        "from sklearn.linear_model import LinearRegression\n",
        "linear = LinearRegression()\n",
        "linear"
      ],
      "execution_count": null,
      "outputs": [
        {
          "output_type": "execute_result",
          "data": {
            "text/plain": [
              "LinearRegression(copy_X=True, fit_intercept=True, n_jobs=None, normalize=False)"
            ]
          },
          "metadata": {
            "tags": []
          },
          "execution_count": 8
        }
      ]
    },
    {
      "cell_type": "code",
      "metadata": {
        "id": "ZjLtTC2lO6cR",
        "colab": {
          "base_uri": "https://localhost:8080/",
          "height": 51
        },
        "outputId": "02ca60b1-2fd5-46eb-88cd-15a90b50edbe"
      },
      "source": [
        "from sklearn.linear_model import Ridge\n",
        "ridge = Ridge()\n",
        "ridge"
      ],
      "execution_count": null,
      "outputs": [
        {
          "output_type": "execute_result",
          "data": {
            "text/plain": [
              "Ridge(alpha=1.0, copy_X=True, fit_intercept=True, max_iter=None,\n",
              "      normalize=False, random_state=None, solver='auto', tol=0.001)"
            ]
          },
          "metadata": {
            "tags": []
          },
          "execution_count": 9
        }
      ]
    },
    {
      "cell_type": "code",
      "metadata": {
        "id": "_yxs1lB4RNPO",
        "colab": {
          "base_uri": "https://localhost:8080/",
          "height": 68
        },
        "outputId": "50179e7e-2a93-4ea3-aa89-ca405181114d"
      },
      "source": [
        "from sklearn.linear_model import Lasso\n",
        "lasso = Lasso()\n",
        "lasso"
      ],
      "execution_count": null,
      "outputs": [
        {
          "output_type": "execute_result",
          "data": {
            "text/plain": [
              "Lasso(alpha=1.0, copy_X=True, fit_intercept=True, max_iter=1000,\n",
              "      normalize=False, positive=False, precompute=False, random_state=None,\n",
              "      selection='cyclic', tol=0.0001, warm_start=False)"
            ]
          },
          "metadata": {
            "tags": []
          },
          "execution_count": 10
        }
      ]
    },
    {
      "cell_type": "code",
      "metadata": {
        "id": "uNyerv-1RNVH",
        "colab": {
          "base_uri": "https://localhost:8080/",
          "height": 68
        },
        "outputId": "9dbb9140-2575-4aa0-bc25-738d4963701f"
      },
      "source": [
        "from sklearn.linear_model import ElasticNet\n",
        "elastic = ElasticNet()\n",
        "elastic"
      ],
      "execution_count": null,
      "outputs": [
        {
          "output_type": "execute_result",
          "data": {
            "text/plain": [
              "ElasticNet(alpha=1.0, copy_X=True, fit_intercept=True, l1_ratio=0.5,\n",
              "           max_iter=1000, normalize=False, positive=False, precompute=False,\n",
              "           random_state=None, selection='cyclic', tol=0.0001, warm_start=False)"
            ]
          },
          "metadata": {
            "tags": []
          },
          "execution_count": 11
        }
      ]
    },
    {
      "cell_type": "code",
      "metadata": {
        "id": "DfyTl7TSShjp",
        "colab": {
          "base_uri": "https://localhost:8080/",
          "height": 68
        },
        "outputId": "2c1b8061-d9ac-4f27-8296-0cdf839bddc3"
      },
      "source": [
        "linear.fit(X,y)\n",
        "ridge.fit(X,y)\n",
        "lasso.fit(X,y)\n",
        "elastic.fit(X,y)"
      ],
      "execution_count": null,
      "outputs": [
        {
          "output_type": "execute_result",
          "data": {
            "text/plain": [
              "ElasticNet(alpha=1.0, copy_X=True, fit_intercept=True, l1_ratio=0.5,\n",
              "           max_iter=1000, normalize=False, positive=False, precompute=False,\n",
              "           random_state=None, selection='cyclic', tol=0.0001, warm_start=False)"
            ]
          },
          "metadata": {
            "tags": []
          },
          "execution_count": 12
        }
      ]
    },
    {
      "cell_type": "code",
      "metadata": {
        "id": "Deuvk5etd5qJ"
      },
      "source": [
        "linear.coef_\n",
        "linear.intercept_\n",
        "linear.predict(X)"
      ],
      "execution_count": null,
      "outputs": []
    },
    {
      "cell_type": "code",
      "metadata": {
        "id": "OZQoWH9WeQ3v",
        "colab": {
          "base_uri": "https://localhost:8080/",
          "height": 51
        },
        "outputId": "7bc19a93-3ee6-4c59-de29-acad9678aeff"
      },
      "source": [
        "from sklearn.linear_model import RidgeCV\n",
        "ridgecv = RidgeCV()\n",
        "ridgecv"
      ],
      "execution_count": null,
      "outputs": [
        {
          "output_type": "execute_result",
          "data": {
            "text/plain": [
              "RidgeCV(alphas=array([ 0.1,  1. , 10. ]), cv=None, fit_intercept=True,\n",
              "        gcv_mode=None, normalize=False, scoring=None, store_cv_values=False)"
            ]
          },
          "metadata": {
            "tags": []
          },
          "execution_count": 10
        }
      ]
    },
    {
      "cell_type": "code",
      "metadata": {
        "id": "lhuuOmWVeQ7K",
        "colab": {
          "base_uri": "https://localhost:8080/",
          "height": 85
        },
        "outputId": "2c39cf98-f835-471e-ea79-9943c6c36454"
      },
      "source": [
        "from sklearn.linear_model import LassoCV\n",
        "lassocv = LassoCV()\n",
        "lassocv"
      ],
      "execution_count": null,
      "outputs": [
        {
          "output_type": "execute_result",
          "data": {
            "text/plain": [
              "LassoCV(alphas=None, copy_X=True, cv=None, eps=0.001, fit_intercept=True,\n",
              "        max_iter=1000, n_alphas=100, n_jobs=None, normalize=False,\n",
              "        positive=False, precompute='auto', random_state=None,\n",
              "        selection='cyclic', tol=0.0001, verbose=False)"
            ]
          },
          "metadata": {
            "tags": []
          },
          "execution_count": 13
        }
      ]
    },
    {
      "cell_type": "code",
      "metadata": {
        "id": "xT-CJnbUeQ_K",
        "colab": {
          "base_uri": "https://localhost:8080/",
          "height": 85
        },
        "outputId": "842c76e1-34e8-46b7-e72b-ad6c9a9623e0"
      },
      "source": [
        "from sklearn.linear_model import ElasticNetCV\n",
        "elasticcv = ElasticNetCV()\n",
        "elasticcv"
      ],
      "execution_count": null,
      "outputs": [
        {
          "output_type": "execute_result",
          "data": {
            "text/plain": [
              "ElasticNetCV(alphas=None, copy_X=True, cv=None, eps=0.001, fit_intercept=True,\n",
              "             l1_ratio=0.5, max_iter=1000, n_alphas=100, n_jobs=None,\n",
              "             normalize=False, positive=False, precompute='auto',\n",
              "             random_state=None, selection='cyclic', tol=0.0001, verbose=0)"
            ]
          },
          "metadata": {
            "tags": []
          },
          "execution_count": 12
        }
      ]
    },
    {
      "cell_type": "markdown",
      "metadata": {
        "id": "8ncBtKuBXwg_"
      },
      "source": [
        "# Reference"
      ]
    },
    {
      "cell_type": "markdown",
      "metadata": {
        "id": "uKLh2tQT2pM0"
      },
      "source": [
        "[Statistical forecasting: notes on regression and time series analysis](http://people.duke.edu/~rnau/411home.htm)"
      ]
    },
    {
      "cell_type": "markdown",
      "metadata": {
        "id": "Mp7dzwlc2Fpz"
      },
      "source": [
        "# Interiew Question"
      ]
    },
    {
      "cell_type": "code",
      "metadata": {
        "id": "eb-1XASjhRSA"
      },
      "source": [
        "# Q What does the y intercept tells in regression\n",
        "# The predicted value of Y when X = 0.(c)\n",
        "#\tThe estimated change in average Y per unit change in X\n",
        "#\tThe predicted value of Y\n",
        "#\tThe variation around the line of regression"
      ],
      "execution_count": null,
      "outputs": []
    },
    {
      "cell_type": "code",
      "metadata": {
        "id": "oYBwgHPMhkJo"
      },
      "source": [
        "# Q What does the standard error of the estimate measure?\n",
        "#\tThe total variation of the Y variable\n",
        "#\tThe variation around the regression line (c)\n",
        "#\tThe explained variation\n",
        "#\tThe variation of the X variable"
      ],
      "execution_count": null,
      "outputs": []
    },
    {
      "cell_type": "code",
      "metadata": {
        "id": "rudsL1gAiX8p"
      },
      "source": [
        "Q What information is contained in the coefficient of determination?\n",
        "# The coefficient of correlation is larger than one\n",
        "#\tWhether r has any significance\n",
        "#\tWe should not partition the total variation\n",
        "#\tThe proportion of total variation in Y that is explained by X (c)\n"
      ],
      "execution_count": null,
      "outputs": []
    },
    {
      "cell_type": "code",
      "metadata": {
        "id": "RVWPN63eiYFB"
      },
      "source": [
        "# Q What do residuals represent?\n",
        "# The difference between the actual Y values and the mean of Y.\n",
        "#\tThe difference between the actual Y values and the predicted Y values. (c)\n",
        "#\tThe square root of the slope.\n",
        "#\tThe predicted value of Y for the average X value."
      ],
      "execution_count": null,
      "outputs": []
    },
    {
      "cell_type": "code",
      "metadata": {
        "id": "Q2qiX3eGVBmZ"
      },
      "source": [
        "# Q Ridge Regression is a technique for analyzing multiple regression data that suffer from multicollinearity\n",
        "# True (C)\n",
        "# False"
      ],
      "execution_count": null,
      "outputs": []
    },
    {
      "cell_type": "code",
      "metadata": {
        "id": "9yWD2irAVhqn"
      },
      "source": [
        "# Q Correct statement about Adj-R sq\n",
        "# adjusted for the number of predictors in the model\n",
        "# incorporates model’s degree of freedom\n",
        "# increases if the new term improves the model accuracy\n",
        "# all of the above (C)"
      ],
      "execution_count": null,
      "outputs": []
    },
    {
      "cell_type": "code",
      "metadata": {
        "id": "tgppdX5cayDT"
      },
      "source": [
        "# Q What is the range of alpha in ridge regression\n",
        "# 0 - 1\n",
        "# 0 - 10\n",
        "# 0 - 100\n",
        "# 0 - inf (C)\n",
        "# Exp : setting λ to 0 is the same as using the OLS, while the larger its value, the stronger is the coefficients' size penalized."
      ],
      "execution_count": null,
      "outputs": []
    },
    {
      "cell_type": "code",
      "metadata": {
        "id": "RvRfWxXmblrT"
      },
      "source": [
        "# Q as alpha increase in ridge regression then\n",
        "# the variance decreases, and the bias increases (C)\n",
        "# the variance increase, and the bias decrease \n",
        "# the variance decreases, and the bias decrease\n",
        "# the variance increase, and the bias increases"
      ],
      "execution_count": null,
      "outputs": []
    },
    {
      "cell_type": "code",
      "metadata": {
        "id": "787IEeNpc4yB"
      },
      "source": [
        "# Q In ridge regression assumes the predictors to be scaled to z-scores because\n",
        "# scaling ensures that the penalty term penalizes each coefficient equally\n",
        "# If the predictors are not standardized, their standard deviations are not all equal to one\n",
        "# none of the above\n",
        "# all of the above (C)"
      ],
      "execution_count": null,
      "outputs": []
    },
    {
      "cell_type": "code",
      "metadata": {
        "id": "LOL-J1vjd7cG"
      },
      "source": [
        "# Q Which is correct option\n",
        "# Least Absolute Shrinkage and Selection Operator penalizes the sum of coefficients absolute values (L1 penalty)\n",
        "# ridge regression penalizes sum of squared coefficients (the so-called L2 penalty) \n",
        "# for high values of alpha many coefficients are exactly zeroed under lasso \n",
        "# for high values of alpha coefficients are never zero in ridge regression"
      ],
      "execution_count": null,
      "outputs": []
    },
    {
      "cell_type": "code",
      "metadata": {
        "id": "NZKHDo-qjoSX",
        "colab": {
          "base_uri": "https://localhost:8080/",
          "height": 68
        },
        "outputId": "22c10ed0-030e-4dff-eae7-f75a5221e72d"
      },
      "source": [
        "# Q A candy bar manufacturer is interested in estimating how sales are influenced by the price of their product. They randomly choose 7 cities of similar characteristics and offer a candy bar at different prices in each of them, then collect the following data\n",
        "# City = [Delhi, Mumbai, Hyderabad, Chennai, Pune, Banglore, Chandigarh]\n",
        "# Price = [2, 2.4, 3.2, 1.8, 2.2, 2.6, 1.9]\n",
        "# Sales = [100, 80, 60, 120, 95, 65, 115]\n",
        "#  If candy bar sales are the dependent variable (Y) and the company conducts a simple linear regression, what is the estimated slope parameter for the candy bar price and sales data?\n",
        "from sklearn import linear_model\n",
        "import numpy as np\n",
        "reg = linear_model.LinearRegression()\n",
        "X = np.array([2, 2.4, 3.2, 1.8, 2.2, 2.6, 1.9]).reshape(-1,1)\n",
        "reg.fit(X, [100, 80, 60, 120, 95, 65, 115])\n",
        "print(reg.coef_)\n",
        "print(reg.intercept_)\n",
        "\n",
        "# Q What is the sales of candy a price Rs 3\n",
        "y =  reg.intercept_ + 3*(reg.coef_)\n",
        "y\n"
      ],
      "execution_count": null,
      "outputs": [
        {
          "output_type": "stream",
          "text": [
            "[-45.07042254]\n",
            "194.37625754527164\n"
          ],
          "name": "stdout"
        },
        {
          "output_type": "execute_result",
          "data": {
            "text/plain": [
              "array([59.16498994])"
            ]
          },
          "metadata": {
            "tags": []
          },
          "execution_count": 26
        }
      ]
    },
    {
      "cell_type": "code",
      "metadata": {
        "id": "KaDmMQldSJ0-",
        "colab": {
          "base_uri": "https://localhost:8080/",
          "height": 34
        },
        "outputId": "f0944985-855c-4154-944a-671a3e3995c0"
      },
      "source": [
        "# Q What is the coefficient of simple linear regression of X,y = ([[0, 0], [1, 1], [2, 2]], [0, 1, 2])\n",
        "\n",
        "from sklearn import linear_model\n",
        "reg = linear_model.LinearRegression()\n",
        "reg.fit([[0, 0], [1, 1], [2, 2]], [0, 1, 2])\n",
        "\n",
        "reg.coef_"
      ],
      "execution_count": null,
      "outputs": [
        {
          "output_type": "execute_result",
          "data": {
            "text/plain": [
              "array([0.5, 0.5])"
            ]
          },
          "metadata": {
            "tags": []
          },
          "execution_count": 1
        }
      ]
    },
    {
      "cell_type": "code",
      "metadata": {
        "id": "rGXY41v4SJ4j",
        "colab": {
          "base_uri": "https://localhost:8080/",
          "height": 34
        },
        "outputId": "bbc513b0-aea5-45df-ec7d-104663180bb9"
      },
      "source": [
        "# Q What is the coefficient of ridge regression of X,y = ([[0, 0], [0, 0], [1, 1]], [0, .1, 2]) at alpha = 1\n",
        "from sklearn import linear_model\n",
        "reg = linear_model.Ridge(alpha= 1)\n",
        "reg.fit([[0, 0], [0, 0], [1, 1]], [0, .1, 2])\n",
        "\n",
        "reg.coef_"
      ],
      "execution_count": null,
      "outputs": [
        {
          "output_type": "execute_result",
          "data": {
            "text/plain": [
              "array([0.55714286, 0.55714286])"
            ]
          },
          "metadata": {
            "tags": []
          },
          "execution_count": 2
        }
      ]
    },
    {
      "cell_type": "code",
      "metadata": {
        "id": "UgPyhHB0SJ7j",
        "colab": {
          "base_uri": "https://localhost:8080/",
          "height": 34
        },
        "outputId": "ff4cbc9a-43ed-4b83-e140-cea6efcc03cc"
      },
      "source": [
        "# Q What is the coefficient of lasso regression of X,y = ([[0, 0], [1, 1]], [0, 1]) at alpha = 0.1\n",
        "from sklearn import linear_model\n",
        "reg = linear_model.Lasso(alpha=0.1)\n",
        "reg.fit([[0, 0], [1, 1]], [0, 1])\n",
        "\n",
        "reg.predict([[1, 1]])"
      ],
      "execution_count": null,
      "outputs": [
        {
          "output_type": "execute_result",
          "data": {
            "text/plain": [
              "array([0.8])"
            ]
          },
          "metadata": {
            "tags": []
          },
          "execution_count": 9
        }
      ]
    },
    {
      "cell_type": "code",
      "metadata": {
        "id": "yhW3IaZYSEh4",
        "colab": {
          "base_uri": "https://localhost:8080/",
          "height": 34
        },
        "outputId": "0fbf10d5-d487-4b56-866a-30a021394463"
      },
      "source": [
        "# Q3. What is coefficients of Linear Regression\n",
        "from sklearn import linear_model\n",
        "from sklearn import datasets\n",
        "X, y = datasets.make_regression(n_samples = 1000, n_features = 2, n_targets=1, bias = 22, random_state=231)\n",
        "reg = linear_model.LinearRegression()\n",
        "reg.fit(X,y)\n",
        "reg.coef_"
      ],
      "execution_count": null,
      "outputs": [
        {
          "output_type": "execute_result",
          "data": {
            "text/plain": [
              "array([19.96527514, 74.94024527])"
            ]
          },
          "metadata": {
            "tags": []
          },
          "execution_count": 19
        }
      ]
    },
    {
      "cell_type": "code",
      "metadata": {
        "id": "OZ9DHjTPmv08",
        "colab": {
          "base_uri": "https://localhost:8080/",
          "height": 34
        },
        "outputId": "6b966e69-4273-4f33-a481-0f87f74d01f6"
      },
      "source": [
        "# Q3. What is coefficients of ridge regression\n",
        "from sklearn import linear_model\n",
        "from sklearn import datasets\n",
        "X, y = datasets.make_regression(n_samples = 1000, n_features = 2, n_targets=1, bias = 22, random_state=111)\n",
        "reg = linear_model.Ridge()\n",
        "reg.fit(X,y)\n",
        "reg.coef_"
      ],
      "execution_count": null,
      "outputs": [
        {
          "output_type": "execute_result",
          "data": {
            "text/plain": [
              "array([59.00652908,  3.52060773])"
            ]
          },
          "metadata": {
            "tags": []
          },
          "execution_count": 20
        }
      ]
    }
  ]
}